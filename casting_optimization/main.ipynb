{
 "cells": [
  {
   "cell_type": "code",
   "execution_count": 1,
   "metadata": {},
   "outputs": [
    {
     "name": "stdout",
     "output_type": "stream",
     "text": [
      "cpu\n"
     ]
    }
   ],
   "source": [
    "import pandas as pd\n",
    "import numpy as np\n",
    "import warnings\n",
    "warnings.filterwarnings(action='ignore')\n",
    "\n",
    "from casting.configuration import paths, columns, params\n",
    "from casting.preprocessing import (\n",
    "                                   drop_null, \n",
    "                                   split_by_dbscan,\n",
    "                                   remove_outlier,\n",
    "                                   save_scaler,\n",
    "                                   save_label_encoding)\n",
    "from casting.utils import load_data\n",
    "\n",
    "\n",
    "from casting.trainner import train_xgboost, train_lightgbm, train_extra_trees, train_tabnet, train_FTT, FttDataloader\n",
    "from sklearn.metrics import f1_score, precision_score, recall_score, accuracy_score, confusion_matrix\n",
    "\n",
    "\n",
    "from torch.utils.data import DataLoader\n",
    "import torch\n",
    "\n",
    "device = torch.device(\"cuda\" if torch.cuda.is_available() else \"cpu\")\n",
    "\n",
    "import pandas as pd\n",
    "pd.set_option('display.max_columns', None) ## 모든 열을 출력한다\n",
    "import matplotlib.pyplot as plt\n",
    "from matplotlib import font_manager, rc\n",
    "font_manager.fontManager.addfont('NanumGothic-Bold.ttf')\n",
    "plt.rc('font', family='NanumGothic')"
   ]
  },
  {
   "cell_type": "code",
   "execution_count": 2,
   "metadata": {},
   "outputs": [],
   "source": [
    "data_origin = pd.read_csv(paths.origin_path, encoding = 'euc-kr')\n",
    "data = data_origin[columns.use_columns]"
   ]
  },
  {
   "cell_type": "markdown",
   "metadata": {},
   "source": [
    "# Preprocessing"
   ]
  },
  {
   "cell_type": "markdown",
   "metadata": {},
   "source": [
    "### base"
   ]
  },
  {
   "cell_type": "code",
   "execution_count": 3,
   "metadata": {},
   "outputs": [],
   "source": [
    "## null 값 제외\n",
    "data = drop_null(data).reset_index(drop=True)\n",
    "## 이상치 제거\n",
    "data = remove_outlier(data)\n",
    "\n",
    "\n",
    "if params.model_name == 'FTT':\n",
    "    ## 스케일러 생성\n",
    "    save_scaler(data, \n",
    "                columns.numeric_columns, \n",
    "                columns.target_column,\n",
    "                paths.X_scaler_path,\n",
    "                paths.y_scaler_path\n",
    "                )\n",
    "    ## 카테고리 컬럼 처리를 위한 라벨 인코딩\n",
    "    save_label_encoding(data, columns.category_columns, paths.label_encoding_path)\n",
    "\n",
    "    split_by_dbscan(data, 'casting/data/scaled_data/')\n",
    "else :\n",
    "    ## 데이터 분리\n",
    "    split_by_dbscan(data, 'casting/data/processed_data/')"
   ]
  },
  {
   "cell_type": "markdown",
   "metadata": {},
   "source": [
    "# Predictor"
   ]
  },
  {
   "cell_type": "markdown",
   "metadata": {},
   "source": [
    "### load_data"
   ]
  },
  {
   "cell_type": "code",
   "execution_count": 4,
   "metadata": {},
   "outputs": [],
   "source": [
    "train, valid, test = load_data(params.model_name)"
   ]
  },
  {
   "cell_type": "markdown",
   "metadata": {},
   "source": [
    "### Modeling"
   ]
  },
  {
   "cell_type": "code",
   "execution_count": 5,
   "metadata": {},
   "outputs": [
    {
     "name": "stdout",
     "output_type": "stream",
     "text": [
      "[LightGBM] [Warning] Met categorical feature which contains sparse values. Consider renumbering to consecutive integers started from zero\n",
      "[LightGBM] [Info] Number of positive: 2586, number of negative: 59825\n",
      "[LightGBM] [Info] Auto-choosing row-wise multi-threading, the overhead of testing was 0.001576 seconds.\n",
      "You can set `force_row_wise=true` to remove the overhead.\n",
      "And if memory is not enough, you can set `force_col_wise=true`.\n",
      "[LightGBM] [Info] Total Bins 2397\n",
      "[LightGBM] [Info] Number of data points in the train set: 62411, number of used features: 18\n",
      "[LightGBM] [Info] [binary:BoostFromScore]: pavg=0.041435 -> initscore=-3.141311\n",
      "[LightGBM] [Info] Start training from score -3.141311\n"
     ]
    }
   ],
   "source": [
    "## TODO : 모듈 형식으로 모델 GATEWAY 함수 구성\n",
    "## TODO : AUTO ML 넣어서 제일 좋은 성능을 Select하는 형식\n",
    "\n",
    "if params.model_name == 'LGBM' :\n",
    "    model = train_lightgbm(train, valid)\n",
    "elif params.model_name == 'XGB' :\n",
    "    model = train_xgboost(train, valid)\n",
    "elif params.model_name == 'EXT' :\n",
    "    model = train_extra_trees(train, valid)\n",
    "elif params.model_name == 'TABNET' :\n",
    "    model = train_tabnet(train, valid)\n",
    "## GPU 환경 필수\n",
    "elif params.model_name == 'FTT' :\n",
    "    model = train_FTT(train, valid)"
   ]
  },
  {
   "cell_type": "markdown",
   "metadata": {},
   "source": [
    "### inference"
   ]
  },
  {
   "cell_type": "code",
   "execution_count": 6,
   "metadata": {},
   "outputs": [
    {
     "data": {
      "image/png": "[encoded data removed]",
      "text/plain": [
       "<Figure size 600x400 with 1 Axes>"
      ]
     },
     "metadata": {},
     "output_type": "display_data"
    },
    {
     "name": "stdout",
     "output_type": "stream",
     "text": [
      "F1 Score: 0.9028\n",
      "accuracy_score: 0.9922\n",
      "precision_score: 0.9420\n",
      "recall_score: 0.8667\n"
     ]
    }
   ],
   "source": [
    "import matplotlib.pyplot as plt\n",
    "import seaborn as sns\n",
    "# 혼동 행렬 계산\n",
    "\n",
    "## FTT 모델일때 inference\n",
    "if params.model_name == 'FTT' :\n",
    "    test_data = FttDataloader(test)\n",
    "    test_loader = DataLoader(test_data, batch_size=len(test), shuffle=False)\n",
    "\n",
    "    model.to(device)\n",
    "    model.eval()\n",
    "    all_pred = []\n",
    "    all_y = []\n",
    "    x_samples = []\n",
    "    with torch.no_grad():\n",
    "        cul_loss = 0  # SE\n",
    "        count = 0\n",
    "        for batch, (x_categ, x_numer, y) in enumerate(test_loader):\n",
    "            x_categ, x_numer, y = x_categ.to(device), x_numer.to(device), y.to(device)\n",
    "            # 예측 오류 계산\n",
    "            pred = model(x_categ, x_numer)\n",
    "            pred = pred.cpu().detach().numpy()\n",
    "            y = y.cpu().detach().numpy()\n",
    "            all_pred.extend(pred)\n",
    "            all_y.extend(y)\n",
    "\n",
    "    all_pred = np.array(all_pred)\n",
    "    all_y = np.array(all_y)\n",
    "\n",
    "    y_test = pd.DataFrame(np.array(all_y)) \n",
    "    y_pred = pd.DataFrame(np.array(all_pred)).round(1).astype(int)\n",
    "## 그외 모델일때\n",
    "else :\n",
    "\n",
    "    X_test, y_test = test[columns.input_columns], test[columns.target_column]\n",
    "    \n",
    "\n",
    "    y_pred = model.predict(X_test.values)\n",
    "    test_cm = confusion_matrix(y_test, y_pred)\n",
    "\n",
    "    # 혼동 행렬 계산\n",
    "    cm = confusion_matrix(y_test, y_pred)\n",
    "\n",
    "    # 혼동 행렬 시각화\n",
    "    plt.figure(figsize=(6, 4))\n",
    "    sns.heatmap(cm, annot=True, fmt='d', cmap='Blues', cbar=False)\n",
    "    plt.xlabel('Predicted Labels')\n",
    "    plt.ylabel('True Labels')\n",
    "    plt.title('Confusion Matrix')\n",
    "    plt.show()\n",
    "\n",
    "# 점수 계산\n",
    "f1 = f1_score(y_test, y_pred)\n",
    "print(f'F1 Score: {f1:.4f}')\n",
    "\n",
    "acc = accuracy_score(y_test, y_pred)\n",
    "print(f'accuracy_score: {acc:.4f}')\n",
    "\n",
    "ps = precision_score(y_test, y_pred)\n",
    "print(f'precision_score: {ps:.4f}')\n",
    "\n",
    "rs = recall_score(y_test, y_pred)\n",
    "print(f'recall_score: {rs:.4f}')\n"
   ]
  },
  {
   "cell_type": "markdown",
   "metadata": {},
   "source": [
    "# Postprocessing"
   ]
  },
  {
   "cell_type": "markdown",
   "metadata": {},
   "source": [
    "## 유민님 작업 공간"
   ]
  },
  {
   "cell_type": "markdown",
   "metadata": {},
   "source": [
    "# Prescriptor"
   ]
  },
  {
   "cell_type": "code",
   "execution_count": 102,
   "metadata": {},
   "outputs": [
    {
     "data": {
      "text/html": [
       "<div><span class=\"Text-label\" style=\"display:inline-block; overflow:hidden; white-space:nowrap; text-overflow:ellipsis; min-width:0; max-width:15ex; vertical-align:middle; text-align:right\"></span>\n",
       "<progress style=\"width:60ex\" max=\"10000\" value=\"3679\" class=\"Progress-main\"/></progress>\n",
       "<span class=\"Progress-label\"><strong>37%</strong></span>\n",
       "<span class=\"Iteration-label\">2400/10000</span>\n",
       "<span class=\"Time-label\">[00:34<00:00, 0.01s/it]</span></div>"
      ],
      "text/plain": [
       "\u001b[A\u001b[2K\r [██████████████████████######################################] 3679/10000 [00:34<00:00, 0.01s/it]"
      ]
     },
     "metadata": {},
     "output_type": "display_data"
    },
    {
     "name": "stdout",
     "output_type": "stream",
     "text": [
      "best_energy 갱신\n",
      "0.49951734503477174\n",
      "초기해: [ 0 -1 -2 ...  1  0 -3], 초기 에너지: 0.020140428677014044\n",
      "최적해: [-0.8050517  -2.78817139 -2.54640849 ...  0.81764414 -1.13569512\n",
      " -2.23764578], 최적 에너지: 0.01977087952697709\n"
     ]
    }
   ],
   "source": [
    "import numpy as np\n",
    "from ipypb import ipb\n",
    "\n",
    "## 기준이 되는 값을 평균으로 정함\n",
    "## Context가 들어오면 Action초기 값은 평균으로 대체되고, 그 이후에 최적의 조합을 찾음\n",
    "lower_mold_temp2_init = test['lower_mold_temp2'].mean()\n",
    "cast_pressure_init = test['cast_pressure'].mean()\n",
    "molten_temp_init = test['molten_temp'].mean()\n",
    "\n",
    "context = test[columns.context_columns]\n",
    "\n",
    "def input_context(context):\n",
    "    ## 최적화 하고 싶은 context를 데이터 프레임 형태로 입력\n",
    "\n",
    "    df = context\n",
    "    df['lower_mold_temp2'] = lower_mold_temp2_init\n",
    "    df['cast_pressure'] = cast_pressure_init\n",
    "    df['molten_temp'] = molten_temp_init\n",
    "\n",
    "    return df\n",
    "\n",
    "def objective_function(solution):\n",
    "    \n",
    "    X_input = df[columns.input_columns].copy()\n",
    "    X_input['lower_mold_temp2'] += solution\n",
    "    X_input['cast_pressure'] += solution\n",
    "    X_input['molten_temp'] += solution\n",
    "\n",
    "    return model.predict(X_input).mean()\n",
    "\n",
    "def init_function(X_test) :\n",
    "    return model.predict(X_test).mean()\n",
    "\n",
    "## 컨텍스트 입력 \n",
    "## TODO : class화 해서 self로 받을 것\n",
    "df = input_context(context)\n",
    "X_test = df[columns.input_columns]\n",
    "\n",
    "def simulated_annealing(initial_temp, cooling_rate, max_iterations):\n",
    "\n",
    "    current_solution = np.random.randint(-3, 3, len(X_test))  # 초기 해\n",
    "    current_energy = objective_function(current_solution)\n",
    "\n",
    "    init_solution = current_solution\n",
    "    init_energy  = init_function(X_test)\n",
    "\n",
    "    best_solution = current_solution\n",
    "    best_energy = init_function(X_test)\n",
    "    \n",
    "    temp = initial_temp\n",
    "\n",
    "    for _ in ipb(range(max_iterations)):\n",
    "        # 온도에 비례하여 탐색 범위를 줄이기 위한 인자 설정\n",
    "        neighbor_range = temp / initial_temp * 20\n",
    "        new_solution = current_solution + np.random.normal(-neighbor_range, neighbor_range, len(X_test))\n",
    "        new_energy = objective_function(new_solution)\n",
    "\n",
    "        if neighbor_range < 0.5:\n",
    "            print(neighbor_range)\n",
    "            break\n",
    "\n",
    "        \n",
    "        # 결과 출력 (에너지 변화 추적)\n",
    "        # print(f\"Iteration {iteration}: Current Energy: {current_energy}, New Energy: {new_energy}\")\n",
    "        # print(best_energy)\n",
    "\n",
    "        # 에너지 변화 조건에 따라 새로운 해 수용\n",
    "        if new_energy < current_energy:\n",
    "            current_solution = new_solution\n",
    "            current_energy = new_energy\n",
    "\n",
    "            if current_energy < best_energy:\n",
    "                print('best_energy 갱신')\n",
    "                best_solution = current_solution\n",
    "                best_energy = current_energy\n",
    "\n",
    "        # 온도 감소\n",
    "        temp *= cooling_rate\n",
    "\n",
    "    return init_solution, init_energy, best_solution, best_energy\n",
    "\n",
    "# 파라미터 설정\n",
    "initial_temperature = 1000\n",
    "cooling_rate = 0.999\n",
    "max_iterations = 10000\n",
    "\n",
    "# Simulated Annealing 실행\n",
    "init_solution, init_energy, best_solution, best_energy = simulated_annealing(\n",
    "    initial_temperature, cooling_rate, max_iterations)\n",
    "\n",
    "print(f\"초기해: {init_solution}, 초기 에너지: {init_energy}\")\n",
    "print(f\"최적해: {best_solution}, 최적 에너지: {best_energy}\")\n"
   ]
  },
  {
   "cell_type": "code",
   "execution_count": 103,
   "metadata": {},
   "outputs": [],
   "source": [
    "## 최적화 결과 비교\n",
    "\n",
    "X_test_origin, y_test = test[columns.input_columns], test[columns.target_column]\n",
    "X_test = X_test_origin.copy()\n",
    "\n",
    "X_test['lower_mold_temp2'] += best_solution\n",
    "X_test['cast_pressure'] += best_solution\n",
    "X_test['molten_temp'] += best_solution"
   ]
  },
  {
   "cell_type": "code",
   "execution_count": 105,
   "metadata": {},
   "outputs": [
    {
     "data": {
      "image/png": "[encoded data removed]",
      "text/plain": [
       "<Figure size 640x480 with 1 Axes>"
      ]
     },
     "metadata": {},
     "output_type": "display_data"
    }
   ],
   "source": [
    "# 예측 결과 생성\n",
    "pred_origin = model.predict(X_test_origin)  # 기존 예측 결과\n",
    "pred_test = model.predict(X_test)  # 새로운 예측 결과\n",
    "\n",
    "# 각 예측 결과에서 0과 1의 개수 계산\n",
    "count_origin = [np.sum(pred_origin == 0), np.sum(pred_origin == 1)]\n",
    "count_test = [np.sum(pred_test == 0), np.sum(pred_test == 1)]\n",
    "\n",
    "# 막대 그래프 데이터 준비\n",
    "labels = ['0', '1']\n",
    "x = np.arange(len(labels))  # x축 위치\n",
    "\n",
    "# 그래프 그리기\n",
    "width = 0.35  # 막대 너비\n",
    "\n",
    "fig, ax = plt.subplots()\n",
    "bars1 = ax.bar(x - width/2, count_origin, width, label='기존 예측 결과')\n",
    "bars2 = ax.bar(x + width/2, count_test, width, label='최적화 후 예측 결과')\n",
    "\n",
    "# 라벨 추가\n",
    "ax.set_xlabel('예측 결과')\n",
    "ax.set_ylabel('개수')\n",
    "ax.set_title('0과 1의 예측 개수 비교')\n",
    "ax.set_xticks(x)\n",
    "ax.set_xticklabels(labels)\n",
    "ax.legend()\n",
    "\n",
    "# 각 막대에 값 표시\n",
    "for bar in bars1:\n",
    "    yval = bar.get_height()\n",
    "    ax.text(bar.get_x() + bar.get_width()/2, yval, int(yval), ha='center', va='bottom')\n",
    "\n",
    "for bar in bars2:\n",
    "    yval = bar.get_height()\n",
    "    ax.text(bar.get_x() + bar.get_width()/2, yval, int(yval), ha='center', va='bottom')\n",
    "\n",
    "plt.tight_layout()\n",
    "plt.show()\n"
   ]
  },
  {
   "cell_type": "code",
   "execution_count": null,
   "metadata": {},
   "outputs": [],
   "source": []
  }
 ],
 "metadata": {
  "kernelspec": {
   "display_name": "Python 3",
   "language": "python",
   "name": "python3"
  },
  "language_info": {
   "codemirror_mode": {
    "name": "ipython",
    "version": 3
   },
   "file_extension": ".py",
   "mimetype": "text/x-python",
   "name": "python",
   "nbconvert_exporter": "python",
   "pygments_lexer": "ipython3",
   "version": "3.8.13"
  }
 },
 "nbformat": 4,
 "nbformat_minor": 2
}
