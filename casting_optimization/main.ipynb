{
 "cells": [
  {
   "cell_type": "code",
   "execution_count": 1,
   "metadata": {},
   "outputs": [
    {
     "name": "stdout",
     "output_type": "stream",
     "text": [
      "cuda\n",
      "True\n",
      "devece: cuda\n",
      "torch version: 2.0.1+cu117\n"
     ]
    }
   ],
   "source": [
    "import pandas as pd\n",
    "import numpy as np\n",
    "import warnings\n",
    "warnings.filterwarnings(action='ignore')\n",
    "\n",
    "from casting.configuration import paths, columns, params\n",
    "from casting.preprocessing import (\n",
    "                                   drop_null, \n",
    "                                   split_by_dbscan,\n",
    "                                   remove_outlier,\n",
    "                                   save_scaler,\n",
    "                                   save_label_encoding)\n",
    "from casting.utils import load_data\n",
    "\n",
    "\n",
    "from casting.trainner import train_xgboost, train_lightgbm, train_extra_trees, train_tabnet, train_FTT, FttDataloader\n",
    "from sklearn.metrics import f1_score, precision_score, recall_score, accuracy_score, confusion_matrix\n",
    "\n",
    "\n",
    "from torch.utils.data import DataLoader\n",
    "import torch\n",
    "\n",
    "device = torch.device(\"cuda\" if torch.cuda.is_available() else \"cpu\")\n",
    "print(torch.cuda.is_available())\n",
    "print('devece:', device)\n",
    "print('torch version:', torch.__version__)\n",
    "\n",
    "import pandas as pd\n",
    "pd.set_option('display.max_columns', None) ## 모든 열을 출력한다\n",
    "import matplotlib.pyplot as plt\n",
    "from matplotlib import font_manager, rc\n",
    "font_manager.fontManager.addfont('NanumGothic-Bold.ttf')\n",
    "plt.rc('font', family='NanumGothic')"
   ]
  },
  {
   "cell_type": "code",
   "execution_count": 2,
   "metadata": {},
   "outputs": [],
   "source": [
    "data_origin = pd.read_csv(paths.origin_path, encoding = 'euc-kr')\n",
    "data = data_origin[columns.use_columns]"
   ]
  },
  {
   "cell_type": "markdown",
   "metadata": {},
   "source": [
    "# Preprocessing"
   ]
  },
  {
   "cell_type": "markdown",
   "metadata": {},
   "source": [
    "### base"
   ]
  },
  {
   "cell_type": "code",
   "execution_count": 4,
   "metadata": {},
   "outputs": [],
   "source": [
    "## null 값 제외\n",
    "data = drop_null(data).reset_index(drop=True)\n",
    "## 이상치 제거\n",
    "data = remove_outlier(data)\n",
    "\n",
    "\n",
    "if params.model_name == 'FTT':\n",
    "    ## 스케일러 생성\n",
    "    save_scaler(data, \n",
    "                columns.numeric_columns, \n",
    "                columns.target_column,\n",
    "                paths.X_scaler_path,\n",
    "                paths.y_scaler_path\n",
    "                )\n",
    "    ## 카테고리 컬럼 처리를 위한 라벨 인코딩\n",
    "    save_label_encoding(data, columns.category_columns, paths.label_encoding_path)\n",
    "\n",
    "    split_by_dbscan(data, 'casting/data/scaled_data/')\n",
    "else :\n",
    "    ## 데이터 분리\n",
    "    split_by_dbscan(data, 'casting/data/processed_data/')"
   ]
  },
  {
   "cell_type": "markdown",
   "metadata": {},
   "source": [
    "# Predictor"
   ]
  },
  {
   "cell_type": "markdown",
   "metadata": {},
   "source": [
    "### load_data"
   ]
  },
  {
   "cell_type": "code",
   "execution_count": 5,
   "metadata": {},
   "outputs": [],
   "source": [
    "train, valid, test = load_data(params.model_name)"
   ]
  },
  {
   "cell_type": "markdown",
   "metadata": {},
   "source": [
    "### Modeling"
   ]
  },
  {
   "cell_type": "code",
   "execution_count": 6,
   "metadata": {},
   "outputs": [
    {
     "name": "stdout",
     "output_type": "stream",
     "text": [
      "[LightGBM] [Warning] Met categorical feature which contains sparse values. Consider renumbering to consecutive integers started from zero\n",
      "[LightGBM] [Info] Number of positive: 2586, number of negative: 59825\n",
      "[LightGBM] [Info] Auto-choosing row-wise multi-threading, the overhead of testing was 0.003814 seconds.\n",
      "You can set `force_row_wise=true` to remove the overhead.\n",
      "And if memory is not enough, you can set `force_col_wise=true`.\n",
      "[LightGBM] [Info] Total Bins 2397\n",
      "[LightGBM] [Info] Number of data points in the train set: 62411, number of used features: 18\n",
      "[LightGBM] [Info] [binary:BoostFromScore]: pavg=0.041435 -> initscore=-3.141311\n",
      "[LightGBM] [Info] Start training from score -3.141311\n"
     ]
    }
   ],
   "source": [
    "## TODO : 모듈 형식으로 모델 GATEWAY 함수 구성\n",
    "## TODO : AUTO ML 넣어서 제일 좋은 성능을 Select하는 형식\n",
    "\n",
    "if params.model_name == 'LGBM' :\n",
    "    model = train_lightgbm(train, valid)\n",
    "elif params.model_name == 'XGB' :\n",
    "    model = train_xgboost(train, valid)\n",
    "elif params.model_name == 'EXT' :\n",
    "    model = train_extra_trees(train, valid)\n",
    "elif params.model_name == 'TABNET' :\n",
    "    model = train_tabnet(train, valid)\n",
    "## GPU 환경 필수\n",
    "elif params.model_name == 'FTT' :\n",
    "    model = train_FTT(train, valid)"
   ]
  },
  {
   "cell_type": "markdown",
   "metadata": {},
   "source": [
    "### inference"
   ]
  },
  {
   "cell_type": "code",
   "execution_count": 7,
   "metadata": {},
   "outputs": [
    {
     "data": {
      "image/png": "[encoded data removed]",
      "text/plain": [
       "<Figure size 432x288 with 1 Axes>"
      ]
     },
     "metadata": {
      "needs_background": "light"
     },
     "output_type": "display_data"
    },
    {
     "name": "stdout",
     "output_type": "stream",
     "text": [
      "F1 Score: 0.9028\n",
      "accuracy_score: 0.9922\n",
      "precision_score: 0.9420\n",
      "recall_score: 0.8667\n"
     ]
    }
   ],
   "source": [
    "import matplotlib.pyplot as plt\n",
    "import seaborn as sns\n",
    "# 혼동 행렬 계산\n",
    "\n",
    "## FTT 모델일때 inference\n",
    "if params.model_name == 'FTT' :\n",
    "    test_data = FttDataloader(test)\n",
    "    test_loader = DataLoader(test_data, batch_size=len(test), shuffle=False)\n",
    "\n",
    "    model.to(device)\n",
    "    model.eval()\n",
    "    all_pred = []\n",
    "    all_y = []\n",
    "    x_samples = []\n",
    "    with torch.no_grad():\n",
    "        cul_loss = 0  # SE\n",
    "        count = 0\n",
    "        for batch, (x_categ, x_numer, y) in enumerate(test_loader):\n",
    "            x_categ, x_numer, y = x_categ.to(device), x_numer.to(device), y.to(device)\n",
    "            # 예측 오류 계산\n",
    "            pred = model(x_categ, x_numer)\n",
    "            pred = pred.cpu().detach().numpy()\n",
    "            y = y.cpu().detach().numpy()\n",
    "            all_pred.extend(pred)\n",
    "            all_y.extend(y)\n",
    "\n",
    "    all_pred = np.array(all_pred)\n",
    "    all_y = np.array(all_y)\n",
    "\n",
    "    y_test = pd.DataFrame(np.array(all_y)) \n",
    "    y_pred = pd.DataFrame(np.array(all_pred)).round(1).astype(int)\n",
    "## 그외 모델일때\n",
    "else :\n",
    "\n",
    "    X_test, y_test = test[columns.input_columns], test[columns.target_column]\n",
    "    \n",
    "\n",
    "    y_pred = model.predict(X_test.values)\n",
    "    test_cm = confusion_matrix(y_test, y_pred)\n",
    "\n",
    "    # 혼동 행렬 계산\n",
    "    cm = confusion_matrix(y_test, y_pred)\n",
    "\n",
    "    # 혼동 행렬 시각화\n",
    "    plt.figure(figsize=(6, 4))\n",
    "    sns.heatmap(cm, annot=True, fmt='d', cmap='Blues', cbar=False)\n",
    "    plt.xlabel('Predicted Labels')\n",
    "    plt.ylabel('True Labels')\n",
    "    plt.title('Confusion Matrix')\n",
    "    plt.show()\n",
    "\n",
    "# 점수 계산\n",
    "f1 = f1_score(y_test, y_pred)\n",
    "print(f'F1 Score: {f1:.4f}')\n",
    "\n",
    "acc = accuracy_score(y_test, y_pred)\n",
    "print(f'accuracy_score: {acc:.4f}')\n",
    "\n",
    "ps = precision_score(y_test, y_pred)\n",
    "print(f'precision_score: {ps:.4f}')\n",
    "\n",
    "rs = recall_score(y_test, y_pred)\n",
    "print(f'recall_score: {rs:.4f}')\n"
   ]
  },
  {
   "cell_type": "markdown",
   "metadata": {},
   "source": [
    "# Postprocessing"
   ]
  },
  {
   "cell_type": "markdown",
   "metadata": {},
   "source": [
    "## 유민님 작업 공간"
   ]
  },
  {
   "cell_type": "markdown",
   "metadata": {},
   "source": [
    "# Prescriptor"
   ]
  },
  {
   "cell_type": "markdown",
   "metadata": {},
   "source": [
    "## Simulated Annealing"
   ]
  },
  {
   "cell_type": "code",
   "execution_count": 9,
   "metadata": {},
   "outputs": [],
   "source": [
    "import numpy as np\n",
    "from dataclasses import dataclass\n",
    "from typing import List, Tuple, Optional\n",
    "import pandas as pd\n",
    "from ipypb import ipb\n",
    "\n",
    "@dataclass\n",
    "class OptimizationConfig:\n",
    "    initial_temp: float = 1000.0\n",
    "    cooling_rate: float = 0.999\n",
    "    max_iterations: int = 10000\n",
    "    neighbor_range_threshold: float = 0.5\n",
    "\n",
    "class SimulatedAnnealing:\n",
    "    def __init__(\n",
    "        self,\n",
    "        model,\n",
    "        columns,\n",
    "        config: OptimizationConfig = OptimizationConfig()\n",
    "    ):\n",
    "        self.model = model\n",
    "        self.columns = columns\n",
    "        self.config = config\n",
    "        self.reset_parameters()\n",
    "\n",
    "    def reset_parameters(self):\n",
    "        \"\"\"initialization\"\"\"\n",
    "        self.best_solution = None\n",
    "        self.best_energy = float('inf')\n",
    "        self.current_solution = None\n",
    "        self.current_energy = float('inf')\n",
    "        self.init_solution = None\n",
    "        self.init_energy = float('inf')\n",
    "\n",
    "    def initialize_context(self, test_data: pd.DataFrame) -> pd.DataFrame:\n",
    "        \"\"\"context initialization\"\"\"\n",
    "        initial_values = {\n",
    "            'lower_mold_temp2': test_data['lower_mold_temp2'].mean(),\n",
    "            'cast_pressure': test_data['cast_pressure'].mean(),\n",
    "            'molten_temp': test_data['molten_temp'].mean()\n",
    "        }\n",
    "        \n",
    "        df = test_data[self.columns.context_columns].copy()\n",
    "        for col, val in initial_values.items():\n",
    "            df[col] = val\n",
    "            \n",
    "        return df\n",
    "\n",
    "    def objective_function(self, solution: np.ndarray, X_input: pd.DataFrame) -> float:\n",
    "        \"\"\"Objective function\"\"\"\n",
    "        X_modified = X_input.copy()\n",
    "\n",
    "        # 컬럼별로 다른 값을 더해줘야 함\n",
    "        X_modified['lower_mold_temp2'] += solution.T[0]\n",
    "        X_modified['cast_pressure'] += solution.T[1]\n",
    "        X_modified['molten_temp'] += solution.T[2]\n",
    "        return self.model.predict(X_modified).mean()\n",
    "\n",
    "    def generate_neighbor(\n",
    "        self, \n",
    "        current: np.ndarray, \n",
    "        temp: float, \n",
    "        initial_temp: float\n",
    "    ) -> np.ndarray:\n",
    "        \"\"\"Neighbor generation\"\"\"\n",
    "        neighbor_range = (temp / initial_temp) * 20\n",
    "        return current + np.random.normal(-neighbor_range, neighbor_range, (len(current),3)) # 3개의 컬럼에 대해 노이즈 추가\n",
    "\n",
    "    def optimize(\n",
    "        self, \n",
    "        test_data: pd.DataFrame, \n",
    "        progress_callback: Optional[callable] = None\n",
    "    ) -> Tuple[np.ndarray, float, np.ndarray, float]:\n",
    "\n",
    "        \"\"\"Optimization\"\"\"\n",
    "        df = self.initialize_context(test_data)\n",
    "        X_test = df[self.columns.input_columns]\n",
    "\n",
    "        # 초기 해 설정\n",
    "        self.current_solution = np.random.randint(-3, 3, (len(X_test),3)) # 3개의 컬럼에 대해 랜덤 초기값 설정\n",
    "        self.current_energy = self.objective_function(self.current_solution, X_test)\n",
    "        \n",
    "        # 초기값 저장\n",
    "        self.init_solution = self.current_solution.copy()\n",
    "        self.init_energy = self.objective_function(self.init_solution, X_test)\n",
    "        \n",
    "        # 최적값 초기화\n",
    "        self.best_solution = self.current_solution.copy()\n",
    "        self.best_energy = self.init_energy\n",
    "        \n",
    "        temp = self.config.initial_temp\n",
    "\n",
    "        for iteration in ipb(range(self.config.max_iterations)):\n",
    "            # neighbor solution generation\n",
    "            new_solution = self.generate_neighbor(\n",
    "                self.current_solution, \n",
    "                temp, \n",
    "                self.config.initial_temp\n",
    "            )\n",
    "            new_energy = self.objective_function(new_solution, X_test)\n",
    "\n",
    "            # neighbor solution accept\n",
    "            neighbor_range = (temp / self.config.initial_temp) * 20\n",
    "            if neighbor_range < self.config.neighbor_range_threshold:\n",
    "                break\n",
    "\n",
    "            # solution update\n",
    "            if new_energy < self.current_energy:\n",
    "                self.current_solution = new_solution\n",
    "                self.current_energy = new_energy\n",
    "\n",
    "                if self.current_energy < self.best_energy:\n",
    "                    self.best_solution = self.current_solution.copy()\n",
    "                    self.best_energy = self.current_energy\n",
    "                    print(f'Best energy updated: {self.best_energy}')\n",
    "\n",
    "            # temp cooling\n",
    "            temp *= self.config.cooling_rate\n",
    "\n",
    "            # callback\n",
    "            if progress_callback:\n",
    "                progress_callback(iteration, self.best_energy)\n",
    "\n",
    "        return (\n",
    "            self.init_solution,\n",
    "            self.init_energy,\n",
    "            self.best_solution,\n",
    "            self.best_energy\n",
    "        )\n",
    "    \n",
    "\n",
    "# callback function \n",
    "def progress_callback(iteration: int, best_energy: float):\n",
    "    if iteration % 1000 == 0:\n",
    "        print(f\"Iteration {iteration}: Best Energy = {best_energy}\")"
   ]
  },
  {
   "cell_type": "code",
   "execution_count": 10,
   "metadata": {},
   "outputs": [
    {
     "data": {
      "text/html": [
       "<div><span class=\"Text-label\" style=\"display:inline-block; overflow:hidden; white-space:nowrap; text-overflow:ellipsis; min-width:0; max-width:15ex; vertical-align:middle; text-align:right\"></span>\n",
       "<progress style=\"width:60ex\" max=\"10000\" value=\"3677\" class=\"Progress-main\"/></progress>\n",
       "<span class=\"Progress-label\"><strong>37%</strong></span>\n",
       "<span class=\"Iteration-label\">3600/10000</span>\n",
       "<span class=\"Time-label\">[00:31<00:00, 0.01s/it]</span></div>"
      ],
      "text/plain": [
       "\u001b[A\u001b[2K\r [██████████████████████######################################] 3677/10000 [00:31<00:00, 0.01s/it]"
      ]
     },
     "metadata": {},
     "output_type": "display_data"
    },
    {
     "name": "stdout",
     "output_type": "stream",
     "text": [
      "Iteration 0: Best Energy = 0.01977087952697709\n",
      "Iteration 1000: Best Energy = 0.01977087952697709\n",
      "Iteration 2000: Best Energy = 0.01977087952697709\n",
      "Iteration 3000: Best Energy = 0.01977087952697709\n",
      "Best energy updated: 0.01958610495195861\n",
      "초기해: [[ 2  1  2]\n",
      " [-3 -2 -2]\n",
      " [-3 -3 -1]\n",
      " ...\n",
      " [ 2  0 -1]\n",
      " [-3  0  0]\n",
      " [ 0  0 -1]], 초기 에너지: 0.01977087952697709\n",
      "최적해: [[ 5.31348909e-04 -1.40604235e+00  4.56221440e-01]\n",
      " [-2.72858104e+00 -4.05738592e+00 -6.37748789e+00]\n",
      " [-2.78534693e+00 -4.05665052e+00 -1.69391941e+00]\n",
      " ...\n",
      " [-7.47428552e-01 -7.34917621e-02 -1.34633196e+00]\n",
      " [-4.78265763e+00 -4.28917573e-03 -8.30277800e-01]\n",
      " [ 3.88877984e-01 -8.43948872e-01 -1.54047078e+00]], 최적 에너지: 0.01958610495195861\n"
     ]
    }
   ],
   "source": [
    "config = OptimizationConfig(\n",
    "    initial_temp=1000,\n",
    "    cooling_rate=0.999,\n",
    "    max_iterations=10000,\n",
    "    neighbor_range_threshold=0.5\n",
    ")\n",
    "\n",
    "optimizer = SimulatedAnnealing(model, columns, config)\n",
    "\n",
    "init_solution, init_energy, best_solution, best_energy = optimizer.optimize(\n",
    "    test,\n",
    "    progress_callback=progress_callback\n",
    ")\n",
    "\n",
    "print(f\"초기해: {init_solution}, 초기 에너지: {init_energy}\")\n",
    "print(f\"최적해: {best_solution}, 최적 에너지: {best_energy}\")"
   ]
  },
  {
   "cell_type": "code",
   "execution_count": 11,
   "metadata": {},
   "outputs": [],
   "source": [
    "## 최적화 결과 비교\n",
    "\n",
    "X_test_origin, y_test = test[columns.input_columns], test[columns.target_column]\n",
    "X_test = X_test_origin.copy()\n",
    "\n",
    "X_test['lower_mold_temp2'] += optimizer.best_solution.T[0]\n",
    "X_test['cast_pressure'] += optimizer.best_solution.T[1]\n",
    "X_test['molten_temp'] += optimizer.best_solution.T[2]"
   ]
  },
  {
   "cell_type": "code",
   "execution_count": 12,
   "metadata": {},
   "outputs": [
    {
     "data": {
      "image/png": "[encoded data removed]",
      "text/plain": [
       "<Figure size 432x288 with 1 Axes>"
      ]
     },
     "metadata": {
      "needs_background": "light"
     },
     "output_type": "display_data"
    }
   ],
   "source": [
    "# 예측 결과 생성\n",
    "pred_origin = model.predict(X_test_origin)  # 기존 예측 결과\n",
    "pred_test = model.predict(X_test)  # 새로운 예측 결과\n",
    "\n",
    "# 각 예측 결과에서 0과 1의 개수 계산\n",
    "count_origin = [np.sum(pred_origin == 0), np.sum(pred_origin == 1)]\n",
    "count_test = [np.sum(pred_test == 0), np.sum(pred_test == 1)]\n",
    "\n",
    "# 막대 그래프 데이터 준비\n",
    "labels = ['0', '1']\n",
    "x = np.arange(len(labels))  # x축 위치\n",
    "\n",
    "# 그래프 그리기\n",
    "width = 0.35  # 막대 너비\n",
    "\n",
    "fig, ax = plt.subplots()\n",
    "bars1 = ax.bar(x - width/2, count_origin, width, label='기존 예측 결과')\n",
    "bars2 = ax.bar(x + width/2, count_test, width, label='최적화 후 예측 결과')\n",
    "\n",
    "# 라벨 추가\n",
    "ax.set_xlabel('예측 결과')\n",
    "ax.set_ylabel('개수')\n",
    "ax.set_title('0과 1의 예측 개수 비교')\n",
    "ax.set_xticks(x)\n",
    "ax.set_xticklabels(labels)\n",
    "ax.legend()\n",
    "\n",
    "# 각 막대에 값 표시\n",
    "for bar in bars1:\n",
    "    yval = bar.get_height()\n",
    "    ax.text(bar.get_x() + bar.get_width()/2, yval, int(yval), ha='center', va='bottom')\n",
    "\n",
    "for bar in bars2:\n",
    "    yval = bar.get_height()\n",
    "    ax.text(bar.get_x() + bar.get_width()/2, yval, int(yval), ha='center', va='bottom')\n",
    "\n",
    "plt.tight_layout()\n",
    "plt.show()\n"
   ]
  },
  {
   "cell_type": "markdown",
   "metadata": {},
   "source": [
    "## Bayesian Optimization"
   ]
  },
  {
   "cell_type": "code",
   "execution_count": 13,
   "metadata": {},
   "outputs": [],
   "source": [
    "from bayes_opt import BayesianOptimization"
   ]
  },
  {
   "cell_type": "code",
   "execution_count": 31,
   "metadata": {},
   "outputs": [],
   "source": [
    "# bayesian optimization\n",
    "def predictor_function(lower_mold_temp2, cast_pressure, molten_temp):\n",
    "    X_test = test[columns.input_columns].copy()\n",
    "    X_test['lower_mold_temp2'] = lower_mold_temp2\n",
    "    X_test['cast_pressure'] = cast_pressure\n",
    "    X_test['molten_temp'] = molten_temp\n",
    "    return - model.predict(X_test).mean()\n",
    "\n",
    "# Bounded region of parameter space\n",
    "pbounds = {'lower_mold_temp2': (135, 333), 'cast_pressure': (300, 1000), 'molten_temp': (626, 735)}\n",
    "\n",
    "optimizer = BayesianOptimization(\n",
    "    f=predictor_function,\n",
    "    pbounds=pbounds,\n",
    "    verbose=2, # verbose = 1 prints only when a maximum is observed, verbose = 0 is silent\n",
    "    random_state=1,\n",
    ")\n"
   ]
  },
  {
   "cell_type": "code",
   "execution_count": 32,
   "metadata": {},
   "outputs": [
    {
     "name": "stdout",
     "output_type": "stream",
     "text": [
      "|   iter    |  target   | cast_p... | lower_... | molten... |\n",
      "-------------------------------------------------------------\n",
      "| \u001b[0m1        \u001b[0m | \u001b[0m-0.0146  \u001b[0m | \u001b[0m591.9    \u001b[0m | \u001b[0m277.6    \u001b[0m | \u001b[0m626.0    \u001b[0m |\n",
      "| \u001b[0m2        \u001b[0m | \u001b[0m-0.02033 \u001b[0m | \u001b[0m511.6    \u001b[0m | \u001b[0m164.1    \u001b[0m | \u001b[0m636.1    \u001b[0m |\n",
      "| \u001b[0m3        \u001b[0m | \u001b[0m-0.01737 \u001b[0m | \u001b[0m430.4    \u001b[0m | \u001b[0m203.4    \u001b[0m | \u001b[0m669.2    \u001b[0m |\n",
      "| \u001b[0m4        \u001b[0m | \u001b[0m-0.01774 \u001b[0m | \u001b[0m677.2    \u001b[0m | \u001b[0m218.0    \u001b[0m | \u001b[0m700.7    \u001b[0m |\n",
      "| \u001b[0m5        \u001b[0m | \u001b[0m-0.05562 \u001b[0m | \u001b[0m443.1    \u001b[0m | \u001b[0m308.9    \u001b[0m | \u001b[0m629.0    \u001b[0m |\n",
      "| \u001b[0m6        \u001b[0m | \u001b[0m-0.02014 \u001b[0m | \u001b[0m509.3    \u001b[0m | \u001b[0m165.5    \u001b[0m | \u001b[0m634.5    \u001b[0m |\n",
      "| \u001b[0m7        \u001b[0m | \u001b[0m-0.05562 \u001b[0m | \u001b[0m682.6    \u001b[0m | \u001b[0m309.9    \u001b[0m | \u001b[0m626.0    \u001b[0m |\n",
      "| \u001b[0m8        \u001b[0m | \u001b[0m-0.017   \u001b[0m | \u001b[0m591.9    \u001b[0m | \u001b[0m225.8    \u001b[0m | \u001b[0m671.9    \u001b[0m |\n",
      "| \u001b[0m9        \u001b[0m | \u001b[0m-0.03659 \u001b[0m | \u001b[0m437.9    \u001b[0m | \u001b[0m141.7    \u001b[0m | \u001b[0m717.7    \u001b[0m |\n",
      "| \u001b[0m10       \u001b[0m | \u001b[0m-0.01534 \u001b[0m | \u001b[0m541.9    \u001b[0m | \u001b[0m241.2    \u001b[0m | \u001b[0m631.1    \u001b[0m |\n",
      "| \u001b[0m11       \u001b[0m | \u001b[0m-0.02033 \u001b[0m | \u001b[0m627.2    \u001b[0m | \u001b[0m166.2    \u001b[0m | \u001b[0m629.1    \u001b[0m |\n",
      "| \u001b[0m12       \u001b[0m | \u001b[0m-0.04564 \u001b[0m | \u001b[0m655.0    \u001b[0m | \u001b[0m151.3    \u001b[0m | \u001b[0m734.3    \u001b[0m |\n",
      "| \u001b[95m13       \u001b[0m | \u001b[95m-0.01441 \u001b[0m | \u001b[95m561.6    \u001b[0m | \u001b[95m285.1    \u001b[0m | \u001b[95m683.0    \u001b[0m |\n",
      "| \u001b[0m14       \u001b[0m | \u001b[0m-0.01718 \u001b[0m | \u001b[0m518.3    \u001b[0m | \u001b[0m230.2    \u001b[0m | \u001b[0m702.6    \u001b[0m |\n",
      "| \u001b[0m15       \u001b[0m | \u001b[0m-0.0146  \u001b[0m | \u001b[0m616.4    \u001b[0m | \u001b[0m276.6    \u001b[0m | \u001b[0m735.0    \u001b[0m |\n",
      "=============================================================\n"
     ]
    }
   ],
   "source": [
    "optimizer.maximize(\n",
    "    init_points=5,\n",
    "    n_iter=10,\n",
    ")"
   ]
  },
  {
   "cell_type": "code",
   "execution_count": 33,
   "metadata": {},
   "outputs": [],
   "source": [
    "## 최적화 결과 비교\n",
    "\n",
    "X_test_origin, y_test = test[columns.input_columns], test[columns.target_column]\n",
    "X_test = X_test_origin.copy()\n",
    "\n",
    "X_test['lower_mold_temp2'] = optimizer.max['params']['lower_mold_temp2']\n",
    "X_test['cast_pressure'] = optimizer.max['params']['cast_pressure']\n",
    "X_test['molten_temp'] = optimizer.max['params']['molten_temp']\n"
   ]
  },
  {
   "cell_type": "code",
   "execution_count": 34,
   "metadata": {},
   "outputs": [
    {
     "data": {
      "image/png": "[encoded data removed]",
      "text/plain": [
       "<Figure size 432x288 with 1 Axes>"
      ]
     },
     "metadata": {
      "needs_background": "light"
     },
     "output_type": "display_data"
    }
   ],
   "source": [
    "# 예측 결과 생성\n",
    "pred_origin = model.predict(X_test_origin)  # 기존 예측 결과\n",
    "pred_test = model.predict(X_test)  # 새로운 예측 결과\n",
    "\n",
    "# 각 예측 결과에서 0과 1의 개수 계산\n",
    "count_origin = [np.sum(pred_origin == 0), np.sum(pred_origin == 1)]\n",
    "count_test = [np.sum(pred_test == 0), np.sum(pred_test == 1)]\n",
    "\n",
    "# 막대 그래프 데이터 준비\n",
    "labels = ['0', '1']\n",
    "x = np.arange(len(labels))  # x축 위치\n",
    "\n",
    "# 그래프 그리기\n",
    "width = 0.35  # 막대 너비\n",
    "\n",
    "fig, ax = plt.subplots()\n",
    "bars1 = ax.bar(x - width/2, count_origin, width, label='기존 예측 결과')\n",
    "bars2 = ax.bar(x + width/2, count_test, width, label='최적화 후 예측 결과')\n",
    "\n",
    "# 라벨 추가\n",
    "ax.set_xlabel('예측 결과')\n",
    "ax.set_ylabel('개수')\n",
    "ax.set_title('0과 1의 예측 개수 비교')\n",
    "ax.set_xticks(x)\n",
    "ax.set_xticklabels(labels)\n",
    "ax.legend()\n",
    "\n",
    "# 각 막대에 값 표시\n",
    "for bar in bars1:\n",
    "    yval = bar.get_height()\n",
    "    ax.text(bar.get_x() + bar.get_width()/2, yval, int(yval), ha='center', va='bottom')\n",
    "\n",
    "for bar in bars2:\n",
    "    yval = bar.get_height()\n",
    "    ax.text(bar.get_x() + bar.get_width()/2, yval, int(yval), ha='center', va='bottom')\n",
    "\n",
    "plt.tight_layout()\n",
    "plt.show()\n"
   ]
  },
  {
   "cell_type": "code",
   "execution_count": null,
   "metadata": {},
   "outputs": [],
   "source": [
    "## Bayesian Optimization 하이퍼 파라미터 찾기"
   ]
  },
  {
   "cell_type": "code",
   "execution_count": 30,
   "metadata": {},
   "outputs": [
    {
     "name": "stdout",
     "output_type": "stream",
     "text": [
      "init_points: 3, n_iter: 10\n",
      "Average Score: -0.0144 (±0.0000)\n",
      "--------------------------------------------------\n",
      "init_points: 3, n_iter: 20\n",
      "Average Score: -0.0144 (±0.0000)\n",
      "--------------------------------------------------\n",
      "init_points: 3, n_iter: 30\n",
      "Average Score: -0.0144 (±0.0000)\n",
      "--------------------------------------------------\n",
      "init_points: 3, n_iter: 40\n",
      "Average Score: -0.0144 (±0.0000)\n",
      "--------------------------------------------------\n",
      "init_points: 3, n_iter: 50\n",
      "Average Score: -0.0144 (±0.0000)\n",
      "--------------------------------------------------\n",
      "init_points: 5, n_iter: 10\n",
      "Average Score: -0.0143 (±0.0002)\n",
      "--------------------------------------------------\n",
      "init_points: 5, n_iter: 20\n",
      "Average Score: -0.0143 (±0.0002)\n",
      "--------------------------------------------------\n",
      "init_points: 5, n_iter: 30\n",
      "Average Score: -0.0143 (±0.0002)\n",
      "--------------------------------------------------\n",
      "init_points: 5, n_iter: 40\n",
      "Average Score: -0.0143 (±0.0002)\n",
      "--------------------------------------------------\n",
      "init_points: 5, n_iter: 50\n",
      "Average Score: -0.0143 (±0.0002)\n",
      "--------------------------------------------------\n",
      "init_points: 7, n_iter: 10\n",
      "Average Score: -0.0145 (±0.0001)\n",
      "--------------------------------------------------\n",
      "init_points: 7, n_iter: 20\n",
      "Average Score: -0.0145 (±0.0001)\n",
      "--------------------------------------------------\n",
      "init_points: 7, n_iter: 30\n",
      "Average Score: -0.0145 (±0.0001)\n",
      "--------------------------------------------------\n",
      "init_points: 7, n_iter: 40\n",
      "Average Score: -0.0145 (±0.0001)\n",
      "--------------------------------------------------\n",
      "init_points: 7, n_iter: 50\n",
      "Average Score: -0.0145 (±0.0001)\n",
      "--------------------------------------------------\n",
      "init_points: 10, n_iter: 10\n",
      "Average Score: -0.0145 (±0.0001)\n",
      "--------------------------------------------------\n",
      "init_points: 10, n_iter: 20\n",
      "Average Score: -0.0145 (±0.0001)\n",
      "--------------------------------------------------\n",
      "init_points: 10, n_iter: 30\n",
      "Average Score: -0.0145 (±0.0001)\n",
      "--------------------------------------------------\n",
      "init_points: 10, n_iter: 40\n",
      "Average Score: -0.0145 (±0.0001)\n",
      "--------------------------------------------------\n",
      "init_points: 10, n_iter: 50\n",
      "Average Score: -0.0145 (±0.0001)\n",
      "--------------------------------------------------\n",
      "\n",
      "Best Parameters:\n",
      "init_points: 5\n",
      "n_iter: 10\n",
      "Score: -0.0143 (±0.0002)\n"
     ]
    },
    {
     "data": {
      "image/png": "[encoded data removed]",
      "text/plain": [
       "<Figure size 720x432 with 2 Axes>"
      ]
     },
     "metadata": {
      "needs_background": "light"
     },
     "output_type": "display_data"
    }
   ],
   "source": [
    "import numpy as np\n",
    "from sklearn.model_selection import cross_val_score\n",
    "from itertools import product\n",
    "\n",
    "def evaluate_bo_params(init_points, n_iter, random_state=1):\n",
    "    \"\"\"\n",
    "    주어진 init_points와 n_iter로 베이지안 최적화를 수행하고 결과를 평가\n",
    "    \"\"\"\n",
    "    optimizer = BayesianOptimization(\n",
    "        f=predictor_function,\n",
    "        pbounds=pbounds,\n",
    "        verbose=0,\n",
    "        random_state=random_state\n",
    "    )\n",
    "    \n",
    "    # 베이지안 최적화 수행\n",
    "    optimizer.maximize(\n",
    "        init_points=init_points,\n",
    "        n_iter=n_iter\n",
    "    )\n",
    "    \n",
    "    return optimizer.max['target']\n",
    "\n",
    "# 탐색할 파라미터 범위 설정\n",
    "init_points_range = [3, 5, 7, 10]\n",
    "n_iter_range = [10, 20, 30, 40, 50]\n",
    "\n",
    "# 결과를 저장할 딕셔너리\n",
    "results = {}\n",
    "\n",
    "# Grid Search 수행\n",
    "for init_points, n_iter in product(init_points_range, n_iter_range):\n",
    "    # 각 조합에 대해 여러 번 실행하여 평균 성능 계산\n",
    "    scores = []\n",
    "    for seed in range(3):  # 3번 반복\n",
    "        score = evaluate_bo_params(init_points, n_iter, random_state=seed)\n",
    "        scores.append(score)\n",
    "    \n",
    "    # 평균 성능 저장\n",
    "    avg_score = np.mean(scores)\n",
    "    std_score = np.std(scores)\n",
    "    results[(init_points, n_iter)] = (avg_score, std_score)\n",
    "    \n",
    "    print(f\"init_points: {init_points}, n_iter: {n_iter}\")\n",
    "    print(f\"Average Score: {avg_score:.4f} (±{std_score:.4f})\")\n",
    "    print(\"-\" * 50)\n",
    "\n",
    "# 최적의 파라미터 찾기\n",
    "best_params = max(results.items(), key=lambda x: x[1][0])\n",
    "print(\"\\nBest Parameters:\")\n",
    "print(f\"init_points: {best_params[0][0]}\")\n",
    "print(f\"n_iter: {best_params[0][1]}\")\n",
    "print(f\"Score: {best_params[1][0]:.4f} (±{best_params[1][1]:.4f})\")\n",
    "\n",
    "# 결과 시각화\n",
    "import matplotlib.pyplot as plt\n",
    "import seaborn as sns\n",
    "\n",
    "# 히트맵 데이터 준비\n",
    "heatmap_data = np.zeros((len(init_points_range), len(n_iter_range)))\n",
    "for i, init_points in enumerate(init_points_range):\n",
    "    for j, n_iter in enumerate(n_iter_range):\n",
    "        heatmap_data[i, j] = results[(init_points, n_iter)][0]\n",
    "\n",
    "plt.figure(figsize=(10, 6))\n",
    "sns.heatmap(heatmap_data, \n",
    "            xticklabels=n_iter_range,\n",
    "            yticklabels=init_points_range,\n",
    "            annot=True,\n",
    "            fmt='.4f',\n",
    "            cmap='YlOrRd')\n",
    "plt.xlabel('n_iter')\n",
    "plt.ylabel('init_points')\n",
    "plt.title('Bayesian Optimization Parameter Performance')\n",
    "plt.show()"
   ]
  },
  {
   "cell_type": "code",
   "execution_count": null,
   "metadata": {},
   "outputs": [],
   "source": []
  }
 ],
 "metadata": {
  "kernelspec": {
   "display_name": "Python 3 (ipykernel)",
   "language": "python",
   "name": "python3"
  },
  "language_info": {
   "codemirror_mode": {
    "name": "ipython",
    "version": 3
   },
   "file_extension": ".py",
   "mimetype": "text/x-python",
   "name": "python",
   "nbconvert_exporter": "python",
   "pygments_lexer": "ipython3",
   "version": "3.8.10"
  }
 },
 "nbformat": 4,
 "nbformat_minor": 2
}
