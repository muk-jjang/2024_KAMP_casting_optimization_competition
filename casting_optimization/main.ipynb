{
 "cells": [
  {
   "cell_type": "code",
   "execution_count": 2,
   "metadata": {},
   "outputs": [
    {
     "name": "stdout",
     "output_type": "stream",
     "text": [
      "True\n",
      "devece: cuda\n",
      "torch version: 2.0.1+cu117\n"
     ]
    }
   ],
   "source": [
    "import pandas as pd\n",
    "import numpy as np\n",
    "import warnings\n",
    "warnings.filterwarnings(action='ignore')\n",
    "\n",
    "from casting.configuration import paths, columns, params, optimization\n",
    "from casting.preprocessing import (\n",
    "                                   drop_null, \n",
    "                                   split_by_dbscan,\n",
    "                                   remove_outlier,\n",
    "                                   save_scaler,\n",
    "                                   save_label_encoding)\n",
    "from casting.utils import load_data\n",
    "from casting.optimizer import BayesianOptimizer\n",
    "\n",
    "from casting.trainner import train_xgboost, train_lightgbm, train_extra_trees, train_tabnet, train_FTT, FttDataloader\n",
    "from sklearn.metrics import f1_score, precision_score, recall_score, accuracy_score, confusion_matrix\n",
    "\n",
    "\n",
    "from torch.utils.data import DataLoader\n",
    "import torch\n",
    "\n",
    "import seaborn as sns\n",
    "import pandas as pd\n",
    "import matplotlib.pyplot as plt\n",
    "from matplotlib import font_manager, rc\n",
    "\n",
    "device = torch.device(\"cuda\" if torch.cuda.is_available() else \"cpu\")\n",
    "\n",
    "pd.set_option('display.max_columns', None) ## 모든 열을 출력한다\n",
    "\n",
    "font_manager.fontManager.addfont('NanumGothic-Bold.ttf')\n",
    "plt.rc('font', family='NanumGothic')"
   ]
  },
  {
   "cell_type": "code",
   "execution_count": 3,
   "metadata": {},
   "outputs": [],
   "source": [
    "data_origin = pd.read_csv(paths.origin_path, encoding = 'euc-kr')\n",
    "data = data_origin[columns.use_columns]"
   ]
  },
  {
   "cell_type": "markdown",
   "metadata": {},
   "source": [
    "# Preprocessing"
   ]
  },
  {
   "cell_type": "markdown",
   "metadata": {},
   "source": [
    "### base"
   ]
  },
  {
   "cell_type": "code",
   "execution_count": 4,
   "metadata": {},
   "outputs": [],
   "source": [
    "## null 값 제외\n",
    "data = drop_null(data).reset_index(drop=True)\n",
    "## 이상치 제거\n",
    "data = remove_outlier(data)\n",
    "\n",
    "\n",
    "if params.model_name == 'FTT':\n",
    "    ## 스케일러 생성\n",
    "    save_scaler(data, \n",
    "                columns.numeric_columns, \n",
    "                columns.target_column,\n",
    "                paths.X_scaler_path,\n",
    "                paths.y_scaler_path\n",
    "                )\n",
    "    ## 카테고리 컬럼 처리를 위한 라벨 인코딩\n",
    "    save_label_encoding(data, columns.category_columns, paths.label_encoding_path)\n",
    "\n",
    "    split_by_dbscan(data, 'casting/data/scaled_data/')\n",
    "else :\n",
    "    ## 데이터 분리\n",
    "    split_by_dbscan(data, 'casting/data/processed_data/')"
   ]
  },
  {
   "cell_type": "markdown",
   "metadata": {},
   "source": [
    "# Predictor"
   ]
  },
  {
   "cell_type": "markdown",
   "metadata": {},
   "source": [
    "### load_data"
   ]
  },
  {
   "cell_type": "code",
   "execution_count": 5,
   "metadata": {},
   "outputs": [],
   "source": [
    "train, valid, test = load_data(params.model_name)"
   ]
  },
  {
   "cell_type": "code",
   "execution_count": 6,
   "metadata": {},
   "outputs": [
    {
     "name": "stdout",
     "output_type": "stream",
     "text": [
      "EXT\n"
     ]
    }
   ],
   "source": [
    "print(params.model_name)"
   ]
  },
  {
   "cell_type": "markdown",
   "metadata": {},
   "source": [
    "### Modeling"
   ]
  },
  {
   "cell_type": "code",
   "execution_count": 7,
   "metadata": {},
   "outputs": [],
   "source": [
    "## TODO : 모듈 형식으로 모델 GATEWAY 함수 구성\n",
    "## TODO : AUTO ML 넣어서 제일 좋은 성능을 Select하는 형식\n",
    "\n",
    "if params.model_name == 'LGBM' :\n",
    "    model = train_lightgbm(train, valid)\n",
    "elif params.model_name == 'XGB' :\n",
    "    model = train_xgboost(train, valid)\n",
    "elif params.model_name == 'EXT' :\n",
    "    model = train_extra_trees(train, valid)\n",
    "elif params.model_name == 'TABNET' :\n",
    "    model = train_tabnet(train, valid)\n",
    "## GPU 환경 필수\n",
    "elif params.model_name == 'FTT' :\n",
    "    model = train_FTT(train, valid)"
   ]
  },
  {
   "cell_type": "markdown",
   "metadata": {},
   "source": [
    "### inference"
   ]
  },
  {
   "cell_type": "code",
   "execution_count": 8,
   "metadata": {},
   "outputs": [
    {
     "data": {
      "image/png": "[encoded data removed]",
      "text/plain": [
       "<Figure size 432x288 with 1 Axes>"
      ]
     },
     "metadata": {
      "needs_background": "light"
     },
     "output_type": "display_data"
    },
    {
     "name": "stdout",
     "output_type": "stream",
     "text": [
      "F1 Score: 0.9181\n",
      "accuracy_score: 0.9942\n",
      "precision_score: 0.9290\n",
      "recall_score: 0.9075\n"
     ]
    }
   ],
   "source": [
    "# 혼동 행렬 계산\n",
    "\n",
    "## FTT 모델일때 inference\n",
    "if params.model_name == 'FTT' :\n",
    "    test_data = FttDataloader(test)\n",
    "    test_loader = DataLoader(test_data, batch_size=len(test), shuffle=False)\n",
    "\n",
    "    model.to(device)\n",
    "    model.eval()\n",
    "    all_pred = []\n",
    "    all_y = []\n",
    "    x_samples = []\n",
    "    with torch.no_grad():\n",
    "        cul_loss = 0  # SE\n",
    "        count = 0\n",
    "        for batch, (x_categ, x_numer, y) in enumerate(test_loader):\n",
    "            x_categ, x_numer, y = x_categ.to(device), x_numer.to(device), y.to(device)\n",
    "            # 예측 오류 계산\n",
    "            pred = model(x_categ, x_numer)\n",
    "            pred = pred.cpu().detach().numpy()\n",
    "            y = y.cpu().detach().numpy()\n",
    "            all_pred.extend(pred)\n",
    "            all_y.extend(y)\n",
    "\n",
    "    all_pred = np.array(all_pred)\n",
    "    all_y = np.array(all_y)\n",
    "\n",
    "    y_test = pd.DataFrame(np.array(all_y)) \n",
    "    y_pred = pd.DataFrame(np.array(all_pred)).round(1).astype(int)\n",
    "## 그외 모델일때\n",
    "else :\n",
    "\n",
    "    X_test, y_test = test[columns.input_columns], test[columns.target_column]\n",
    "    \n",
    "\n",
    "    y_pred = model.predict(X_test.values)\n",
    "    test_cm = confusion_matrix(y_test, y_pred)\n",
    "\n",
    "    # 혼동 행렬 계산\n",
    "    cm = confusion_matrix(y_test, y_pred)\n",
    "\n",
    "    # 혼동 행렬 시각화\n",
    "    plt.figure(figsize=(6, 4))\n",
    "    sns.heatmap(cm, annot=True, fmt='d', cmap='Blues', cbar=False)\n",
    "    plt.xlabel('Predicted Labels')\n",
    "    plt.ylabel('True Labels')\n",
    "    plt.title('Confusion Matrix')\n",
    "    plt.show()\n",
    "\n",
    "# 점수 계산\n",
    "f1 = f1_score(y_test, y_pred)\n",
    "print(f'F1 Score: {f1:.4f}')\n",
    "\n",
    "acc = accuracy_score(y_test, y_pred)\n",
    "print(f'accuracy_score: {acc:.4f}')\n",
    "\n",
    "ps = precision_score(y_test, y_pred)\n",
    "print(f'precision_score: {ps:.4f}')\n",
    "\n",
    "rs = recall_score(y_test, y_pred)\n",
    "print(f'recall_score: {rs:.4f}')\n"
   ]
  },
  {
   "cell_type": "markdown",
   "metadata": {},
   "source": [
    "# Postprocessing"
   ]
  },
  {
   "cell_type": "markdown",
   "metadata": {},
   "source": [
    "## 유민님 작업 공간"
   ]
  },
  {
   "cell_type": "markdown",
   "metadata": {},
   "source": [
    "# Optimizer"
   ]
  },
  {
   "cell_type": "markdown",
   "metadata": {},
   "source": [
    "## Bayesian Optimization"
   ]
  },
  {
   "cell_type": "code",
   "execution_count": 12,
   "metadata": {},
   "outputs": [
    {
     "name": "stderr",
     "output_type": "stream",
     "text": [
      "Optimizing parameters:   0%|          | 0/4840 [00:00<?, ?it/s]"
     ]
    },
    {
     "name": "stdout",
     "output_type": "stream",
     "text": [
      "|   iter    |  target   | cast_p... | lower_... | upper_... |\n",
      "-------------------------------------------------------------\n",
      "| \u001b[0m1        \u001b[0m | \u001b[0m-0.0     \u001b[0m | \u001b[0m993.0    \u001b[0m | \u001b[0m268.0    \u001b[0m | \u001b[0m109.2    \u001b[0m |\n",
      "| \u001b[0m2        \u001b[0m | \u001b[0m-0.0     \u001b[0m | \u001b[0m715.5    \u001b[0m | \u001b[0m155.9    \u001b[0m | \u001b[0m233.3    \u001b[0m |\n",
      "| \u001b[0m3        \u001b[0m | \u001b[0m-0.0     \u001b[0m | \u001b[0m323.0    \u001b[0m | \u001b[0m233.8    \u001b[0m | \u001b[0m237.2    \u001b[0m |\n",
      "| \u001b[0m4        \u001b[0m | \u001b[0m-0.0     \u001b[0m | \u001b[0m573.7    \u001b[0m | \u001b[0m200.1    \u001b[0m | \u001b[0m115.9    \u001b[0m |\n",
      "| \u001b[0m5        \u001b[0m | \u001b[0m-0.0     \u001b[0m | \u001b[0m388.4    \u001b[0m | \u001b[0m281.9    \u001b[0m | \u001b[0m245.7    \u001b[0m |\n",
      "| \u001b[0m6        \u001b[0m | \u001b[0m-0.0     \u001b[0m | \u001b[0m999.4    \u001b[0m | \u001b[0m332.4    \u001b[0m | \u001b[0m262.6    \u001b[0m |\n",
      "|   iter    |  target   | cast_p... | lower_... | upper_... |\n",
      "-------------------------------------------------------------\n",
      "| \u001b[0m1        \u001b[0m | \u001b[0m-0.0     \u001b[0m | \u001b[0m972.3    \u001b[0m | \u001b[0m311.7    \u001b[0m | \u001b[0m207.1    \u001b[0m |\n",
      "| \u001b[0m7        \u001b[0m | \u001b[0m-0.0     \u001b[0m | \u001b[0m339.5    \u001b[0m | \u001b[0m330.0    \u001b[0m | \u001b[0m103.2    \u001b[0m |\n",
      "| \u001b[0m2        \u001b[0m | \u001b[0m-0.0     \u001b[0m | \u001b[0m662.8    \u001b[0m | \u001b[0m174.8    \u001b[0m | \u001b[0m265.5    \u001b[0m |\n",
      "| \u001b[0m3        \u001b[0m | \u001b[0m-0.0     \u001b[0m | \u001b[0m620.0    \u001b[0m | \u001b[0m181.5    \u001b[0m | \u001b[0m128.3    \u001b[0m |\n",
      "| \u001b[0m4        \u001b[0m | \u001b[0m-0.0     \u001b[0m | \u001b[0m929.3    \u001b[0m | \u001b[0m323.2    \u001b[0m | \u001b[0m209.6    \u001b[0m |\n",
      "| \u001b[0m8        \u001b[0m | \u001b[0m-0.0     \u001b[0m | \u001b[0m759.6    \u001b[0m | \u001b[0m319.7    \u001b[0m | \u001b[0m109.1    \u001b[0m |\n",
      "| \u001b[0m5        \u001b[0m | \u001b[0m-0.0     \u001b[0m | \u001b[0m782.2    \u001b[0m | \u001b[0m168.9    \u001b[0m | \u001b[0m131.9    \u001b[0m |\n",
      "| \u001b[0m9        \u001b[0m | \u001b[0m-0.0     \u001b[0m | \u001b[0m972.4    \u001b[0m | \u001b[0m136.5    \u001b[0m | \u001b[0m104.9    \u001b[0m |\n",
      "|   iter    |  target   | cast_p... | lower_... | upper_... |\n",
      "-------------------------------------------------------------\n",
      "| \u001b[0m1        \u001b[0m | \u001b[0m-0.0     \u001b[0m | \u001b[0m982.8    \u001b[0m | \u001b[0m158.9    \u001b[0m | \u001b[0m184.0    \u001b[0m |\n",
      "| \u001b[0m10       \u001b[0m | \u001b[0m-0.0     \u001b[0m | \u001b[0m848.0    \u001b[0m | \u001b[0m245.8    \u001b[0m | \u001b[0m164.2    \u001b[0m |\n",
      "| \u001b[0m6        \u001b[0m | \u001b[0m-0.0     \u001b[0m | \u001b[0m305.8    \u001b[0m | \u001b[0m332.3    \u001b[0m | \u001b[0m136.3    \u001b[0m |\n",
      "| \u001b[0m2        \u001b[0m | \u001b[0m-0.0     \u001b[0m | \u001b[0m325.1    \u001b[0m | \u001b[0m216.5    \u001b[0m | \u001b[0m170.3    \u001b[0m |\n",
      "| \u001b[0m3        \u001b[0m | \u001b[0m-0.0     \u001b[0m | \u001b[0m847.9    \u001b[0m | \u001b[0m198.9    \u001b[0m | \u001b[0m245.6    \u001b[0m |\n",
      "| \u001b[0m4        \u001b[0m | \u001b[0m-0.0     \u001b[0m | \u001b[0m415.0    \u001b[0m | \u001b[0m181.3    \u001b[0m | \u001b[0m193.8    \u001b[0m |\n",
      "| \u001b[0m5        \u001b[0m | \u001b[0m-0.0     \u001b[0m | \u001b[0m443.3    \u001b[0m | \u001b[0m201.0    \u001b[0m | \u001b[0m116.2    \u001b[0m |\n",
      "| \u001b[0m7        \u001b[0m | \u001b[0m-0.0     \u001b[0m | \u001b[0m309.3    \u001b[0m | \u001b[0m141.8    \u001b[0m | \u001b[0m266.9    \u001b[0m |\n",
      "| \u001b[0m11       \u001b[0m | \u001b[0m-0.0     \u001b[0m | \u001b[0m301.1    \u001b[0m | \u001b[0m136.1    \u001b[0m | \u001b[0m259.5    \u001b[0m |\n",
      "| \u001b[0m6        \u001b[0m | \u001b[0m-0.0     \u001b[0m | \u001b[0m947.9    \u001b[0m | \u001b[0m328.2    \u001b[0m | \u001b[0m108.7    \u001b[0m |\n",
      "| \u001b[0m12       \u001b[0m | \u001b[0m-0.0     \u001b[0m | \u001b[0m973.9    \u001b[0m | \u001b[0m330.2    \u001b[0m | \u001b[0m262.9    \u001b[0m |\n",
      "|   iter    |  target   | cast_p... | lower_... | upper_... |\n",
      "-------------------------------------------------------------\n",
      "| \u001b[0m1        \u001b[0m | \u001b[0m-0.0     \u001b[0m | \u001b[0m941.3    \u001b[0m | \u001b[0m137.5    \u001b[0m | \u001b[0m108.8    \u001b[0m |\n",
      "| \u001b[0m8        \u001b[0m | \u001b[0m-0.0     \u001b[0m | \u001b[0m987.8    \u001b[0m | \u001b[0m135.6    \u001b[0m | \u001b[0m102.5    \u001b[0m |\n",
      "| \u001b[0m2        \u001b[0m | \u001b[0m-0.0     \u001b[0m | \u001b[0m711.4    \u001b[0m | \u001b[0m300.4    \u001b[0m | \u001b[0m112.6    \u001b[0m |\n",
      "| \u001b[0m9        \u001b[0m | \u001b[0m-0.0     \u001b[0m | \u001b[0m945.8    \u001b[0m | \u001b[0m283.6    \u001b[0m | \u001b[0m136.7    \u001b[0m |\n",
      "| \u001b[0m7        \u001b[0m | \u001b[0m-0.0     \u001b[0m | \u001b[0m411.3    \u001b[0m | \u001b[0m329.8    \u001b[0m | \u001b[0m269.6    \u001b[0m |\n",
      "| \u001b[0m3        \u001b[0m | \u001b[0m-0.0     \u001b[0m | \u001b[0m577.5    \u001b[0m | \u001b[0m171.5    \u001b[0m | \u001b[0m224.5    \u001b[0m |\n",
      "| \u001b[0m4        \u001b[0m | \u001b[0m-0.0     \u001b[0m | \u001b[0m608.1    \u001b[0m | \u001b[0m187.8    \u001b[0m | \u001b[0m234.7    \u001b[0m |\n",
      "| \u001b[0m5        \u001b[0m | \u001b[0m-0.0     \u001b[0m | \u001b[0m971.8    \u001b[0m | \u001b[0m219.1    \u001b[0m | \u001b[0m232.4    \u001b[0m |\n",
      "| \u001b[0m13       \u001b[0m | \u001b[0m-0.0     \u001b[0m | \u001b[0m980.1    \u001b[0m | \u001b[0m142.1    \u001b[0m | \u001b[0m264.5    \u001b[0m |\n",
      "| \u001b[0m8        \u001b[0m | \u001b[0m-0.0     \u001b[0m | \u001b[0m531.1    \u001b[0m | \u001b[0m175.7    \u001b[0m | \u001b[0m236.3    \u001b[0m |\n",
      "|   iter    |  target   | cast_p... | lower_... | upper_... |\n",
      "-------------------------------------------------------------\n",
      "| \u001b[0m1        \u001b[0m | \u001b[0m-0.0     \u001b[0m | \u001b[0m379.8    \u001b[0m | \u001b[0m308.1    \u001b[0m | \u001b[0m221.2    \u001b[0m |\n",
      "| \u001b[0m10       \u001b[0m | \u001b[0m-0.0     \u001b[0m | \u001b[0m318.4    \u001b[0m | \u001b[0m330.5    \u001b[0m | \u001b[0m102.1    \u001b[0m |\n",
      "| \u001b[0m2        \u001b[0m | \u001b[0m-0.0     \u001b[0m | \u001b[0m436.6    \u001b[0m | \u001b[0m145.6    \u001b[0m | \u001b[0m185.1    \u001b[0m |\n",
      "| \u001b[0m3        \u001b[0m | \u001b[0m-0.0     \u001b[0m | \u001b[0m368.7    \u001b[0m | \u001b[0m224.1    \u001b[0m | \u001b[0m221.4    \u001b[0m |\n",
      "| \u001b[0m4        \u001b[0m | \u001b[0m-0.0     \u001b[0m | \u001b[0m582.2    \u001b[0m | \u001b[0m229.9    \u001b[0m | \u001b[0m222.8    \u001b[0m |\n",
      "| \u001b[0m5        \u001b[0m | \u001b[0m-0.0     \u001b[0m | \u001b[0m950.2    \u001b[0m | \u001b[0m165.6    \u001b[0m | \u001b[0m132.5    \u001b[0m |\n",
      "| \u001b[0m6        \u001b[0m | \u001b[0m-0.0     \u001b[0m | \u001b[0m301.6    \u001b[0m | \u001b[0m146.7    \u001b[0m | \u001b[0m103.9    \u001b[0m |\n",
      "| \u001b[0m9        \u001b[0m | \u001b[0m-0.0     \u001b[0m | \u001b[0m987.8    \u001b[0m | \u001b[0m330.8    \u001b[0m | \u001b[0m264.6    \u001b[0m |\n",
      "| \u001b[0m14       \u001b[0m | \u001b[0m-0.0     \u001b[0m | \u001b[0m334.7    \u001b[0m | \u001b[0m143.8    \u001b[0m | \u001b[0m101.1    \u001b[0m |\n",
      "| \u001b[0m11       \u001b[0m | \u001b[0m-0.0     \u001b[0m | \u001b[0m956.9    \u001b[0m | \u001b[0m332.9    \u001b[0m | \u001b[0m263.8    \u001b[0m |\n",
      "| \u001b[0m6        \u001b[0m | \u001b[0m-0.0     \u001b[0m | \u001b[0m999.1    \u001b[0m | \u001b[0m319.9    \u001b[0m | \u001b[0m267.2    \u001b[0m |\n",
      "|   iter    |  target   | cast_p... | lower_... | upper_... |\n",
      "-------------------------------------------------------------\n",
      "| \u001b[0m1        \u001b[0m | \u001b[0m-1.0     \u001b[0m | \u001b[0m352.1    \u001b[0m | \u001b[0m245.4    \u001b[0m | \u001b[0m141.5    \u001b[0m |\n",
      "| \u001b[0m10       \u001b[0m | \u001b[0m-0.0     \u001b[0m | \u001b[0m347.9    \u001b[0m | \u001b[0m331.9    \u001b[0m | \u001b[0m101.2    \u001b[0m |\n",
      "| \u001b[95m2        \u001b[0m | \u001b[95m-0.0     \u001b[0m | \u001b[95m953.1    \u001b[0m | \u001b[95m282.5    \u001b[0m | \u001b[95m265.3    \u001b[0m |\n",
      "| \u001b[0m7        \u001b[0m | \u001b[0m-0.0     \u001b[0m | \u001b[0m350.2    \u001b[0m | \u001b[0m332.9    \u001b[0m | \u001b[0m254.1    \u001b[0m |\n",
      "| \u001b[0m15       \u001b[0m | \u001b[0m-0.0     \u001b[0m | \u001b[0m300.6    \u001b[0m | \u001b[0m326.7    \u001b[0m | \u001b[0m267.5    \u001b[0m |\n",
      "=============================================================\n"
     ]
    },
    {
     "name": "stderr",
     "output_type": "stream",
     "text": [
      "Optimizing parameters:   0%|          | 1/4840 [00:03<4:24:53,  3.28s/it]"
     ]
    },
    {
     "name": "stdout",
     "output_type": "stream",
     "text": [
      "| \u001b[0m12       \u001b[0m | \u001b[0m-0.0     \u001b[0m | \u001b[0m301.7    \u001b[0m | \u001b[0m139.3    \u001b[0m | \u001b[0m264.5    \u001b[0m |\n",
      "| \u001b[0m7        \u001b[0m | \u001b[0m-0.0     \u001b[0m | \u001b[0m913.3    \u001b[0m | \u001b[0m267.0    \u001b[0m | \u001b[0m104.7    \u001b[0m |\n",
      "| \u001b[0m3        \u001b[0m | \u001b[0m-0.0     \u001b[0m | \u001b[0m917.8    \u001b[0m | \u001b[0m261.4    \u001b[0m | \u001b[0m190.7    \u001b[0m |\n",
      "| \u001b[0m4        \u001b[0m | \u001b[0m-0.0     \u001b[0m | \u001b[0m529.4    \u001b[0m | \u001b[0m330.7    \u001b[0m | \u001b[0m225.1    \u001b[0m |\n",
      "| \u001b[0m5        \u001b[0m | \u001b[0m-1.0     \u001b[0m | \u001b[0m703.6    \u001b[0m | \u001b[0m156.1    \u001b[0m | \u001b[0m202.6    \u001b[0m |\n",
      "| \u001b[0m8        \u001b[0m | \u001b[0m-0.0     \u001b[0m | \u001b[0m300.7    \u001b[0m | \u001b[0m328.4    \u001b[0m | \u001b[0m100.6    \u001b[0m |\n",
      "| \u001b[0m11       \u001b[0m | \u001b[0m-0.0     \u001b[0m | \u001b[0m983.6    \u001b[0m | \u001b[0m140.3    \u001b[0m | \u001b[0m101.9    \u001b[0m |\n",
      "| \u001b[0m13       \u001b[0m | \u001b[0m-0.0     \u001b[0m | \u001b[0m985.6    \u001b[0m | \u001b[0m135.8    \u001b[0m | \u001b[0m101.2    \u001b[0m |\n",
      "| \u001b[0m8        \u001b[0m | \u001b[0m-0.0     \u001b[0m | \u001b[0m998.3    \u001b[0m | \u001b[0m332.9    \u001b[0m | \u001b[0m111.8    \u001b[0m |\n",
      "| \u001b[0m6        \u001b[0m | \u001b[0m-0.0     \u001b[0m | \u001b[0m960.3    \u001b[0m | \u001b[0m283.3    \u001b[0m | \u001b[0m261.3    \u001b[0m |\n",
      "|   iter    |  target   | cast_p... | lower_... | upper_... |\n",
      "-------------------------------------------------------------\n",
      "| \u001b[0m9        \u001b[0m | \u001b[0m-0.0     \u001b[0m | \u001b[0m982.1    \u001b[0m | \u001b[0m135.9    \u001b[0m | \u001b[0m257.5    \u001b[0m |\n",
      "| \u001b[0m1        \u001b[0m | \u001b[0m-0.0     \u001b[0m | \u001b[0m545.9    \u001b[0m | \u001b[0m238.5    \u001b[0m | \u001b[0m176.1    \u001b[0m |\n",
      "| \u001b[0m9        \u001b[0m | \u001b[0m-0.0     \u001b[0m | \u001b[0m603.6    \u001b[0m | \u001b[0m155.1    \u001b[0m | \u001b[0m127.1    \u001b[0m |\n",
      "| \u001b[0m12       \u001b[0m | \u001b[0m-0.0     \u001b[0m | \u001b[0m301.0    \u001b[0m | \u001b[0m142.0    \u001b[0m | \u001b[0m266.4    \u001b[0m |\n",
      "| \u001b[0m2        \u001b[0m | \u001b[0m-0.0     \u001b[0m | \u001b[0m403.1    \u001b[0m | \u001b[0m321.2    \u001b[0m | \u001b[0m119.3    \u001b[0m |\n",
      "| \u001b[0m14       \u001b[0m | \u001b[0m-0.0     \u001b[0m | \u001b[0m327.3    \u001b[0m | \u001b[0m328.7    \u001b[0m | \u001b[0m109.7    \u001b[0m |\n",
      "| \u001b[0m3        \u001b[0m | \u001b[0m-0.0     \u001b[0m | \u001b[0m347.9    \u001b[0m | \u001b[0m160.2    \u001b[0m | \u001b[0m122.0    \u001b[0m |\n",
      "| \u001b[0m7        \u001b[0m | \u001b[0m-1.0     \u001b[0m | \u001b[0m1e+03    \u001b[0m | \u001b[0m135.0    \u001b[0m | \u001b[0m266.8    \u001b[0m |\n",
      "| \u001b[0m4        \u001b[0m | \u001b[0m-0.0     \u001b[0m | \u001b[0m407.2    \u001b[0m | \u001b[0m187.0    \u001b[0m | \u001b[0m194.5    \u001b[0m |\n",
      "| \u001b[0m10       \u001b[0m | \u001b[0m-0.0     \u001b[0m | \u001b[0m729.5    \u001b[0m | \u001b[0m274.9    \u001b[0m | \u001b[0m127.3    \u001b[0m |\n",
      "| \u001b[0m10       \u001b[0m | \u001b[0m-0.0     \u001b[0m | \u001b[0m312.1    \u001b[0m | \u001b[0m140.2    \u001b[0m | \u001b[0m100.4    \u001b[0m |\n",
      "| \u001b[0m5        \u001b[0m | \u001b[0m-0.0     \u001b[0m | \u001b[0m609.8    \u001b[0m | \u001b[0m298.6    \u001b[0m | \u001b[0m219.5    \u001b[0m |\n",
      "| \u001b[0m15       \u001b[0m | \u001b[0m-0.0     \u001b[0m | \u001b[0m994.3    \u001b[0m | \u001b[0m326.7    \u001b[0m | \u001b[0m267.7    \u001b[0m |\n",
      "|   iter    |  target   | cast_p... | lower_... | upper_... |\n",
      "-------------------------------------------------------------\n",
      "=============================================================\n"
     ]
    },
    {
     "name": "stderr",
     "output_type": "stream",
     "text": [
      "Optimizing parameters:   0%|          | 2/4840 [00:04<3:03:58,  2.28s/it]"
     ]
    },
    {
     "name": "stdout",
     "output_type": "stream",
     "text": [
      "| \u001b[0m1        \u001b[0m | \u001b[0m-1.0     \u001b[0m | \u001b[0m954.2    \u001b[0m | \u001b[0m265.9    \u001b[0m | \u001b[0m115.3    \u001b[0m |\n",
      "| \u001b[0m11       \u001b[0m | \u001b[0m-0.0     \u001b[0m | \u001b[0m997.5    \u001b[0m | \u001b[0m330.7    \u001b[0m | \u001b[0m109.8    \u001b[0m |\n",
      "| \u001b[0m2        \u001b[0m | \u001b[0m-1.0     \u001b[0m | \u001b[0m757.9    \u001b[0m | \u001b[0m159.6    \u001b[0m | \u001b[0m148.7    \u001b[0m |\n",
      "| \u001b[0m3        \u001b[0m | \u001b[0m-1.0     \u001b[0m | \u001b[0m494.4    \u001b[0m | \u001b[0m140.9    \u001b[0m | \u001b[0m252.5    \u001b[0m |\n",
      "| \u001b[0m11       \u001b[0m | \u001b[0m-0.0     \u001b[0m | \u001b[0m996.0    \u001b[0m | \u001b[0m139.8    \u001b[0m | \u001b[0m268.9    \u001b[0m |\n",
      "| \u001b[0m13       \u001b[0m | \u001b[0m-0.0     \u001b[0m | \u001b[0m991.2    \u001b[0m | \u001b[0m331.2    \u001b[0m | \u001b[0m268.7    \u001b[0m |\n",
      "| \u001b[0m4        \u001b[0m | \u001b[0m-1.0     \u001b[0m | \u001b[0m900.8    \u001b[0m | \u001b[0m269.9    \u001b[0m | \u001b[0m165.3    \u001b[0m |\n",
      "|   iter    |  target   | cast_p... | lower_... | upper_... |\n",
      "-------------------------------------------------------------\n",
      "| \u001b[0m5        \u001b[0m | \u001b[0m-1.0     \u001b[0m | \u001b[0m617.4    \u001b[0m | \u001b[0m160.1    \u001b[0m | \u001b[0m225.5    \u001b[0m |\n",
      "| \u001b[0m1        \u001b[0m | \u001b[0m-0.0     \u001b[0m | \u001b[0m433.4    \u001b[0m | \u001b[0m155.4    \u001b[0m | \u001b[0m129.4    \u001b[0m |\n",
      "| \u001b[0m8        \u001b[0m | \u001b[0m-1.0     \u001b[0m | \u001b[0m984.1    \u001b[0m | \u001b[0m333.0    \u001b[0m | \u001b[0m111.9    \u001b[0m |\n",
      "| \u001b[0m6        \u001b[0m | \u001b[0m-0.0     \u001b[0m | \u001b[0m999.8    \u001b[0m | \u001b[0m156.3    \u001b[0m | \u001b[0m110.4    \u001b[0m |\n",
      "| \u001b[0m2        \u001b[0m | \u001b[0m-0.0     \u001b[0m | \u001b[0m301.3    \u001b[0m | \u001b[0m170.8    \u001b[0m | \u001b[0m208.8    \u001b[0m |\n",
      "| \u001b[0m3        \u001b[0m | \u001b[0m-0.0     \u001b[0m | \u001b[0m528.4    \u001b[0m | \u001b[0m267.1    \u001b[0m | \u001b[0m227.4    \u001b[0m |\n",
      "| \u001b[0m4        \u001b[0m | \u001b[0m-0.0     \u001b[0m | \u001b[0m352.5    \u001b[0m | \u001b[0m152.5    \u001b[0m | \u001b[0m214.0    \u001b[0m |\n",
      "| \u001b[0m5        \u001b[0m | \u001b[0m-0.0     \u001b[0m | \u001b[0m720.9    \u001b[0m | \u001b[0m304.6    \u001b[0m | \u001b[0m231.4    \u001b[0m |\n",
      "| \u001b[0m9        \u001b[0m | \u001b[0m-0.0     \u001b[0m | \u001b[0m915.5    \u001b[0m | \u001b[0m260.8    \u001b[0m | \u001b[0m189.8    \u001b[0m |\n",
      "| \u001b[0m7        \u001b[0m | \u001b[0m-0.0     \u001b[0m | \u001b[0m435.9    \u001b[0m | \u001b[0m247.4    \u001b[0m | \u001b[0m124.0    \u001b[0m |\n",
      "| \u001b[0m6        \u001b[0m | \u001b[0m-1.0     \u001b[0m | \u001b[0m301.1    \u001b[0m | \u001b[0m330.2    \u001b[0m | \u001b[0m108.2    \u001b[0m |\n",
      "| \u001b[0m12       \u001b[0m | \u001b[0m-0.0     \u001b[0m | \u001b[0m304.4    \u001b[0m | \u001b[0m323.8    \u001b[0m | \u001b[0m264.8    \u001b[0m |\n",
      "| \u001b[0m12       \u001b[0m | \u001b[0m-0.0     \u001b[0m | \u001b[0m316.0    \u001b[0m | \u001b[0m329.9    \u001b[0m | \u001b[0m263.5    \u001b[0m |\n",
      "| \u001b[0m14       \u001b[0m | \u001b[0m-0.0     \u001b[0m | \u001b[0m318.7    \u001b[0m | \u001b[0m323.9    \u001b[0m | \u001b[0m102.6    \u001b[0m |\n",
      "| \u001b[0m7        \u001b[0m | \u001b[0m-1.0     \u001b[0m | \u001b[0m998.0    \u001b[0m | \u001b[0m328.7    \u001b[0m | \u001b[0m262.5    \u001b[0m |\n",
      "| \u001b[0m6        \u001b[0m | \u001b[0m-0.0     \u001b[0m | \u001b[0m998.9    \u001b[0m | \u001b[0m137.9    \u001b[0m | \u001b[0m255.2    \u001b[0m |\n",
      "|   iter    |  target   | cast_p... | lower_... | upper_... |\n",
      "-------------------------------------------------------------\n",
      "| \u001b[0m13       \u001b[0m | \u001b[0m-0.0     \u001b[0m | \u001b[0m648.6    \u001b[0m | \u001b[0m221.1    \u001b[0m | \u001b[0m166.1    \u001b[0m |\n",
      "| \u001b[0m1        \u001b[0m | \u001b[0m-0.0     \u001b[0m | \u001b[0m871.6    \u001b[0m | \u001b[0m144.5    \u001b[0m | \u001b[0m195.1    \u001b[0m |\n",
      "| \u001b[0m13       \u001b[0m | \u001b[0m-0.0     \u001b[0m | \u001b[0m999.1    \u001b[0m | \u001b[0m136.5    \u001b[0m | \u001b[0m263.8    \u001b[0m |\n",
      "| \u001b[0m8        \u001b[0m | \u001b[0m-0.0     \u001b[0m | \u001b[0m995.1    \u001b[0m | \u001b[0m320.0    \u001b[0m | \u001b[0m264.5    \u001b[0m |\n",
      "| \u001b[0m2        \u001b[0m | \u001b[0m-0.0     \u001b[0m | \u001b[0m747.9    \u001b[0m | \u001b[0m217.3    \u001b[0m | \u001b[0m145.3    \u001b[0m |\n",
      "| \u001b[0m10       \u001b[0m | \u001b[0m-0.0     \u001b[0m | \u001b[0m831.1    \u001b[0m | \u001b[0m333.0    \u001b[0m | \u001b[0m250.5    \u001b[0m |\n"
     ]
    },
    {
     "name": "stderr",
     "output_type": "stream",
     "text": [
      "Optimizing parameters:   0%|          | 3/4840 [00:06<2:32:25,  1.89s/it]"
     ]
    },
    {
     "name": "stdout",
     "output_type": "stream",
     "text": [
      "| \u001b[0m15       \u001b[0m | \u001b[0m-0.0     \u001b[0m | \u001b[0m989.4    \u001b[0m | \u001b[0m138.7    \u001b[0m | \u001b[0m105.1    \u001b[0m |\n",
      "=============================================================\n",
      "| \u001b[0m9        \u001b[0m | \u001b[0m-0.0     \u001b[0m | \u001b[0m624.6    \u001b[0m | \u001b[0m294.8    \u001b[0m | \u001b[0m134.9    \u001b[0m |\n",
      "| \u001b[0m3        \u001b[0m | \u001b[0m-0.0     \u001b[0m | \u001b[0m787.9    \u001b[0m | \u001b[0m217.9    \u001b[0m | \u001b[0m172.0    \u001b[0m |\n",
      "| \u001b[0m8        \u001b[0m | \u001b[0m-1.0     \u001b[0m | \u001b[0m312.5    \u001b[0m | \u001b[0m323.0    \u001b[0m | \u001b[0m264.2    \u001b[0m |\n",
      "| \u001b[0m4        \u001b[0m | \u001b[0m-0.0     \u001b[0m | \u001b[0m672.1    \u001b[0m | \u001b[0m181.6    \u001b[0m | \u001b[0m244.5    \u001b[0m |\n",
      "| \u001b[0m5        \u001b[0m | \u001b[0m-0.0     \u001b[0m | \u001b[0m973.1    \u001b[0m | \u001b[0m245.6    \u001b[0m | \u001b[0m229.1    \u001b[0m |\n",
      "| \u001b[0m7        \u001b[0m | \u001b[0m-0.0     \u001b[0m | \u001b[0m974.7    \u001b[0m | \u001b[0m317.2    \u001b[0m | \u001b[0m100.4    \u001b[0m |\n",
      "| \u001b[0m14       \u001b[0m | \u001b[0m-0.0     \u001b[0m | \u001b[0m992.5    \u001b[0m | \u001b[0m331.0    \u001b[0m | \u001b[0m263.5    \u001b[0m |\n",
      "|   iter    |  target   | cast_p... | lower_... | upper_... |\n",
      "-------------------------------------------------------------\n",
      "| \u001b[0m10       \u001b[0m | \u001b[0m-0.0     \u001b[0m | \u001b[0m709.0    \u001b[0m | \u001b[0m288.2    \u001b[0m | \u001b[0m114.1    \u001b[0m |\n",
      "| \u001b[0m1        \u001b[0m | \u001b[0m-0.0     \u001b[0m | \u001b[0m898.2    \u001b[0m | \u001b[0m278.0    \u001b[0m | \u001b[0m265.3    \u001b[0m |\n",
      "| \u001b[0m2        \u001b[0m | \u001b[0m-0.0     \u001b[0m | \u001b[0m901.2    \u001b[0m | \u001b[0m214.8    \u001b[0m | \u001b[0m206.3    \u001b[0m |\n",
      "| \u001b[0m3        \u001b[0m | \u001b[0m-0.0     \u001b[0m | \u001b[0m712.2    \u001b[0m | \u001b[0m214.3    \u001b[0m | \u001b[0m267.9    \u001b[0m |\n",
      "| \u001b[0m14       \u001b[0m | \u001b[0m-0.0     \u001b[0m | \u001b[0m988.0    \u001b[0m | \u001b[0m327.3    \u001b[0m | \u001b[0m101.5    \u001b[0m |\n",
      "| \u001b[0m9        \u001b[0m | \u001b[0m-1.0     \u001b[0m | \u001b[0m318.5    \u001b[0m | \u001b[0m138.1    \u001b[0m | \u001b[0m105.1    \u001b[0m |\n",
      "| \u001b[0m4        \u001b[0m | \u001b[0m-0.0     \u001b[0m | \u001b[0m558.1    \u001b[0m | \u001b[0m331.7    \u001b[0m | \u001b[0m230.9    \u001b[0m |\n",
      "| \u001b[0m8        \u001b[0m | \u001b[0m-0.0     \u001b[0m | \u001b[0m300.7    \u001b[0m | \u001b[0m329.7    \u001b[0m | \u001b[0m267.1    \u001b[0m |\n",
      "| \u001b[0m5        \u001b[0m | \u001b[0m-0.0     \u001b[0m | \u001b[0m779.1    \u001b[0m | \u001b[0m299.8    \u001b[0m | \u001b[0m232.6    \u001b[0m |\n",
      "| \u001b[0m6        \u001b[0m | \u001b[0m-0.0     \u001b[0m | \u001b[0m315.3    \u001b[0m | \u001b[0m326.6    \u001b[0m | \u001b[0m268.0    \u001b[0m |\n",
      "| \u001b[0m11       \u001b[0m | \u001b[0m-0.0     \u001b[0m | \u001b[0m367.9    \u001b[0m | \u001b[0m143.5    \u001b[0m | \u001b[0m269.6    \u001b[0m |\n",
      "| \u001b[0m15       \u001b[0m | \u001b[0m-0.0     \u001b[0m | \u001b[0m319.4    \u001b[0m | \u001b[0m330.9    \u001b[0m | \u001b[0m103.6    \u001b[0m |\n",
      "=============================================================\n"
     ]
    },
    {
     "name": "stderr",
     "output_type": "stream",
     "text": [
      "Optimizing parameters:   0%|          | 4/4840 [00:07<1:57:44,  1.46s/it]"
     ]
    },
    {
     "name": "stdout",
     "output_type": "stream",
     "text": [
      "| \u001b[0m10       \u001b[0m | \u001b[0m-1.0     \u001b[0m | \u001b[0m984.8    \u001b[0m | \u001b[0m144.3    \u001b[0m | \u001b[0m265.6    \u001b[0m |\n",
      "| \u001b[0m11       \u001b[0m | \u001b[0m-0.0     \u001b[0m | \u001b[0m648.7    \u001b[0m | \u001b[0m333.0    \u001b[0m | \u001b[0m270.0    \u001b[0m |\n",
      "| \u001b[0m15       \u001b[0m | \u001b[0m-0.0     \u001b[0m | \u001b[0m303.8    \u001b[0m | \u001b[0m137.8    \u001b[0m | \u001b[0m106.5    \u001b[0m |\n",
      "|   iter    |  target   | cast_p... | lower_... | upper_... |\n",
      "-------------------------------------------------------------\n",
      "=============================================================\n"
     ]
    },
    {
     "name": "stderr",
     "output_type": "stream",
     "text": [
      "Optimizing parameters:   0%|          | 5/4840 [00:07<1:21:12,  1.01s/it]"
     ]
    },
    {
     "name": "stdout",
     "output_type": "stream",
     "text": [
      "| \u001b[0m6        \u001b[0m | \u001b[0m-0.0     \u001b[0m | \u001b[0m313.4    \u001b[0m | \u001b[0m150.8    \u001b[0m | \u001b[0m102.5    \u001b[0m |\n",
      "| \u001b[0m1        \u001b[0m | \u001b[0m-0.0     \u001b[0m | \u001b[0m397.9    \u001b[0m | \u001b[0m291.5    \u001b[0m | \u001b[0m150.6    \u001b[0m |\n",
      "| \u001b[0m7        \u001b[0m | \u001b[0m-0.0     \u001b[0m | \u001b[0m322.1    \u001b[0m | \u001b[0m137.3    \u001b[0m | \u001b[0m102.0    \u001b[0m |\n",
      "| \u001b[0m2        \u001b[0m | \u001b[0m-0.0     \u001b[0m | \u001b[0m346.4    \u001b[0m | \u001b[0m197.4    \u001b[0m | \u001b[0m208.7    \u001b[0m |\n",
      "| \u001b[0m3        \u001b[0m | \u001b[0m-0.0     \u001b[0m | \u001b[0m546.0    \u001b[0m | \u001b[0m168.2    \u001b[0m | \u001b[0m157.4    \u001b[0m |\n",
      "| \u001b[0m4        \u001b[0m | \u001b[0m-0.0     \u001b[0m | \u001b[0m710.3    \u001b[0m | \u001b[0m286.8    \u001b[0m | \u001b[0m252.3    \u001b[0m |\n",
      "| \u001b[0m12       \u001b[0m | \u001b[0m-0.0     \u001b[0m | \u001b[0m997.2    \u001b[0m | \u001b[0m142.7    \u001b[0m | \u001b[0m268.1    \u001b[0m |\n",
      "| \u001b[0m9        \u001b[0m | \u001b[0m-0.0     \u001b[0m | \u001b[0m305.3    \u001b[0m | \u001b[0m326.2    \u001b[0m | \u001b[0m107.8    \u001b[0m |\n",
      "| \u001b[0m5        \u001b[0m | \u001b[0m-0.0     \u001b[0m | \u001b[0m318.1    \u001b[0m | \u001b[0m229.9    \u001b[0m | \u001b[0m136.6    \u001b[0m |\n",
      "| \u001b[0m11       \u001b[0m | \u001b[0m-1.0     \u001b[0m | \u001b[0m999.4    \u001b[0m | \u001b[0m329.7    \u001b[0m | \u001b[0m103.8    \u001b[0m |\n",
      "| \u001b[0m7        \u001b[0m | \u001b[0m-0.0     \u001b[0m | \u001b[0m989.4    \u001b[0m | \u001b[0m308.8    \u001b[0m | \u001b[0m100.2    \u001b[0m |\n",
      "| \u001b[0m13       \u001b[0m | \u001b[0m-0.0     \u001b[0m | \u001b[0m989.6    \u001b[0m | \u001b[0m135.4    \u001b[0m | \u001b[0m101.3    \u001b[0m |\n",
      "| \u001b[0m6        \u001b[0m | \u001b[0m-0.0     \u001b[0m | \u001b[0m996.0    \u001b[0m | \u001b[0m150.0    \u001b[0m | \u001b[0m107.6    \u001b[0m |\n",
      "| \u001b[0m8        \u001b[0m | \u001b[0m-0.0     \u001b[0m | \u001b[0m978.9    \u001b[0m | \u001b[0m332.9    \u001b[0m | \u001b[0m107.4    \u001b[0m |\n",
      "| \u001b[0m10       \u001b[0m | \u001b[0m-0.0     \u001b[0m | \u001b[0m993.1    \u001b[0m | \u001b[0m139.4    \u001b[0m | \u001b[0m109.9    \u001b[0m |\n",
      "| \u001b[0m12       \u001b[0m | \u001b[0m-1.0     \u001b[0m | \u001b[0m621.9    \u001b[0m | \u001b[0m333.0    \u001b[0m | \u001b[0m114.5    \u001b[0m |\n",
      "|   iter    |  target   | cast_p... | lower_... | upper_... |\n",
      "-------------------------------------------------------------\n",
      "| \u001b[0m9        \u001b[0m | \u001b[0m-0.0     \u001b[0m | \u001b[0m303.1    \u001b[0m | \u001b[0m330.8    \u001b[0m | \u001b[0m105.7    \u001b[0m |\n",
      "| \u001b[0m1        \u001b[0m | \u001b[0m-0.0     \u001b[0m | \u001b[0m803.7    \u001b[0m | \u001b[0m278.4    \u001b[0m | \u001b[0m100.1    \u001b[0m |\n",
      "| \u001b[0m7        \u001b[0m | \u001b[0m-0.0     \u001b[0m | \u001b[0m969.3    \u001b[0m | \u001b[0m330.7    \u001b[0m | \u001b[0m100.1    \u001b[0m |\n",
      "| \u001b[0m2        \u001b[0m | \u001b[0m-0.0     \u001b[0m | \u001b[0m536.8    \u001b[0m | \u001b[0m305.4    \u001b[0m | \u001b[0m194.5    \u001b[0m |\n",
      "| \u001b[0m12       \u001b[0m | \u001b[0m-1.0     \u001b[0m | \u001b[0m301.6    \u001b[0m | \u001b[0m331.1    \u001b[0m | \u001b[0m268.9    \u001b[0m |\n",
      "| \u001b[0m8        \u001b[0m | \u001b[0m-0.0     \u001b[0m | \u001b[0m313.2    \u001b[0m | \u001b[0m332.9    \u001b[0m | \u001b[0m111.5    \u001b[0m |\n",
      "| \u001b[0m3        \u001b[0m | \u001b[0m-0.0     \u001b[0m | \u001b[0m658.8    \u001b[0m | \u001b[0m144.7    \u001b[0m | \u001b[0m252.1    \u001b[0m |\n",
      "| \u001b[0m14       \u001b[0m | \u001b[0m-0.0     \u001b[0m | \u001b[0m312.7    \u001b[0m | \u001b[0m332.6    \u001b[0m | \u001b[0m266.7    \u001b[0m |\n",
      "| \u001b[0m13       \u001b[0m | \u001b[0m-1.0     \u001b[0m | \u001b[0m531.3    \u001b[0m | \u001b[0m241.7    \u001b[0m | \u001b[0m270.0    \u001b[0m |\n",
      "| \u001b[0m11       \u001b[0m | \u001b[0m-0.0     \u001b[0m | \u001b[0m992.5    \u001b[0m | \u001b[0m330.4    \u001b[0m | \u001b[0m259.5    \u001b[0m |\n",
      "| \u001b[0m4        \u001b[0m | \u001b[0m-0.0     \u001b[0m | \u001b[0m479.5    \u001b[0m | \u001b[0m288.8    \u001b[0m | \u001b[0m122.3    \u001b[0m |\n",
      "| \u001b[0m8        \u001b[0m | \u001b[0m-0.0     \u001b[0m | \u001b[0m943.9    \u001b[0m | \u001b[0m136.5    \u001b[0m | \u001b[0m269.8    \u001b[0m |\n",
      "| \u001b[0m5        \u001b[0m | \u001b[0m-0.0     \u001b[0m | \u001b[0m655.6    \u001b[0m | \u001b[0m210.8    \u001b[0m | \u001b[0m216.4    \u001b[0m |\n",
      "| \u001b[0m10       \u001b[0m | \u001b[0m-0.0     \u001b[0m | \u001b[0m325.5    \u001b[0m | \u001b[0m140.9    \u001b[0m | \u001b[0m264.9    \u001b[0m |\n",
      "| \u001b[0m15       \u001b[0m | \u001b[0m-0.0     \u001b[0m | \u001b[0m983.1    \u001b[0m | \u001b[0m326.4    \u001b[0m | \u001b[0m268.2    \u001b[0m |\n",
      "=============================================================\n",
      "| \u001b[0m14       \u001b[0m | \u001b[0m-0.0     \u001b[0m | \u001b[0m740.5    \u001b[0m | \u001b[0m333.0    \u001b[0m | \u001b[0m270.0    \u001b[0m |\n",
      "|   iter    |  target   | cast_p... | lower_... | upper_... |\n",
      "-------------------------------------------------------------\n",
      "| \u001b[0m12       \u001b[0m | \u001b[0m-0.0     \u001b[0m | \u001b[0m989.7    \u001b[0m | \u001b[0m325.2    \u001b[0m | \u001b[0m102.5    \u001b[0m |\n",
      "| \u001b[0m9        \u001b[0m | \u001b[0m-0.0     \u001b[0m | \u001b[0m982.6    \u001b[0m | \u001b[0m323.6    \u001b[0m | \u001b[0m264.5    \u001b[0m |\n",
      "| \u001b[0m13       \u001b[0m | \u001b[0m-1.0     \u001b[0m | \u001b[0m302.5    \u001b[0m | \u001b[0m145.0    \u001b[0m | \u001b[0m104.1    \u001b[0m |\n",
      "| \u001b[0m1        \u001b[0m | \u001b[0m-0.0     \u001b[0m | \u001b[0m732.1    \u001b[0m | \u001b[0m324.7    \u001b[0m | \u001b[0m219.1    \u001b[0m |\n",
      "| \u001b[0m6        \u001b[0m | \u001b[0m-0.0     \u001b[0m | \u001b[0m997.6    \u001b[0m | \u001b[0m322.3    \u001b[0m | \u001b[0m266.9    \u001b[0m |\n",
      "| \u001b[0m9        \u001b[0m | \u001b[0m-0.0     \u001b[0m | \u001b[0m988.6    \u001b[0m | \u001b[0m135.7    \u001b[0m | \u001b[0m105.9    \u001b[0m |\n",
      "| \u001b[0m2        \u001b[0m | \u001b[0m-0.0     \u001b[0m | \u001b[0m757.3    \u001b[0m | \u001b[0m180.9    \u001b[0m | \u001b[0m185.1    \u001b[0m |\n",
      "| \u001b[0m11       \u001b[0m | \u001b[0m-0.0     \u001b[0m | \u001b[0m986.2    \u001b[0m | \u001b[0m330.0    \u001b[0m | \u001b[0m268.1    \u001b[0m |\n",
      "| \u001b[0m3        \u001b[0m | \u001b[0m-0.0     \u001b[0m | \u001b[0m596.3    \u001b[0m | \u001b[0m186.9    \u001b[0m | \u001b[0m223.4    \u001b[0m |\n",
      "| \u001b[0m4        \u001b[0m | \u001b[0m-0.0     \u001b[0m | \u001b[0m701.0    \u001b[0m | \u001b[0m281.6    \u001b[0m | \u001b[0m160.9    \u001b[0m |\n",
      "| \u001b[0m5        \u001b[0m | \u001b[0m-0.0     \u001b[0m | \u001b[0m991.0    \u001b[0m | \u001b[0m317.4    \u001b[0m | \u001b[0m216.1    \u001b[0m |\n",
      "| \u001b[0m10       \u001b[0m | \u001b[0m-0.0     \u001b[0m | \u001b[0m318.0    \u001b[0m | \u001b[0m327.8    \u001b[0m | \u001b[0m266.2    \u001b[0m |\n",
      "| \u001b[0m13       \u001b[0m | \u001b[0m-0.0     \u001b[0m | \u001b[0m991.8    \u001b[0m | \u001b[0m147.5    \u001b[0m | \u001b[0m268.1    \u001b[0m |\n",
      "| \u001b[0m15       \u001b[0m | \u001b[0m-1.0     \u001b[0m | \u001b[0m832.5    \u001b[0m | \u001b[0m240.0    \u001b[0m | \u001b[0m270.0    \u001b[0m |\n",
      "=============================================================\n"
     ]
    },
    {
     "name": "stderr",
     "output_type": "stream",
     "text": [
      "Optimizing parameters:   0%|          | 6/4840 [00:09<2:00:15,  1.49s/it]"
     ]
    },
    {
     "name": "stdout",
     "output_type": "stream",
     "text": [
      "| \u001b[0m14       \u001b[0m | \u001b[0m-1.0     \u001b[0m | \u001b[0m979.3    \u001b[0m | \u001b[0m136.0    \u001b[0m | \u001b[0m267.2    \u001b[0m |\n",
      "|   iter    |  target   | cast_p... | lower_... | upper_... |\n",
      "-------------------------------------------------------------\n",
      "| \u001b[0m12       \u001b[0m | \u001b[0m-0.0     \u001b[0m | \u001b[0m976.6    \u001b[0m | \u001b[0m136.7    \u001b[0m | \u001b[0m100.9    \u001b[0m |\n",
      "| \u001b[0m10       \u001b[0m | \u001b[0m-0.0     \u001b[0m | \u001b[0m344.7    \u001b[0m | \u001b[0m139.1    \u001b[0m | \u001b[0m269.4    \u001b[0m |\n",
      "| \u001b[0m1        \u001b[0m | \u001b[0m-0.0     \u001b[0m | \u001b[0m749.4    \u001b[0m | \u001b[0m243.9    \u001b[0m | \u001b[0m231.1    \u001b[0m |\n",
      "| \u001b[0m6        \u001b[0m | \u001b[0m-0.0     \u001b[0m | \u001b[0m303.8    \u001b[0m | \u001b[0m320.3    \u001b[0m | \u001b[0m111.0    \u001b[0m |\n",
      "| \u001b[0m7        \u001b[0m | \u001b[0m-0.0     \u001b[0m | \u001b[0m998.0    \u001b[0m | \u001b[0m135.5    \u001b[0m | \u001b[0m118.9    \u001b[0m |\n",
      "| \u001b[0m2        \u001b[0m | \u001b[0m-0.0     \u001b[0m | \u001b[0m808.4    \u001b[0m | \u001b[0m212.4    \u001b[0m | \u001b[0m185.2    \u001b[0m |\n",
      "| \u001b[0m11       \u001b[0m | \u001b[0m-0.0     \u001b[0m | \u001b[0m329.1    \u001b[0m | \u001b[0m136.8    \u001b[0m | \u001b[0m269.5    \u001b[0m |\n",
      "| \u001b[0m3        \u001b[0m | \u001b[0m-0.0     \u001b[0m | \u001b[0m428.8    \u001b[0m | \u001b[0m318.3    \u001b[0m | \u001b[0m136.6    \u001b[0m |\n",
      "| \u001b[0m13       \u001b[0m | \u001b[0m-0.0     \u001b[0m | \u001b[0m322.5    \u001b[0m | \u001b[0m319.4    \u001b[0m | \u001b[0m104.4    \u001b[0m |\n",
      "| \u001b[0m4        \u001b[0m | \u001b[0m-0.0     \u001b[0m | \u001b[0m692.3    \u001b[0m | \u001b[0m279.4    \u001b[0m | \u001b[0m205.2    \u001b[0m |\n",
      "| \u001b[0m7        \u001b[0m | \u001b[0m-0.0     \u001b[0m | \u001b[0m938.3    \u001b[0m | \u001b[0m291.9    \u001b[0m | \u001b[0m243.1    \u001b[0m |\n",
      "| \u001b[0m5        \u001b[0m | \u001b[0m-0.0     \u001b[0m | \u001b[0m756.6    \u001b[0m | \u001b[0m300.7    \u001b[0m | \u001b[0m129.4    \u001b[0m |\n",
      "| \u001b[0m8        \u001b[0m | \u001b[0m-0.0     \u001b[0m | \u001b[0m315.2    \u001b[0m | \u001b[0m138.9    \u001b[0m | \u001b[0m257.5    \u001b[0m |\n",
      "| \u001b[0m14       \u001b[0m | \u001b[0m-0.0     \u001b[0m | \u001b[0m319.2    \u001b[0m | \u001b[0m149.9    \u001b[0m | \u001b[0m101.9    \u001b[0m |\n",
      "| \u001b[0m11       \u001b[0m | \u001b[0m-0.0     \u001b[0m | \u001b[0m999.9    \u001b[0m | \u001b[0m137.3    \u001b[0m | \u001b[0m100.1    \u001b[0m |\n",
      "| \u001b[0m14       \u001b[0m | \u001b[0m-0.0     \u001b[0m | \u001b[0m841.2    \u001b[0m | \u001b[0m317.3    \u001b[0m | \u001b[0m217.1    \u001b[0m |\n",
      "| \u001b[0m12       \u001b[0m | \u001b[0m-0.0     \u001b[0m | \u001b[0m303.2    \u001b[0m | \u001b[0m332.3    \u001b[0m | \u001b[0m100.2    \u001b[0m |\n",
      "| \u001b[0m15       \u001b[0m | \u001b[0m-1.0     \u001b[0m | \u001b[0m311.6    \u001b[0m | \u001b[0m330.5    \u001b[0m | \u001b[0m262.9    \u001b[0m |\n",
      "=============================================================\n"
     ]
    },
    {
     "name": "stderr",
     "output_type": "stream",
     "text": [
      "Optimizing parameters:   0%|          | 8/4840 [00:10<1:21:38,  1.01s/it]"
     ]
    },
    {
     "name": "stdout",
     "output_type": "stream",
     "text": [
      "| \u001b[0m6        \u001b[0m | \u001b[0m-0.0     \u001b[0m | \u001b[0m313.3    \u001b[0m | \u001b[0m136.7    \u001b[0m | \u001b[0m114.2    \u001b[0m |\n",
      "| \u001b[0m8        \u001b[0m | \u001b[0m-0.0     \u001b[0m | \u001b[0m996.4    \u001b[0m | \u001b[0m143.6    \u001b[0m | \u001b[0m101.7    \u001b[0m |\n",
      "| \u001b[0m9        \u001b[0m | \u001b[0m-0.0     \u001b[0m | \u001b[0m300.8    \u001b[0m | \u001b[0m319.6    \u001b[0m | \u001b[0m101.8    \u001b[0m |\n",
      "|   iter    |  target   | cast_p... | lower_... | upper_... |\n",
      "-------------------------------------------------------------\n",
      "| \u001b[0m15       \u001b[0m | \u001b[0m-0.0     \u001b[0m | \u001b[0m747.6    \u001b[0m | \u001b[0m187.4    \u001b[0m | \u001b[0m250.6    \u001b[0m |\n",
      "=============================================================\n"
     ]
    },
    {
     "name": "stderr",
     "output_type": "stream",
     "text": [
      "Optimizing parameters:   0%|          | 9/4840 [00:11<1:05:44,  1.22it/s]"
     ]
    },
    {
     "name": "stdout",
     "output_type": "stream",
     "text": [
      "| \u001b[0m1        \u001b[0m | \u001b[0m-0.0     \u001b[0m | \u001b[0m695.4    \u001b[0m | \u001b[0m267.8    \u001b[0m | \u001b[0m167.3    \u001b[0m |\n",
      "| \u001b[0m15       \u001b[0m | \u001b[0m-0.0     \u001b[0m | \u001b[0m306.4    \u001b[0m | \u001b[0m138.1    \u001b[0m | \u001b[0m267.6    \u001b[0m |\n",
      "=============================================================\n",
      "| \u001b[0m12       \u001b[0m | \u001b[0m-0.0     \u001b[0m | \u001b[0m310.2    \u001b[0m | \u001b[0m327.4    \u001b[0m | \u001b[0m105.4    \u001b[0m |\n",
      "| \u001b[0m2        \u001b[0m | \u001b[0m-0.0     \u001b[0m | \u001b[0m972.8    \u001b[0m | \u001b[0m136.6    \u001b[0m | \u001b[0m131.6    \u001b[0m |\n",
      "| \u001b[0m13       \u001b[0m | \u001b[0m-0.0     \u001b[0m | \u001b[0m984.4    \u001b[0m | \u001b[0m140.2    \u001b[0m | \u001b[0m102.5    \u001b[0m |\n",
      "| \u001b[0m3        \u001b[0m | \u001b[0m-0.0     \u001b[0m | \u001b[0m741.1    \u001b[0m | \u001b[0m237.2    \u001b[0m | \u001b[0m140.8    \u001b[0m |\n",
      "| \u001b[0m4        \u001b[0m | \u001b[0m-0.0     \u001b[0m | \u001b[0m694.3    \u001b[0m | \u001b[0m218.7    \u001b[0m | \u001b[0m256.2    \u001b[0m |\n",
      "| \u001b[0m5        \u001b[0m | \u001b[0m-0.0     \u001b[0m | \u001b[0m941.9    \u001b[0m | \u001b[0m199.2    \u001b[0m | \u001b[0m218.7    \u001b[0m |\n",
      "| \u001b[0m9        \u001b[0m | \u001b[0m-0.0     \u001b[0m | \u001b[0m304.0    \u001b[0m | \u001b[0m147.0    \u001b[0m | \u001b[0m268.7    \u001b[0m |\n",
      "| \u001b[0m7        \u001b[0m | \u001b[0m-0.0     \u001b[0m | \u001b[0m999.4    \u001b[0m | \u001b[0m151.1    \u001b[0m | \u001b[0m107.3    \u001b[0m |\n",
      "| \u001b[0m10       \u001b[0m | \u001b[0m-0.0     \u001b[0m | \u001b[0m301.3    \u001b[0m | \u001b[0m139.1    \u001b[0m | \u001b[0m100.7    \u001b[0m |\n",
      "| \u001b[0m14       \u001b[0m | \u001b[0m-0.0     \u001b[0m | \u001b[0m994.1    \u001b[0m | \u001b[0m326.4    \u001b[0m | \u001b[0m261.9    \u001b[0m |\n",
      "| \u001b[0m13       \u001b[0m | \u001b[0m-0.0     \u001b[0m | \u001b[0m303.6    \u001b[0m | \u001b[0m151.8    \u001b[0m | \u001b[0m268.3    \u001b[0m |\n",
      "|   iter    |  target   | cast_p... | lower_... | upper_... |\n",
      "-------------------------------------------------------------\n",
      "| \u001b[0m1        \u001b[0m | \u001b[0m-0.0     \u001b[0m | \u001b[0m708.2    \u001b[0m | \u001b[0m163.9    \u001b[0m | \u001b[0m221.8    \u001b[0m |\n",
      "| \u001b[0m6        \u001b[0m | \u001b[0m-0.0     \u001b[0m | \u001b[0m309.9    \u001b[0m | \u001b[0m138.6    \u001b[0m | \u001b[0m100.5    \u001b[0m |\n",
      "| \u001b[0m8        \u001b[0m | \u001b[0m-0.0     \u001b[0m | \u001b[0m300.3    \u001b[0m | \u001b[0m146.6    \u001b[0m | \u001b[0m268.9    \u001b[0m |\n",
      "| \u001b[0m2        \u001b[0m | \u001b[0m-0.0     \u001b[0m | \u001b[0m815.2    \u001b[0m | \u001b[0m145.4    \u001b[0m | \u001b[0m200.3    \u001b[0m |\n",
      "| \u001b[0m10       \u001b[0m | \u001b[0m-0.0     \u001b[0m | \u001b[0m303.7    \u001b[0m | \u001b[0m327.7    \u001b[0m | \u001b[0m100.2    \u001b[0m |\n",
      "| \u001b[0m11       \u001b[0m | \u001b[0m-0.0     \u001b[0m | \u001b[0m330.6    \u001b[0m | \u001b[0m331.1    \u001b[0m | \u001b[0m267.2    \u001b[0m |\n",
      "|   iter    |  target   | cast_p... | lower_... | upper_... |\n",
      "-------------------------------------------------------------\n",
      "| \u001b[0m15       \u001b[0m | \u001b[0m-0.0     \u001b[0m | \u001b[0m303.6    \u001b[0m | \u001b[0m139.2    \u001b[0m | \u001b[0m105.9    \u001b[0m |\n",
      "=============================================================\n",
      "| \u001b[0m1        \u001b[0m | \u001b[0m-0.0     \u001b[0m | \u001b[0m428.4    \u001b[0m | \u001b[0m253.3    \u001b[0m | \u001b[0m137.1    \u001b[0m |\n",
      "| \u001b[0m3        \u001b[0m | \u001b[0m-0.0     \u001b[0m | \u001b[0m430.3    \u001b[0m | \u001b[0m170.0    \u001b[0m | \u001b[0m198.0    \u001b[0m |\n",
      "| \u001b[0m4        \u001b[0m | \u001b[0m-0.0     \u001b[0m | \u001b[0m537.3    \u001b[0m | \u001b[0m203.7    \u001b[0m | \u001b[0m262.2    \u001b[0m |\n",
      "| \u001b[0m5        \u001b[0m | \u001b[0m-0.0     \u001b[0m | \u001b[0m578.5    \u001b[0m | \u001b[0m271.2    \u001b[0m | \u001b[0m227.7    \u001b[0m |\n",
      "| \u001b[0m14       \u001b[0m | \u001b[0m-0.0     \u001b[0m | \u001b[0m998.0    \u001b[0m | \u001b[0m332.1    \u001b[0m | \u001b[0m268.7    \u001b[0m |\n",
      "| \u001b[0m2        \u001b[0m | \u001b[0m-0.0     \u001b[0m | \u001b[0m738.9    \u001b[0m | \u001b[0m242.8    \u001b[0m | \u001b[0m153.6    \u001b[0m |\n",
      "| \u001b[0m7        \u001b[0m | \u001b[0m-0.0     \u001b[0m | \u001b[0m306.9    \u001b[0m | \u001b[0m321.6    \u001b[0m | \u001b[0m265.8    \u001b[0m |\n",
      "| \u001b[0m3        \u001b[0m | \u001b[0m-0.0     \u001b[0m | \u001b[0m977.9    \u001b[0m | \u001b[0m159.8    \u001b[0m | \u001b[0m173.1    \u001b[0m |\n",
      "| \u001b[0m4        \u001b[0m | \u001b[0m-0.0     \u001b[0m | \u001b[0m307.8    \u001b[0m | \u001b[0m248.1    \u001b[0m | \u001b[0m202.2    \u001b[0m |\n",
      "| \u001b[0m5        \u001b[0m | \u001b[0m-0.0     \u001b[0m | \u001b[0m811.4    \u001b[0m | \u001b[0m304.9    \u001b[0m | \u001b[0m224.6    \u001b[0m |\n",
      "| \u001b[0m9        \u001b[0m | \u001b[0m-0.0     \u001b[0m | \u001b[0m983.1    \u001b[0m | \u001b[0m326.3    \u001b[0m | \u001b[0m266.6    \u001b[0m |\n",
      "| \u001b[0m6        \u001b[0m | \u001b[0m-0.0     \u001b[0m | \u001b[0m366.4    \u001b[0m | \u001b[0m313.4    \u001b[0m | \u001b[0m213.9    \u001b[0m |\n",
      "| \u001b[0m12       \u001b[0m | \u001b[0m-0.0     \u001b[0m | \u001b[0m994.0    \u001b[0m | \u001b[0m144.2    \u001b[0m | \u001b[0m101.4    \u001b[0m |\n",
      "| \u001b[0m8        \u001b[0m | \u001b[0m-0.0     \u001b[0m | \u001b[0m981.3    \u001b[0m | \u001b[0m332.8    \u001b[0m | \u001b[0m101.0    \u001b[0m |\n",
      "| \u001b[0m11       \u001b[0m | \u001b[0m-0.0     \u001b[0m | \u001b[0m941.9    \u001b[0m | \u001b[0m136.0    \u001b[0m | \u001b[0m100.6    \u001b[0m |\n",
      "| \u001b[0m7        \u001b[0m | \u001b[0m-0.0     \u001b[0m | \u001b[0m996.7    \u001b[0m | \u001b[0m311.9    \u001b[0m | \u001b[0m100.6    \u001b[0m |\n",
      "| \u001b[0m10       \u001b[0m | \u001b[0m-0.0     \u001b[0m | \u001b[0m313.8    \u001b[0m | \u001b[0m326.3    \u001b[0m | \u001b[0m102.7    \u001b[0m |\n",
      "| \u001b[0m6        \u001b[0m | \u001b[0m-0.0     \u001b[0m | \u001b[0m989.7    \u001b[0m | \u001b[0m180.8    \u001b[0m | \u001b[0m102.2    \u001b[0m |\n",
      "| \u001b[0m15       \u001b[0m | \u001b[0m-0.0     \u001b[0m | \u001b[0m346.8    \u001b[0m | \u001b[0m333.0    \u001b[0m | \u001b[0m100.7    \u001b[0m |\n",
      "=============================================================\n"
     ]
    },
    {
     "name": "stderr",
     "output_type": "stream",
     "text": [
      "Optimizing parameters:   0%|          | 11/4840 [00:12<1:10:01,  1.15it/s]"
     ]
    },
    {
     "name": "stdout",
     "output_type": "stream",
     "text": [
      "| \u001b[0m9        \u001b[0m | \u001b[0m-0.0     \u001b[0m | \u001b[0m309.8    \u001b[0m | \u001b[0m323.0    \u001b[0m | \u001b[0m105.7    \u001b[0m |\n",
      "| \u001b[0m13       \u001b[0m | \u001b[0m-0.0     \u001b[0m | \u001b[0m971.3    \u001b[0m | \u001b[0m331.8    \u001b[0m | \u001b[0m262.3    \u001b[0m |\n",
      "| \u001b[0m8        \u001b[0m | \u001b[0m-0.0     \u001b[0m | \u001b[0m637.5    \u001b[0m | \u001b[0m231.7    \u001b[0m | \u001b[0m173.4    \u001b[0m |\n",
      "|   iter    |  target   | cast_p... | lower_... | upper_... |\n",
      "-------------------------------------------------------------\n",
      "| \u001b[0m12       \u001b[0m | \u001b[0m-0.0     \u001b[0m | \u001b[0m320.7    \u001b[0m | \u001b[0m139.5    \u001b[0m | \u001b[0m267.9    \u001b[0m |\n",
      "| \u001b[0m1        \u001b[0m | \u001b[0m-0.0     \u001b[0m | \u001b[0m904.8    \u001b[0m | \u001b[0m157.7    \u001b[0m | \u001b[0m125.7    \u001b[0m |\n",
      "| \u001b[0m2        \u001b[0m | \u001b[0m-0.0     \u001b[0m | \u001b[0m660.7    \u001b[0m | \u001b[0m217.7    \u001b[0m | \u001b[0m193.9    \u001b[0m |\n",
      "| \u001b[0m11       \u001b[0m | \u001b[0m-0.0     \u001b[0m | \u001b[0m991.8    \u001b[0m | \u001b[0m139.4    \u001b[0m | \u001b[0m105.1    \u001b[0m |\n",
      "| \u001b[0m3        \u001b[0m | \u001b[0m-0.0     \u001b[0m | \u001b[0m782.5    \u001b[0m | \u001b[0m172.3    \u001b[0m | \u001b[0m187.3    \u001b[0m |\n",
      "| \u001b[0m9        \u001b[0m | \u001b[0m-0.0     \u001b[0m | \u001b[0m647.9    \u001b[0m | \u001b[0m170.3    \u001b[0m | \u001b[0m213.0    \u001b[0m |\n",
      "| \u001b[0m4        \u001b[0m | \u001b[0m-0.0     \u001b[0m | \u001b[0m526.6    \u001b[0m | \u001b[0m161.6    \u001b[0m | \u001b[0m257.4    \u001b[0m |\n",
      "| \u001b[0m7        \u001b[0m | \u001b[0m-0.0     \u001b[0m | \u001b[0m339.0    \u001b[0m | \u001b[0m137.6    \u001b[0m | \u001b[0m268.9    \u001b[0m |\n",
      "| \u001b[0m5        \u001b[0m | \u001b[0m-0.0     \u001b[0m | \u001b[0m965.3    \u001b[0m | \u001b[0m194.7    \u001b[0m | \u001b[0m117.4    \u001b[0m |\n",
      "| \u001b[0m10       \u001b[0m | \u001b[0m-0.0     \u001b[0m | \u001b[0m305.8    \u001b[0m | \u001b[0m139.3    \u001b[0m | \u001b[0m264.1    \u001b[0m |\n",
      "| \u001b[0m13       \u001b[0m | \u001b[0m-0.0     \u001b[0m | \u001b[0m309.6    \u001b[0m | \u001b[0m136.9    \u001b[0m | \u001b[0m109.4    \u001b[0m |\n",
      "| \u001b[0m14       \u001b[0m | \u001b[0m-0.0     \u001b[0m | \u001b[0m979.9    \u001b[0m | \u001b[0m136.8    \u001b[0m | \u001b[0m269.9    \u001b[0m |\n",
      "|   iter    |  target   | cast_p... | lower_... | upper_... |\n",
      "-------------------------------------------------------------\n",
      "| \u001b[0m6        \u001b[0m | \u001b[0m-0.0     \u001b[0m | \u001b[0m664.6    \u001b[0m | \u001b[0m160.5    \u001b[0m | \u001b[0m196.7    \u001b[0m |\n",
      "| \u001b[0m1        \u001b[0m | \u001b[0m-0.0     \u001b[0m | \u001b[0m662.9    \u001b[0m | \u001b[0m182.9    \u001b[0m | \u001b[0m128.5    \u001b[0m |\n",
      "| \u001b[0m12       \u001b[0m | \u001b[0m-0.0     \u001b[0m | \u001b[0m321.9    \u001b[0m | \u001b[0m142.1    \u001b[0m | \u001b[0m264.8    \u001b[0m |\n",
      "| \u001b[0m2        \u001b[0m | \u001b[0m-0.0     \u001b[0m | \u001b[0m349.6    \u001b[0m | \u001b[0m316.9    \u001b[0m | \u001b[0m215.3    \u001b[0m |\n",
      "| \u001b[0m3        \u001b[0m | \u001b[0m-0.0     \u001b[0m | \u001b[0m535.1    \u001b[0m | \u001b[0m222.0    \u001b[0m | \u001b[0m148.1    \u001b[0m |\n",
      "| \u001b[0m10       \u001b[0m | \u001b[0m-0.0     \u001b[0m | \u001b[0m327.8    \u001b[0m | \u001b[0m143.8    \u001b[0m | \u001b[0m101.6    \u001b[0m |\n",
      "| \u001b[0m14       \u001b[0m | \u001b[0m-0.0     \u001b[0m | \u001b[0m335.3    \u001b[0m | \u001b[0m331.1    \u001b[0m | \u001b[0m268.6    \u001b[0m |\n",
      "| \u001b[0m11       \u001b[0m | \u001b[0m-0.0     \u001b[0m | \u001b[0m401.2    \u001b[0m | \u001b[0m198.7    \u001b[0m | \u001b[0m193.9    \u001b[0m |\n",
      "| \u001b[0m8        \u001b[0m | \u001b[0m-0.0     \u001b[0m | \u001b[0m997.7    \u001b[0m | \u001b[0m317.8    \u001b[0m | \u001b[0m269.8    \u001b[0m |\n",
      "| \u001b[0m4        \u001b[0m | \u001b[0m-0.0     \u001b[0m | \u001b[0m657.5    \u001b[0m | \u001b[0m209.8    \u001b[0m | \u001b[0m225.6    \u001b[0m |\n",
      "| \u001b[0m5        \u001b[0m | \u001b[0m-0.0     \u001b[0m | \u001b[0m572.6    \u001b[0m | \u001b[0m206.4    \u001b[0m | \u001b[0m214.1    \u001b[0m |\n",
      "| \u001b[0m7        \u001b[0m | \u001b[0m-0.0     \u001b[0m | \u001b[0m301.9    \u001b[0m | \u001b[0m332.0    \u001b[0m | \u001b[0m106.7    \u001b[0m |\n",
      "| \u001b[0m12       \u001b[0m | \u001b[0m-0.0     \u001b[0m | \u001b[0m514.7    \u001b[0m | \u001b[0m160.4    \u001b[0m | \u001b[0m109.9    \u001b[0m |\n",
      "| \u001b[0m15       \u001b[0m | \u001b[0m-0.0     \u001b[0m | \u001b[0m998.5    \u001b[0m | \u001b[0m329.7    \u001b[0m | \u001b[0m101.4    \u001b[0m |\n",
      "|   iter    |  target   | cast_p... | lower_... | upper_... |\n",
      "-------------------------------------------------------------\n",
      "| \u001b[0m11       \u001b[0m | \u001b[0m-0.0     \u001b[0m | \u001b[0m985.6    \u001b[0m | \u001b[0m329.2    \u001b[0m | \u001b[0m260.9    \u001b[0m |\n",
      "=============================================================\n"
     ]
    },
    {
     "name": "stderr",
     "output_type": "stream",
     "text": [
      "Optimizing parameters:   0%|          | 13/4840 [00:14<1:07:44,  1.19it/s]"
     ]
    },
    {
     "name": "stdout",
     "output_type": "stream",
     "text": [
      "| \u001b[0m1        \u001b[0m | \u001b[0m-0.0     \u001b[0m | \u001b[0m635.8    \u001b[0m | \u001b[0m327.9    \u001b[0m | \u001b[0m105.8    \u001b[0m |\n",
      "| \u001b[0m6        \u001b[0m | \u001b[0m-0.0     \u001b[0m | \u001b[0m854.9    \u001b[0m | \u001b[0m152.8    \u001b[0m | \u001b[0m178.2    \u001b[0m |\n",
      "| \u001b[0m9        \u001b[0m | \u001b[0m-0.0     \u001b[0m | \u001b[0m301.0    \u001b[0m | \u001b[0m328.2    \u001b[0m | \u001b[0m101.7    \u001b[0m |\n",
      "| \u001b[0m8        \u001b[0m | \u001b[0m-0.0     \u001b[0m | \u001b[0m957.0    \u001b[0m | \u001b[0m332.3    \u001b[0m | \u001b[0m268.0    \u001b[0m |\n",
      "=============================================================\n",
      "| \u001b[0m2        \u001b[0m | \u001b[0m-0.0     \u001b[0m | \u001b[0m594.7    \u001b[0m | \u001b[0m227.3    \u001b[0m | \u001b[0m208.3    \u001b[0m |\n",
      "| \u001b[0m15       \u001b[0m | \u001b[0m-0.0     \u001b[0m | \u001b[0m983.2    \u001b[0m | \u001b[0m136.9    \u001b[0m | \u001b[0m262.1    \u001b[0m |\n",
      "| \u001b[0m13       \u001b[0m | \u001b[0m-0.0     \u001b[0m | \u001b[0m994.0    \u001b[0m | \u001b[0m332.3    \u001b[0m | \u001b[0m264.7    \u001b[0m |\n",
      "| \u001b[0m3        \u001b[0m | \u001b[0m-0.0     \u001b[0m | \u001b[0m836.6    \u001b[0m | \u001b[0m303.8    \u001b[0m | \u001b[0m244.7    \u001b[0m |\n"
     ]
    },
    {
     "name": "stderr",
     "output_type": "stream",
     "text": [
      "Optimizing parameters:   0%|          | 14/4840 [00:14<57:57,  1.39it/s]  "
     ]
    },
    {
     "name": "stdout",
     "output_type": "stream",
     "text": [
      "| \u001b[0m12       \u001b[0m | \u001b[0m-0.0     \u001b[0m | \u001b[0m304.7    \u001b[0m | \u001b[0m330.3    \u001b[0m | \u001b[0m113.3    \u001b[0m |\n",
      "| \u001b[0m13       \u001b[0m | \u001b[0m-0.0     \u001b[0m | \u001b[0m984.2    \u001b[0m | \u001b[0m320.2    \u001b[0m | \u001b[0m268.9    \u001b[0m |\n",
      "| \u001b[0m4        \u001b[0m | \u001b[0m-0.0     \u001b[0m | \u001b[0m669.0    \u001b[0m | \u001b[0m279.7    \u001b[0m | \u001b[0m125.4    \u001b[0m |\n",
      "| \u001b[0m5        \u001b[0m | \u001b[0m-0.0     \u001b[0m | \u001b[0m490.1    \u001b[0m | \u001b[0m174.0    \u001b[0m | \u001b[0m220.7    \u001b[0m |\n",
      "| \u001b[0m10       \u001b[0m | \u001b[0m-0.0     \u001b[0m | \u001b[0m308.3    \u001b[0m | \u001b[0m138.1    \u001b[0m | \u001b[0m265.2    \u001b[0m |\n",
      "| \u001b[0m7        \u001b[0m | \u001b[0m-0.0     \u001b[0m | \u001b[0m993.6    \u001b[0m | \u001b[0m329.3    \u001b[0m | \u001b[0m137.9    \u001b[0m |\n",
      "| \u001b[0m14       \u001b[0m | \u001b[0m-0.0     \u001b[0m | \u001b[0m995.2    \u001b[0m | \u001b[0m138.0    \u001b[0m | \u001b[0m268.9    \u001b[0m |\n",
      "| \u001b[0m13       \u001b[0m | \u001b[0m-0.0     \u001b[0m | \u001b[0m983.5    \u001b[0m | \u001b[0m135.1    \u001b[0m | \u001b[0m105.9    \u001b[0m |\n",
      "| \u001b[0m9        \u001b[0m | \u001b[0m-0.0     \u001b[0m | \u001b[0m314.3    \u001b[0m | \u001b[0m138.8    \u001b[0m | \u001b[0m267.4    \u001b[0m |\n",
      "|   iter    |  target   | cast_p... | lower_... | upper_... |\n",
      "-------------------------------------------------------------\n",
      "| \u001b[0m11       \u001b[0m | \u001b[0m-0.0     \u001b[0m | \u001b[0m887.0    \u001b[0m | \u001b[0m309.8    \u001b[0m | \u001b[0m126.4    \u001b[0m |\n",
      "| \u001b[0m1        \u001b[0m | \u001b[0m-0.0     \u001b[0m | \u001b[0m954.3    \u001b[0m | \u001b[0m180.2    \u001b[0m | \u001b[0m215.9    \u001b[0m |\n",
      "| \u001b[0m6        \u001b[0m | \u001b[0m-0.0     \u001b[0m | \u001b[0m990.7    \u001b[0m | \u001b[0m135.8    \u001b[0m | \u001b[0m105.1    \u001b[0m |\n",
      "| \u001b[0m14       \u001b[0m | \u001b[0m-0.0     \u001b[0m | \u001b[0m987.7    \u001b[0m | \u001b[0m143.1    \u001b[0m | \u001b[0m264.5    \u001b[0m |\n",
      "| \u001b[0m2        \u001b[0m | \u001b[0m-0.0     \u001b[0m | \u001b[0m816.9    \u001b[0m | \u001b[0m157.7    \u001b[0m | \u001b[0m208.0    \u001b[0m |\n",
      "| \u001b[0m10       \u001b[0m | \u001b[0m-0.0     \u001b[0m | \u001b[0m301.7    \u001b[0m | \u001b[0m328.0    \u001b[0m | \u001b[0m106.0    \u001b[0m |\n",
      "| \u001b[0m3        \u001b[0m | \u001b[0m-0.0     \u001b[0m | \u001b[0m456.5    \u001b[0m | \u001b[0m326.5    \u001b[0m | \u001b[0m125.5    \u001b[0m |\n",
      "| \u001b[0m14       \u001b[0m | \u001b[0m-0.0     \u001b[0m | \u001b[0m978.9    \u001b[0m | \u001b[0m332.0    \u001b[0m | \u001b[0m104.2    \u001b[0m |\n",
      "| \u001b[0m8        \u001b[0m | \u001b[0m-0.0     \u001b[0m | \u001b[0m998.1    \u001b[0m | \u001b[0m318.6    \u001b[0m | \u001b[0m269.0    \u001b[0m |\n",
      "| \u001b[0m4        \u001b[0m | \u001b[0m-0.0     \u001b[0m | \u001b[0m545.2    \u001b[0m | \u001b[0m293.9    \u001b[0m | \u001b[0m155.4    \u001b[0m |\n",
      "| \u001b[0m15       \u001b[0m | \u001b[0m-0.0     \u001b[0m | \u001b[0m327.6    \u001b[0m | \u001b[0m320.6    \u001b[0m | \u001b[0m268.4    \u001b[0m |\n",
      "|   iter    |  target   | cast_p... | lower_... | upper_... |\n",
      "-------------------------------------------------------------\n",
      "=============================================================\n"
     ]
    },
    {
     "name": "stderr",
     "output_type": "stream",
     "text": [
      "Optimizing parameters:   0%|          | 15/4840 [00:15<1:04:41,  1.24it/s]"
     ]
    },
    {
     "name": "stdout",
     "output_type": "stream",
     "text": [
      "| \u001b[0m11       \u001b[0m | \u001b[0m-0.0     \u001b[0m | \u001b[0m970.3    \u001b[0m | \u001b[0m332.4    \u001b[0m | \u001b[0m263.1    \u001b[0m |\n",
      "| \u001b[0m5        \u001b[0m | \u001b[0m-0.0     \u001b[0m | \u001b[0m355.4    \u001b[0m | \u001b[0m183.7    \u001b[0m | \u001b[0m170.4    \u001b[0m |\n",
      "| \u001b[0m1        \u001b[0m | \u001b[0m-0.0     \u001b[0m | \u001b[0m721.8    \u001b[0m | \u001b[0m197.9    \u001b[0m | \u001b[0m153.3    \u001b[0m |\n",
      "| \u001b[0m12       \u001b[0m | \u001b[0m-0.0     \u001b[0m | \u001b[0m302.8    \u001b[0m | \u001b[0m136.5    \u001b[0m | \u001b[0m103.3    \u001b[0m |\n",
      "| \u001b[0m15       \u001b[0m | \u001b[0m-0.0     \u001b[0m | \u001b[0m303.8    \u001b[0m | \u001b[0m326.0    \u001b[0m | \u001b[0m268.3    \u001b[0m |\n",
      "=============================================================\n"
     ]
    },
    {
     "name": "stderr",
     "output_type": "stream",
     "text": [
      "Optimizing parameters:   0%|          | 16/4840 [00:16<54:02,  1.49it/s]  "
     ]
    },
    {
     "name": "stdout",
     "output_type": "stream",
     "text": [
      "| \u001b[0m7        \u001b[0m | \u001b[0m-0.0     \u001b[0m | \u001b[0m302.8    \u001b[0m | \u001b[0m136.6    \u001b[0m | \u001b[0m130.1    \u001b[0m |\n",
      "| \u001b[0m2        \u001b[0m | \u001b[0m-0.0     \u001b[0m | \u001b[0m580.6    \u001b[0m | \u001b[0m231.8    \u001b[0m | \u001b[0m173.3    \u001b[0m |\n",
      "| \u001b[0m3        \u001b[0m | \u001b[0m-0.0     \u001b[0m | \u001b[0m783.4    \u001b[0m | \u001b[0m147.8    \u001b[0m | \u001b[0m124.1    \u001b[0m |\n",
      "| \u001b[0m4        \u001b[0m | \u001b[0m-0.0     \u001b[0m | \u001b[0m576.1    \u001b[0m | \u001b[0m140.8    \u001b[0m | \u001b[0m268.2    \u001b[0m |\n",
      "| \u001b[0m5        \u001b[0m | \u001b[0m-0.0     \u001b[0m | \u001b[0m310.2    \u001b[0m | \u001b[0m317.8    \u001b[0m | \u001b[0m207.6    \u001b[0m |\n",
      "| \u001b[0m9        \u001b[0m | \u001b[0m-0.0     \u001b[0m | \u001b[0m303.3    \u001b[0m | \u001b[0m320.0    \u001b[0m | \u001b[0m102.0    \u001b[0m |\n",
      "| \u001b[0m12       \u001b[0m | \u001b[0m-0.0     \u001b[0m | \u001b[0m302.6    \u001b[0m | \u001b[0m320.7    \u001b[0m | \u001b[0m264.9    \u001b[0m |\n",
      "| \u001b[0m15       \u001b[0m | \u001b[0m-0.0     \u001b[0m | \u001b[0m998.2    \u001b[0m | \u001b[0m139.2    \u001b[0m | \u001b[0m269.6    \u001b[0m |\n",
      "| \u001b[0m6        \u001b[0m | \u001b[0m-0.0     \u001b[0m | \u001b[0m344.0    \u001b[0m | \u001b[0m332.9    \u001b[0m | \u001b[0m269.2    \u001b[0m |\n",
      "=============================================================\n",
      "| \u001b[0m13       \u001b[0m | \u001b[0m-0.0     \u001b[0m | \u001b[0m320.6    \u001b[0m | \u001b[0m329.2    \u001b[0m | \u001b[0m268.4    \u001b[0m |\n"
     ]
    },
    {
     "name": "stderr",
     "output_type": "stream",
     "text": [
      "Optimizing parameters:   0%|          | 17/4840 [00:16<46:03,  1.75it/s]"
     ]
    },
    {
     "name": "stdout",
     "output_type": "stream",
     "text": [
      "| \u001b[0m8        \u001b[0m | \u001b[0m-0.0     \u001b[0m | \u001b[0m895.2    \u001b[0m | \u001b[0m213.9    \u001b[0m | \u001b[0m216.8    \u001b[0m |\n",
      "| \u001b[0m6        \u001b[0m | \u001b[0m-0.0     \u001b[0m | \u001b[0m988.6    \u001b[0m | \u001b[0m327.7    \u001b[0m | \u001b[0m269.0    \u001b[0m |\n",
      "| \u001b[0m13       \u001b[0m | \u001b[0m-0.0     \u001b[0m | \u001b[0m995.6    \u001b[0m | \u001b[0m330.4    \u001b[0m | \u001b[0m100.6    \u001b[0m |\n",
      "|   iter    |  target   | cast_p... | lower_... | upper_... |\n",
      "-------------------------------------------------------------\n",
      "| \u001b[0m7        \u001b[0m | \u001b[0m-0.0     \u001b[0m | \u001b[0m990.4    \u001b[0m | \u001b[0m332.5    \u001b[0m | \u001b[0m109.8    \u001b[0m |\n",
      "| \u001b[0m10       \u001b[0m | \u001b[0m-0.0     \u001b[0m | \u001b[0m322.8    \u001b[0m | \u001b[0m136.5    \u001b[0m | \u001b[0m265.3    \u001b[0m |\n",
      "| \u001b[0m1        \u001b[0m | \u001b[0m-0.0     \u001b[0m | \u001b[0m637.2    \u001b[0m | \u001b[0m269.4    \u001b[0m | \u001b[0m254.7    \u001b[0m |\n",
      "| \u001b[0m14       \u001b[0m | \u001b[0m-0.0     \u001b[0m | \u001b[0m969.2    \u001b[0m | \u001b[0m136.2    \u001b[0m | \u001b[0m266.0    \u001b[0m |\n",
      "| \u001b[0m9        \u001b[0m | \u001b[0m-0.0     \u001b[0m | \u001b[0m303.0    \u001b[0m | \u001b[0m326.2    \u001b[0m | \u001b[0m269.4    \u001b[0m |\n",
      "| \u001b[0m2        \u001b[0m | \u001b[0m-0.0     \u001b[0m | \u001b[0m501.1    \u001b[0m | \u001b[0m317.0    \u001b[0m | \u001b[0m134.7    \u001b[0m |\n",
      "| \u001b[0m7        \u001b[0m | \u001b[0m-0.0     \u001b[0m | \u001b[0m988.4    \u001b[0m | \u001b[0m328.4    \u001b[0m | \u001b[0m102.7    \u001b[0m |\n",
      "| \u001b[0m8        \u001b[0m | \u001b[0m-0.0     \u001b[0m | \u001b[0m362.9    \u001b[0m | \u001b[0m135.5    \u001b[0m | \u001b[0m100.4    \u001b[0m |\n",
      "| \u001b[0m14       \u001b[0m | \u001b[0m-0.0     \u001b[0m | \u001b[0m304.4    \u001b[0m | \u001b[0m137.1    \u001b[0m | \u001b[0m101.1    \u001b[0m |\n",
      "| \u001b[0m3        \u001b[0m | \u001b[0m-0.0     \u001b[0m | \u001b[0m739.2    \u001b[0m | \u001b[0m173.8    \u001b[0m | \u001b[0m161.0    \u001b[0m |\n",
      "| \u001b[0m4        \u001b[0m | \u001b[0m-0.0     \u001b[0m | \u001b[0m575.5    \u001b[0m | \u001b[0m280.0    \u001b[0m | \u001b[0m200.2    \u001b[0m |\n",
      "|   iter    |  target   | cast_p... | lower_... | upper_... |\n",
      "-------------------------------------------------------------\n",
      "| \u001b[0m15       \u001b[0m | \u001b[0m-0.0     \u001b[0m | \u001b[0m970.6    \u001b[0m | \u001b[0m139.8    \u001b[0m | \u001b[0m107.4    \u001b[0m |\n",
      "=============================================================\n"
     ]
    },
    {
     "name": "stderr",
     "output_type": "stream",
     "text": [
      "Optimizing parameters:   0%|          | 18/4840 [00:17<54:11,  1.48it/s]"
     ]
    },
    {
     "name": "stdout",
     "output_type": "stream",
     "text": [
      "| \u001b[0m8        \u001b[0m | \u001b[0m-0.0     \u001b[0m | \u001b[0m324.5    \u001b[0m | \u001b[0m332.7    \u001b[0m | \u001b[0m107.8    \u001b[0m |\n",
      "| \u001b[0m1        \u001b[0m | \u001b[0m-0.0     \u001b[0m | \u001b[0m921.8    \u001b[0m | \u001b[0m327.9    \u001b[0m | \u001b[0m157.2    \u001b[0m |\n",
      "| \u001b[0m11       \u001b[0m | \u001b[0m-0.0     \u001b[0m | \u001b[0m981.6    \u001b[0m | \u001b[0m139.7    \u001b[0m | \u001b[0m103.2    \u001b[0m |\n",
      "| \u001b[0m5        \u001b[0m | \u001b[0m-0.0     \u001b[0m | \u001b[0m683.6    \u001b[0m | \u001b[0m291.7    \u001b[0m | \u001b[0m132.5    \u001b[0m |\n",
      "| \u001b[0m2        \u001b[0m | \u001b[0m-0.0     \u001b[0m | \u001b[0m428.2    \u001b[0m | \u001b[0m314.2    \u001b[0m | \u001b[0m203.5    \u001b[0m |\n",
      "| \u001b[0m3        \u001b[0m | \u001b[0m-0.0     \u001b[0m | \u001b[0m639.8    \u001b[0m | \u001b[0m282.6    \u001b[0m | \u001b[0m176.5    \u001b[0m |\n",
      "| \u001b[0m15       \u001b[0m | \u001b[0m-0.0     \u001b[0m | \u001b[0m974.8    \u001b[0m | \u001b[0m138.0    \u001b[0m | \u001b[0m262.7    \u001b[0m |\n",
      "=============================================================\n"
     ]
    },
    {
     "name": "stderr",
     "output_type": "stream",
     "text": [
      "Optimizing parameters:   0%|          | 19/4840 [00:17<43:21,  1.85it/s]"
     ]
    },
    {
     "name": "stdout",
     "output_type": "stream",
     "text": [
      "| \u001b[0m10       \u001b[0m | \u001b[0m-0.0     \u001b[0m | \u001b[0m998.1    \u001b[0m | \u001b[0m136.5    \u001b[0m | \u001b[0m262.7    \u001b[0m |\n",
      "| \u001b[0m9        \u001b[0m | \u001b[0m-0.0     \u001b[0m | \u001b[0m995.3    \u001b[0m | \u001b[0m146.4    \u001b[0m | \u001b[0m268.3    \u001b[0m |\n",
      "| \u001b[0m4        \u001b[0m | \u001b[0m-0.0     \u001b[0m | \u001b[0m788.2    \u001b[0m | \u001b[0m244.4    \u001b[0m | \u001b[0m213.8    \u001b[0m |\n",
      "| \u001b[0m5        \u001b[0m | \u001b[0m-0.0     \u001b[0m | \u001b[0m905.4    \u001b[0m | \u001b[0m221.2    \u001b[0m | \u001b[0m206.8    \u001b[0m |\n",
      "| \u001b[0m12       \u001b[0m | \u001b[0m-0.0     \u001b[0m | \u001b[0m506.1    \u001b[0m | \u001b[0m288.6    \u001b[0m | \u001b[0m243.1    \u001b[0m |\n",
      "| \u001b[0m6        \u001b[0m | \u001b[0m-0.0     \u001b[0m | \u001b[0m311.2    \u001b[0m | \u001b[0m138.6    \u001b[0m | \u001b[0m104.6    \u001b[0m |\n",
      "| \u001b[0m9        \u001b[0m | \u001b[0m-0.0     \u001b[0m | \u001b[0m995.3    \u001b[0m | \u001b[0m138.9    \u001b[0m | \u001b[0m104.7    \u001b[0m |\n",
      "| \u001b[0m11       \u001b[0m | \u001b[0m-0.0     \u001b[0m | \u001b[0m948.5    \u001b[0m | \u001b[0m328.6    \u001b[0m | \u001b[0m105.5    \u001b[0m |\n",
      "| \u001b[0m6        \u001b[0m | \u001b[0m-1.0     \u001b[0m | \u001b[0m316.0    \u001b[0m | \u001b[0m140.2    \u001b[0m | \u001b[0m105.1    \u001b[0m |\n",
      "| \u001b[0m7        \u001b[0m | \u001b[0m-0.0     \u001b[0m | \u001b[0m994.1    \u001b[0m | \u001b[0m146.6    \u001b[0m | \u001b[0m102.6    \u001b[0m |\n",
      "| \u001b[0m13       \u001b[0m | \u001b[0m-0.0     \u001b[0m | \u001b[0m990.4    \u001b[0m | \u001b[0m330.0    \u001b[0m | \u001b[0m267.1    \u001b[0m |\n",
      "|   iter    |  target   | cast_p... | lower_... | upper_... |\n",
      "-------------------------------------------------------------\n",
      "| \u001b[0m10       \u001b[0m | \u001b[0m-0.0     \u001b[0m | \u001b[0m998.9    \u001b[0m | \u001b[0m325.5    \u001b[0m | \u001b[0m103.8    \u001b[0m |\n",
      "| \u001b[0m12       \u001b[0m | \u001b[0m-0.0     \u001b[0m | \u001b[0m300.1    \u001b[0m | \u001b[0m135.8    \u001b[0m | \u001b[0m108.2    \u001b[0m |\n",
      "| \u001b[0m7        \u001b[0m | \u001b[0m-0.0     \u001b[0m | \u001b[0m784.2    \u001b[0m | \u001b[0m248.7    \u001b[0m | \u001b[0m213.7    \u001b[0m |\n",
      "| \u001b[0m10       \u001b[0m | \u001b[0m-0.0     \u001b[0m | \u001b[0m336.3    \u001b[0m | \u001b[0m136.7    \u001b[0m | \u001b[0m269.9    \u001b[0m |\n",
      "| \u001b[0m1        \u001b[0m | \u001b[0m-0.0     \u001b[0m | \u001b[0m837.3    \u001b[0m | \u001b[0m282.9    \u001b[0m | \u001b[0m178.9    \u001b[0m |\n",
      "| \u001b[0m2        \u001b[0m | \u001b[0m-0.0     \u001b[0m | \u001b[0m996.6    \u001b[0m | \u001b[0m169.5    \u001b[0m | \u001b[0m240.3    \u001b[0m |\n",
      "| \u001b[0m3        \u001b[0m | \u001b[0m-0.0     \u001b[0m | \u001b[0m399.1    \u001b[0m | \u001b[0m146.8    \u001b[0m | \u001b[0m107.8    \u001b[0m |\n",
      "| \u001b[0m14       \u001b[0m | \u001b[0m-0.0     \u001b[0m | \u001b[0m306.2    \u001b[0m | \u001b[0m331.1    \u001b[0m | \u001b[0m108.8    \u001b[0m |\n",
      "| \u001b[0m11       \u001b[0m | \u001b[0m-0.0     \u001b[0m | \u001b[0m426.3    \u001b[0m | \u001b[0m155.0    \u001b[0m | \u001b[0m138.4    \u001b[0m |\n",
      "| \u001b[0m4        \u001b[0m | \u001b[0m-0.0     \u001b[0m | \u001b[0m806.6    \u001b[0m | \u001b[0m157.8    \u001b[0m | \u001b[0m237.4    \u001b[0m |\n",
      "| \u001b[0m5        \u001b[0m | \u001b[0m-0.0     \u001b[0m | \u001b[0m463.8    \u001b[0m | \u001b[0m169.6    \u001b[0m | \u001b[0m112.9    \u001b[0m |\n",
      "| \u001b[0m13       \u001b[0m | \u001b[0m-0.0     \u001b[0m | \u001b[0m308.0    \u001b[0m | \u001b[0m322.0    \u001b[0m | \u001b[0m264.2    \u001b[0m |\n",
      "| \u001b[0m8        \u001b[0m | \u001b[0m-0.0     \u001b[0m | \u001b[0m351.1    \u001b[0m | \u001b[0m137.3    \u001b[0m | \u001b[0m268.9    \u001b[0m |\n",
      "| \u001b[0m11       \u001b[0m | \u001b[0m-0.0     \u001b[0m | \u001b[0m342.2    \u001b[0m | \u001b[0m326.2    \u001b[0m | \u001b[0m267.7    \u001b[0m |\n",
      "|   iter    |  target   | cast_p... | lower_... | upper_... |\n",
      "-------------------------------------------------------------\n",
      "| \u001b[0m15       \u001b[0m | \u001b[0m-0.0     \u001b[0m | \u001b[0m304.1    \u001b[0m | \u001b[0m151.8    \u001b[0m | \u001b[0m269.6    \u001b[0m |\n",
      "=============================================================\n"
     ]
    },
    {
     "name": "stderr",
     "output_type": "stream",
     "text": [
      "Optimizing parameters:   0%|          | 20/4840 [00:19<1:06:08,  1.21it/s]"
     ]
    },
    {
     "name": "stdout",
     "output_type": "stream",
     "text": [
      "| \u001b[0m1        \u001b[0m | \u001b[0m-0.0     \u001b[0m | \u001b[0m729.2    \u001b[0m | \u001b[0m283.0    \u001b[0m | \u001b[0m189.5    \u001b[0m |\n",
      "| \u001b[0m14       \u001b[0m | \u001b[0m-0.0     \u001b[0m | \u001b[0m989.5    \u001b[0m | \u001b[0m137.2    \u001b[0m | \u001b[0m265.5    \u001b[0m |\n",
      "| \u001b[0m12       \u001b[0m | \u001b[0m-0.0     \u001b[0m | \u001b[0m993.0    \u001b[0m | \u001b[0m326.8    \u001b[0m | \u001b[0m260.6    \u001b[0m |\n",
      "| \u001b[0m6        \u001b[0m | \u001b[0m-0.0     \u001b[0m | \u001b[0m304.8    \u001b[0m | \u001b[0m326.6    \u001b[0m | \u001b[0m269.7    \u001b[0m |\n",
      "| \u001b[0m2        \u001b[0m | \u001b[0m-0.0     \u001b[0m | \u001b[0m519.8    \u001b[0m | \u001b[0m331.5    \u001b[0m | \u001b[0m133.7    \u001b[0m |\n",
      "| \u001b[0m8        \u001b[0m | \u001b[0m-1.0     \u001b[0m | \u001b[0m1e+03    \u001b[0m | \u001b[0m135.0    \u001b[0m | \u001b[0m100.0    \u001b[0m |\n",
      "|   iter    |  target   | cast_p... | lower_... | upper_... |\n",
      "-------------------------------------------------------------\n",
      "| \u001b[0m9        \u001b[0m | \u001b[0m-0.0     \u001b[0m | \u001b[0m999.2    \u001b[0m | \u001b[0m139.2    \u001b[0m | \u001b[0m267.4    \u001b[0m |\n",
      "| \u001b[0m1        \u001b[0m | \u001b[0m-0.0     \u001b[0m | \u001b[0m467.4    \u001b[0m | \u001b[0m212.5    \u001b[0m | \u001b[0m101.9    \u001b[0m |\n",
      "| \u001b[0m3        \u001b[0m | \u001b[0m-0.0     \u001b[0m | \u001b[0m871.7    \u001b[0m | \u001b[0m145.1    \u001b[0m | \u001b[0m256.4    \u001b[0m |\n",
      "| \u001b[0m4        \u001b[0m | \u001b[0m-0.0     \u001b[0m | \u001b[0m819.5    \u001b[0m | \u001b[0m137.5    \u001b[0m | \u001b[0m136.3    \u001b[0m |\n",
      "| \u001b[0m2        \u001b[0m | \u001b[0m-0.0     \u001b[0m | \u001b[0m867.7    \u001b[0m | \u001b[0m275.2    \u001b[0m | \u001b[0m179.4    \u001b[0m |\n",
      "| \u001b[0m5        \u001b[0m | \u001b[0m-0.0     \u001b[0m | \u001b[0m572.6    \u001b[0m | \u001b[0m319.7    \u001b[0m | \u001b[0m170.7    \u001b[0m |\n",
      "| \u001b[0m13       \u001b[0m | \u001b[0m-0.0     \u001b[0m | \u001b[0m306.0    \u001b[0m | \u001b[0m324.4    \u001b[0m | \u001b[0m105.3    \u001b[0m |\n",
      "| \u001b[0m12       \u001b[0m | \u001b[0m-0.0     \u001b[0m | \u001b[0m350.1    \u001b[0m | \u001b[0m138.3    \u001b[0m | \u001b[0m101.3    \u001b[0m |\n",
      "| \u001b[0m15       \u001b[0m | \u001b[0m-0.0     \u001b[0m | \u001b[0m969.5    \u001b[0m | \u001b[0m332.6    \u001b[0m | \u001b[0m100.8    \u001b[0m |\n",
      "=============================================================\n"
     ]
    },
    {
     "name": "stderr",
     "output_type": "stream",
     "text": [
      "Optimizing parameters:   0%|          | 21/4840 [00:19<58:47,  1.37it/s]  "
     ]
    },
    {
     "name": "stdout",
     "output_type": "stream",
     "text": [
      "| \u001b[0m3        \u001b[0m | \u001b[0m-0.0     \u001b[0m | \u001b[0m743.0    \u001b[0m | \u001b[0m268.8    \u001b[0m | \u001b[0m216.1    \u001b[0m |\n",
      "| \u001b[0m4        \u001b[0m | \u001b[0m-0.0     \u001b[0m | \u001b[0m307.5    \u001b[0m | \u001b[0m329.4    \u001b[0m | \u001b[0m104.8    \u001b[0m |\n",
      "| \u001b[0m9        \u001b[0m | \u001b[0m-0.0     \u001b[0m | \u001b[0m911.8    \u001b[0m | \u001b[0m333.0    \u001b[0m | \u001b[0m270.0    \u001b[0m |\n",
      "| \u001b[0m10       \u001b[0m | \u001b[0m-0.0     \u001b[0m | \u001b[0m966.7    \u001b[0m | \u001b[0m331.7    \u001b[0m | \u001b[0m263.3    \u001b[0m |\n",
      "| \u001b[0m5        \u001b[0m | \u001b[0m-0.0     \u001b[0m | \u001b[0m859.6    \u001b[0m | \u001b[0m230.3    \u001b[0m | \u001b[0m120.3    \u001b[0m |\n",
      "| \u001b[0m7        \u001b[0m | \u001b[0m-0.0     \u001b[0m | \u001b[0m981.4    \u001b[0m | \u001b[0m327.8    \u001b[0m | \u001b[0m103.9    \u001b[0m |\n",
      "| \u001b[0m6        \u001b[0m | \u001b[0m-0.0     \u001b[0m | \u001b[0m302.9    \u001b[0m | \u001b[0m136.7    \u001b[0m | \u001b[0m248.1    \u001b[0m |\n",
      "| \u001b[0m14       \u001b[0m | \u001b[0m-0.0     \u001b[0m | \u001b[0m992.7    \u001b[0m | \u001b[0m140.7    \u001b[0m | \u001b[0m265.1    \u001b[0m |\n",
      "| \u001b[0m13       \u001b[0m | \u001b[0m-0.0     \u001b[0m | \u001b[0m973.3    \u001b[0m | \u001b[0m142.3    \u001b[0m | \u001b[0m270.0    \u001b[0m |\n",
      "|   iter    |  target   | cast_p... | lower_... | upper_... |\n",
      "-------------------------------------------------------------\n",
      "| \u001b[0m11       \u001b[0m | \u001b[0m-0.0     \u001b[0m | \u001b[0m310.5    \u001b[0m | \u001b[0m331.8    \u001b[0m | \u001b[0m267.0    \u001b[0m |\n",
      "| \u001b[0m1        \u001b[0m | \u001b[0m-0.0     \u001b[0m | \u001b[0m399.7    \u001b[0m | \u001b[0m224.7    \u001b[0m | \u001b[0m215.6    \u001b[0m |\n",
      "| \u001b[0m6        \u001b[0m | \u001b[0m-0.0     \u001b[0m | \u001b[0m309.6    \u001b[0m | \u001b[0m137.5    \u001b[0m | \u001b[0m269.7    \u001b[0m |\n",
      "| \u001b[0m2        \u001b[0m | \u001b[0m-0.0     \u001b[0m | \u001b[0m881.0    \u001b[0m | \u001b[0m266.8    \u001b[0m | \u001b[0m243.6    \u001b[0m |\n",
      "| \u001b[0m3        \u001b[0m | \u001b[0m-0.0     \u001b[0m | \u001b[0m440.4    \u001b[0m | \u001b[0m313.6    \u001b[0m | \u001b[0m178.3    \u001b[0m |\n",
      "|   iter    |  target   | cast_p... | lower_... | upper_... |\n",
      "-------------------------------------------------------------\n",
      "| \u001b[0m7        \u001b[0m | \u001b[0m-0.0     \u001b[0m | \u001b[0m998.4    \u001b[0m | \u001b[0m332.5    \u001b[0m | \u001b[0m259.7    \u001b[0m |\n",
      "| \u001b[0m4        \u001b[0m | \u001b[0m-0.0     \u001b[0m | \u001b[0m509.5    \u001b[0m | \u001b[0m160.2    \u001b[0m | \u001b[0m172.9    \u001b[0m |\n",
      "| \u001b[0m5        \u001b[0m | \u001b[0m-0.0     \u001b[0m | \u001b[0m832.6    \u001b[0m | \u001b[0m144.3    \u001b[0m | \u001b[0m225.0    \u001b[0m |\n",
      "| \u001b[0m12       \u001b[0m | \u001b[0m-0.0     \u001b[0m | \u001b[0m982.2    \u001b[0m | \u001b[0m326.8    \u001b[0m | \u001b[0m104.4    \u001b[0m |\n",
      "| \u001b[0m1        \u001b[0m | \u001b[0m-0.0     \u001b[0m | \u001b[0m339.5    \u001b[0m | \u001b[0m211.9    \u001b[0m | \u001b[0m215.7    \u001b[0m |\n",
      "| \u001b[0m15       \u001b[0m | \u001b[0m-0.0     \u001b[0m | \u001b[0m304.1    \u001b[0m | \u001b[0m329.6    \u001b[0m | \u001b[0m268.5    \u001b[0m |\n",
      "=============================================================\n",
      "| \u001b[0m8        \u001b[0m | \u001b[0m-0.0     \u001b[0m | \u001b[0m313.6    \u001b[0m | \u001b[0m327.5    \u001b[0m | \u001b[0m101.5    \u001b[0m |\n",
      "| \u001b[0m10       \u001b[0m | \u001b[0m-0.0     \u001b[0m | \u001b[0m596.6    \u001b[0m | \u001b[0m135.0    \u001b[0m | \u001b[0m270.0    \u001b[0m |\n",
      "| \u001b[0m7        \u001b[0m | \u001b[0m-0.0     \u001b[0m | \u001b[0m520.4    \u001b[0m | \u001b[0m213.0    \u001b[0m | \u001b[0m119.0    \u001b[0m |\n",
      "| \u001b[0m2        \u001b[0m | \u001b[0m-0.0     \u001b[0m | \u001b[0m439.5    \u001b[0m | \u001b[0m161.6    \u001b[0m | \u001b[0m268.2    \u001b[0m |\n",
      "| \u001b[0m14       \u001b[0m | \u001b[0m-0.0     \u001b[0m | \u001b[0m306.6    \u001b[0m | \u001b[0m143.7    \u001b[0m | \u001b[0m268.9    \u001b[0m |\n",
      "| \u001b[0m3        \u001b[0m | \u001b[0m-0.0     \u001b[0m | \u001b[0m546.0    \u001b[0m | \u001b[0m238.4    \u001b[0m | \u001b[0m138.6    \u001b[0m |\n",
      "| \u001b[0m4        \u001b[0m | \u001b[0m-0.0     \u001b[0m | \u001b[0m978.5    \u001b[0m | \u001b[0m150.9    \u001b[0m | \u001b[0m145.1    \u001b[0m |\n",
      "| \u001b[0m13       \u001b[0m | \u001b[0m-0.0     \u001b[0m | \u001b[0m332.9    \u001b[0m | \u001b[0m325.9    \u001b[0m | \u001b[0m100.5    \u001b[0m |\n",
      "| \u001b[0m6        \u001b[0m | \u001b[0m-0.0     \u001b[0m | \u001b[0m986.2    \u001b[0m | \u001b[0m316.5    \u001b[0m | \u001b[0m104.4    \u001b[0m |\n",
      "| \u001b[0m5        \u001b[0m | \u001b[0m-0.0     \u001b[0m | \u001b[0m884.1    \u001b[0m | \u001b[0m314.6    \u001b[0m | \u001b[0m171.0    \u001b[0m |\n",
      "| \u001b[0m8        \u001b[0m | \u001b[0m-0.0     \u001b[0m | \u001b[0m998.5    \u001b[0m | \u001b[0m143.6    \u001b[0m | \u001b[0m105.0    \u001b[0m |\n",
      "| \u001b[0m8        \u001b[0m | \u001b[0m-0.0     \u001b[0m | \u001b[0m366.5    \u001b[0m | \u001b[0m328.2    \u001b[0m | \u001b[0m267.6    \u001b[0m |\n",
      "| \u001b[0m9        \u001b[0m | \u001b[0m-0.0     \u001b[0m | \u001b[0m307.2    \u001b[0m | \u001b[0m147.3    \u001b[0m | \u001b[0m266.0    \u001b[0m |\n",
      "|   iter    |  target   | cast_p... | lower_... | upper_... |\n",
      "-------------------------------------------------------------\n",
      "| \u001b[0m1        \u001b[0m | \u001b[0m-0.0     \u001b[0m | \u001b[0m850.2    \u001b[0m | \u001b[0m318.6    \u001b[0m | \u001b[0m121.4    \u001b[0m |\n",
      "| \u001b[0m6        \u001b[0m | \u001b[0m-0.0     \u001b[0m | \u001b[0m982.9    \u001b[0m | \u001b[0m325.5    \u001b[0m | \u001b[0m261.4    \u001b[0m |\n",
      "| \u001b[0m2        \u001b[0m | \u001b[0m-0.0     \u001b[0m | \u001b[0m472.5    \u001b[0m | \u001b[0m298.7    \u001b[0m | \u001b[0m144.1    \u001b[0m |\n",
      "| \u001b[0m14       \u001b[0m | \u001b[0m-0.0     \u001b[0m | \u001b[0m322.4    \u001b[0m | \u001b[0m136.8    \u001b[0m | \u001b[0m100.0    \u001b[0m |\n",
      "| \u001b[0m11       \u001b[0m | \u001b[0m-0.0     \u001b[0m | \u001b[0m553.4    \u001b[0m | \u001b[0m333.0    \u001b[0m | \u001b[0m270.0    \u001b[0m |\n",
      "| \u001b[0m15       \u001b[0m | \u001b[0m-0.0     \u001b[0m | \u001b[0m992.9    \u001b[0m | \u001b[0m329.4    \u001b[0m | \u001b[0m264.0    \u001b[0m |\n",
      "=============================================================\n"
     ]
    },
    {
     "name": "stderr",
     "output_type": "stream",
     "text": [
      "Optimizing parameters:   0%|          | 22/4840 [00:21<1:27:40,  1.09s/it]"
     ]
    },
    {
     "name": "stdout",
     "output_type": "stream",
     "text": [
      "| \u001b[0m3        \u001b[0m | \u001b[0m-0.0     \u001b[0m | \u001b[0m708.9    \u001b[0m | \u001b[0m158.1    \u001b[0m | \u001b[0m126.7    \u001b[0m |\n",
      "| \u001b[0m4        \u001b[0m | \u001b[0m-0.0     \u001b[0m | \u001b[0m628.0    \u001b[0m | \u001b[0m219.5    \u001b[0m | \u001b[0m138.4    \u001b[0m |\n",
      "| \u001b[0m7        \u001b[0m | \u001b[0m-0.0     \u001b[0m | \u001b[0m305.5    \u001b[0m | \u001b[0m142.8    \u001b[0m | \u001b[0m105.3    \u001b[0m |\n",
      "| \u001b[0m5        \u001b[0m | \u001b[0m-0.0     \u001b[0m | \u001b[0m704.7    \u001b[0m | \u001b[0m233.0    \u001b[0m | \u001b[0m188.9    \u001b[0m |\n",
      "| \u001b[0m9        \u001b[0m | \u001b[0m-0.0     \u001b[0m | \u001b[0m304.4    \u001b[0m | \u001b[0m150.4    \u001b[0m | \u001b[0m107.3    \u001b[0m |\n",
      "| \u001b[0m9        \u001b[0m | \u001b[0m-0.0     \u001b[0m | \u001b[0m988.3    \u001b[0m | \u001b[0m150.4    \u001b[0m | \u001b[0m267.3    \u001b[0m |\n",
      "| \u001b[0m15       \u001b[0m | \u001b[0m-0.0     \u001b[0m | \u001b[0m884.7    \u001b[0m | \u001b[0m149.8    \u001b[0m | \u001b[0m252.8    \u001b[0m |\n",
      "=============================================================\n",
      "| \u001b[0m6        \u001b[0m | \u001b[0m-0.0     \u001b[0m | \u001b[0m984.2    \u001b[0m | \u001b[0m331.6    \u001b[0m | \u001b[0m269.6    \u001b[0m |\n",
      "| \u001b[0m10       \u001b[0m | \u001b[0m-0.0     \u001b[0m | \u001b[0m993.5    \u001b[0m | \u001b[0m331.6    \u001b[0m | \u001b[0m269.6    \u001b[0m |\n"
     ]
    },
    {
     "name": "stderr",
     "output_type": "stream",
     "text": [
      "Optimizing parameters:   0%|          | 24/4840 [00:22<55:52,  1.44it/s]  "
     ]
    },
    {
     "name": "stdout",
     "output_type": "stream",
     "text": [
      "| \u001b[0m10       \u001b[0m | \u001b[0m-0.0     \u001b[0m | \u001b[0m997.8    \u001b[0m | \u001b[0m331.8    \u001b[0m | \u001b[0m257.6    \u001b[0m |\n",
      "| \u001b[0m8        \u001b[0m | \u001b[0m-0.0     \u001b[0m | \u001b[0m998.1    \u001b[0m | \u001b[0m141.8    \u001b[0m | \u001b[0m102.3    \u001b[0m |\n",
      "|   iter    |  target   | cast_p... | lower_... | upper_... |\n",
      "-------------------------------------------------------------\n",
      "| \u001b[0m12       \u001b[0m | \u001b[0m-0.0     \u001b[0m | \u001b[0m300.0    \u001b[0m | \u001b[0m333.0    \u001b[0m | \u001b[0m270.0    \u001b[0m |\n",
      "| \u001b[0m10       \u001b[0m | \u001b[0m-0.0     \u001b[0m | \u001b[0m307.2    \u001b[0m | \u001b[0m322.6    \u001b[0m | \u001b[0m266.0    \u001b[0m |\n",
      "| \u001b[0m7        \u001b[0m | \u001b[0m-0.0     \u001b[0m | \u001b[0m305.1    \u001b[0m | \u001b[0m158.5    \u001b[0m | \u001b[0m263.5    \u001b[0m |\n",
      "| \u001b[0m11       \u001b[0m | \u001b[0m-0.0     \u001b[0m | \u001b[0m994.8    \u001b[0m | \u001b[0m136.1    \u001b[0m | \u001b[0m100.5    \u001b[0m |\n",
      "| \u001b[0m1        \u001b[0m | \u001b[0m-0.0     \u001b[0m | \u001b[0m530.4    \u001b[0m | \u001b[0m187.3    \u001b[0m | \u001b[0m255.5    \u001b[0m |\n",
      "| \u001b[0m11       \u001b[0m | \u001b[0m-0.0     \u001b[0m | \u001b[0m923.3    \u001b[0m | \u001b[0m330.0    \u001b[0m | \u001b[0m167.3    \u001b[0m |\n",
      "| \u001b[0m2        \u001b[0m | \u001b[0m-0.0     \u001b[0m | \u001b[0m726.2    \u001b[0m | \u001b[0m212.5    \u001b[0m | \u001b[0m234.1    \u001b[0m |\n",
      "| \u001b[0m7        \u001b[0m | \u001b[0m-0.0     \u001b[0m | \u001b[0m324.2    \u001b[0m | \u001b[0m332.2    \u001b[0m | \u001b[0m100.8    \u001b[0m |\n",
      "| \u001b[0m3        \u001b[0m | \u001b[0m-0.0     \u001b[0m | \u001b[0m625.5    \u001b[0m | \u001b[0m328.3    \u001b[0m | \u001b[0m253.5    \u001b[0m |\n",
      "| \u001b[0m4        \u001b[0m | \u001b[0m-0.0     \u001b[0m | \u001b[0m779.7    \u001b[0m | \u001b[0m235.1    \u001b[0m | \u001b[0m240.6    \u001b[0m |\n",
      "| \u001b[0m5        \u001b[0m | \u001b[0m-0.0     \u001b[0m | \u001b[0m488.9    \u001b[0m | \u001b[0m318.4    \u001b[0m | \u001b[0m193.2    \u001b[0m |\n",
      "| \u001b[0m9        \u001b[0m | \u001b[0m-0.0     \u001b[0m | \u001b[0m693.4    \u001b[0m | \u001b[0m331.9    \u001b[0m | \u001b[0m104.5    \u001b[0m |\n",
      "| \u001b[0m12       \u001b[0m | \u001b[0m-0.0     \u001b[0m | \u001b[0m990.4    \u001b[0m | \u001b[0m135.9    \u001b[0m | \u001b[0m113.8    \u001b[0m |\n",
      "| \u001b[0m12       \u001b[0m | \u001b[0m-0.0     \u001b[0m | \u001b[0m300.0    \u001b[0m | \u001b[0m327.2    \u001b[0m | \u001b[0m104.7    \u001b[0m |\n",
      "| \u001b[0m8        \u001b[0m | \u001b[0m-0.0     \u001b[0m | \u001b[0m977.2    \u001b[0m | \u001b[0m135.7    \u001b[0m | \u001b[0m267.9    \u001b[0m |\n",
      "| \u001b[0m8        \u001b[0m | \u001b[0m-0.0     \u001b[0m | \u001b[0m990.5    \u001b[0m | \u001b[0m150.8    \u001b[0m | \u001b[0m101.3    \u001b[0m |\n",
      "| \u001b[0m11       \u001b[0m | \u001b[0m-0.0     \u001b[0m | \u001b[0m983.2    \u001b[0m | \u001b[0m330.8    \u001b[0m | \u001b[0m107.1    \u001b[0m |\n",
      "| \u001b[0m13       \u001b[0m | \u001b[0m-0.0     \u001b[0m | \u001b[0m300.7    \u001b[0m | \u001b[0m154.7    \u001b[0m | \u001b[0m265.0    \u001b[0m |\n",
      "|   iter    |  target   | cast_p... | lower_... | upper_... |\n",
      "-------------------------------------------------------------\n",
      "| \u001b[0m6        \u001b[0m | \u001b[0m-0.0     \u001b[0m | \u001b[0m998.0    \u001b[0m | \u001b[0m146.6    \u001b[0m | \u001b[0m101.6    \u001b[0m |\n",
      "| \u001b[0m1        \u001b[0m | \u001b[0m-0.0     \u001b[0m | \u001b[0m628.3    \u001b[0m | \u001b[0m248.2    \u001b[0m | \u001b[0m235.3    \u001b[0m |\n",
      "| \u001b[0m13       \u001b[0m | \u001b[0m-1.0     \u001b[0m | \u001b[0m665.6    \u001b[0m | \u001b[0m135.0    \u001b[0m | \u001b[0m100.0    \u001b[0m |\n",
      "| \u001b[0m9        \u001b[0m | \u001b[0m-0.0     \u001b[0m | \u001b[0m305.5    \u001b[0m | \u001b[0m141.0    \u001b[0m | \u001b[0m261.1    \u001b[0m |\n",
      "| \u001b[0m3        \u001b[0m | \u001b[0m-0.0     \u001b[0m | \u001b[0m481.4    \u001b[0m | \u001b[0m284.7    \u001b[0m | \u001b[0m198.9    \u001b[0m |\n",
      "| \u001b[0m13       \u001b[0m | \u001b[0m-0.0     \u001b[0m | \u001b[0m324.2    \u001b[0m | \u001b[0m137.5    \u001b[0m | \u001b[0m261.7    \u001b[0m |\n",
      "| \u001b[0m2        \u001b[0m | \u001b[0m-0.0     \u001b[0m | \u001b[0m640.3    \u001b[0m | \u001b[0m248.8    \u001b[0m | \u001b[0m229.6    \u001b[0m |\n",
      "| \u001b[0m9        \u001b[0m | \u001b[0m-0.0     \u001b[0m | \u001b[0m302.1    \u001b[0m | \u001b[0m323.2    \u001b[0m | \u001b[0m268.1    \u001b[0m |\n",
      "| \u001b[0m12       \u001b[0m | \u001b[0m-0.0     \u001b[0m | \u001b[0m974.1    \u001b[0m | \u001b[0m146.5    \u001b[0m | \u001b[0m268.9    \u001b[0m |\n",
      "| \u001b[0m10       \u001b[0m | \u001b[0m-0.0     \u001b[0m | \u001b[0m309.0    \u001b[0m | \u001b[0m331.0    \u001b[0m | \u001b[0m264.0    \u001b[0m |\n",
      "| \u001b[0m4        \u001b[0m | \u001b[0m-0.0     \u001b[0m | \u001b[0m773.6    \u001b[0m | \u001b[0m210.6    \u001b[0m | \u001b[0m179.4    \u001b[0m |\n",
      "| \u001b[0m5        \u001b[0m | \u001b[0m-0.0     \u001b[0m | \u001b[0m600.8    \u001b[0m | \u001b[0m293.0    \u001b[0m | \u001b[0m150.3    \u001b[0m |\n",
      "| \u001b[0m7        \u001b[0m | \u001b[0m-0.0     \u001b[0m | \u001b[0m304.0    \u001b[0m | \u001b[0m152.6    \u001b[0m | \u001b[0m111.9    \u001b[0m |\n",
      "|   iter    |  target   | cast_p... | lower_... | upper_... |\n",
      "-------------------------------------------------------------\n",
      "| \u001b[0m10       \u001b[0m | \u001b[0m-0.0     \u001b[0m | \u001b[0m335.1    \u001b[0m | \u001b[0m135.4    \u001b[0m | \u001b[0m100.5    \u001b[0m |\n",
      "| \u001b[0m14       \u001b[0m | \u001b[0m-0.0     \u001b[0m | \u001b[0m994.5    \u001b[0m | \u001b[0m136.6    \u001b[0m | \u001b[0m102.2    \u001b[0m |\n",
      "| \u001b[0m10       \u001b[0m | \u001b[0m-0.0     \u001b[0m | \u001b[0m965.3    \u001b[0m | \u001b[0m326.2    \u001b[0m | \u001b[0m266.1    \u001b[0m |\n",
      "| \u001b[0m13       \u001b[0m | \u001b[0m-0.0     \u001b[0m | \u001b[0m304.2    \u001b[0m | \u001b[0m137.5    \u001b[0m | \u001b[0m103.2    \u001b[0m |\n",
      "| \u001b[0m8        \u001b[0m | \u001b[0m-0.0     \u001b[0m | \u001b[0m984.4    \u001b[0m | \u001b[0m325.1    \u001b[0m | \u001b[0m102.9    \u001b[0m |\n",
      "| \u001b[0m1        \u001b[0m | \u001b[0m-0.0     \u001b[0m | \u001b[0m549.4    \u001b[0m | \u001b[0m245.1    \u001b[0m | \u001b[0m199.1    \u001b[0m |\n",
      "| \u001b[0m14       \u001b[0m | \u001b[0m-0.0     \u001b[0m | \u001b[0m467.9    \u001b[0m | \u001b[0m200.1    \u001b[0m | \u001b[0m270.0    \u001b[0m |\n",
      "| \u001b[0m2        \u001b[0m | \u001b[0m-0.0     \u001b[0m | \u001b[0m915.7    \u001b[0m | \u001b[0m284.3    \u001b[0m | \u001b[0m230.0    \u001b[0m |\n",
      "| \u001b[0m3        \u001b[0m | \u001b[0m-0.0     \u001b[0m | \u001b[0m890.1    \u001b[0m | \u001b[0m206.4    \u001b[0m | \u001b[0m154.3    \u001b[0m |\n",
      "| \u001b[0m4        \u001b[0m | \u001b[0m-0.0     \u001b[0m | \u001b[0m685.2    \u001b[0m | \u001b[0m138.3    \u001b[0m | \u001b[0m140.5    \u001b[0m |\n",
      "| \u001b[0m6        \u001b[0m | \u001b[0m-0.0     \u001b[0m | \u001b[0m310.7    \u001b[0m | \u001b[0m136.2    \u001b[0m | \u001b[0m109.8    \u001b[0m |\n",
      "| \u001b[0m14       \u001b[0m | \u001b[0m-0.0     \u001b[0m | \u001b[0m979.6    \u001b[0m | \u001b[0m331.3    \u001b[0m | \u001b[0m269.3    \u001b[0m |\n",
      "| \u001b[0m11       \u001b[0m | \u001b[0m-0.0     \u001b[0m | \u001b[0m986.0    \u001b[0m | \u001b[0m138.3    \u001b[0m | \u001b[0m266.1    \u001b[0m |\n",
      "| \u001b[0m5        \u001b[0m | \u001b[0m-0.0     \u001b[0m | \u001b[0m330.2    \u001b[0m | \u001b[0m231.7    \u001b[0m | \u001b[0m165.3    \u001b[0m |\n",
      "| \u001b[0m11       \u001b[0m | \u001b[0m-0.0     \u001b[0m | \u001b[0m990.5    \u001b[0m | \u001b[0m331.1    \u001b[0m | \u001b[0m102.3    \u001b[0m |\n",
      "|   iter    |  target   | cast_p... | lower_... | upper_... |\n",
      "-------------------------------------------------------------\n",
      "| \u001b[0m11       \u001b[0m | \u001b[0m-0.0     \u001b[0m | \u001b[0m302.7    \u001b[0m | \u001b[0m330.8    \u001b[0m | \u001b[0m103.5    \u001b[0m |\n",
      "| \u001b[0m1        \u001b[0m | \u001b[0m-0.0     \u001b[0m | \u001b[0m970.5    \u001b[0m | \u001b[0m311.0    \u001b[0m | \u001b[0m175.6    \u001b[0m |\n",
      "| \u001b[0m14       \u001b[0m | \u001b[0m-0.0     \u001b[0m | \u001b[0m318.4    \u001b[0m | \u001b[0m317.7    \u001b[0m | \u001b[0m269.7    \u001b[0m |\n",
      "| \u001b[0m15       \u001b[0m | \u001b[0m-0.0     \u001b[0m | \u001b[0m962.3    \u001b[0m | \u001b[0m136.0    \u001b[0m | \u001b[0m101.4    \u001b[0m |\n",
      "| \u001b[0m15       \u001b[0m | \u001b[0m-0.0     \u001b[0m | \u001b[0m301.5    \u001b[0m | \u001b[0m327.9    \u001b[0m | \u001b[0m100.0    \u001b[0m |\n",
      "=============================================================\n",
      "| \u001b[0m2        \u001b[0m | \u001b[0m-0.0     \u001b[0m | \u001b[0m705.5    \u001b[0m | \u001b[0m172.9    \u001b[0m | \u001b[0m192.1    \u001b[0m |\n",
      "| \u001b[0m3        \u001b[0m | \u001b[0m-0.0     \u001b[0m | \u001b[0m492.3    \u001b[0m | \u001b[0m171.1    \u001b[0m | \u001b[0m155.9    \u001b[0m |\n",
      "| \u001b[0m7        \u001b[0m | \u001b[0m-0.0     \u001b[0m | \u001b[0m989.5    \u001b[0m | \u001b[0m136.1    \u001b[0m | \u001b[0m104.6    \u001b[0m |\n",
      "=============================================================\n",
      "| \u001b[0m6        \u001b[0m | \u001b[0m-0.0     \u001b[0m | \u001b[0m989.4    \u001b[0m | \u001b[0m326.8    \u001b[0m | \u001b[0m102.5    \u001b[0m |\n",
      "| \u001b[0m15       \u001b[0m | \u001b[0m-0.0     \u001b[0m | \u001b[0m773.4    \u001b[0m | \u001b[0m333.0    \u001b[0m | \u001b[0m100.0    \u001b[0m |\n",
      "| \u001b[0m4        \u001b[0m | \u001b[0m-0.0     \u001b[0m | \u001b[0m932.7    \u001b[0m | \u001b[0m153.9    \u001b[0m | \u001b[0m118.2    \u001b[0m |\n",
      "| \u001b[0m9        \u001b[0m | \u001b[0m-0.0     \u001b[0m | \u001b[0m331.3    \u001b[0m | \u001b[0m332.9    \u001b[0m | \u001b[0m101.5    \u001b[0m |\n",
      "=============================================================\n",
      "=============================================================\n",
      "| \u001b[0m12       \u001b[0m | \u001b[0m-0.0     \u001b[0m | \u001b[0m998.8    \u001b[0m | \u001b[0m328.7    \u001b[0m | \u001b[0m261.0    \u001b[0m |\n"
     ]
    },
    {
     "name": "stderr",
     "output_type": "stream",
     "text": [
      "Optimizing parameters:   1%|          | 25/4840 [00:25<1:46:43,  1.33s/it]"
     ]
    },
    {
     "name": "stdout",
     "output_type": "stream",
     "text": [
      "| \u001b[0m15       \u001b[0m | \u001b[0m-0.0     \u001b[0m | \u001b[0m319.9    \u001b[0m | \u001b[0m324.6    \u001b[0m | \u001b[0m101.4    \u001b[0m |\n",
      "| \u001b[0m5        \u001b[0m | \u001b[0m-0.0     \u001b[0m | \u001b[0m336.4    \u001b[0m | \u001b[0m288.8    \u001b[0m | \u001b[0m198.2    \u001b[0m |\n",
      "| \u001b[0m12       \u001b[0m | \u001b[0m-0.0     \u001b[0m | \u001b[0m999.9    \u001b[0m | \u001b[0m136.1    \u001b[0m | \u001b[0m104.5    \u001b[0m |\n",
      "| \u001b[0m12       \u001b[0m | \u001b[0m-0.0     \u001b[0m | \u001b[0m993.3    \u001b[0m | \u001b[0m137.0    \u001b[0m | \u001b[0m257.8    \u001b[0m |\n",
      "| \u001b[0m8        \u001b[0m | \u001b[0m-0.0     \u001b[0m | \u001b[0m944.4    \u001b[0m | \u001b[0m332.6    \u001b[0m | \u001b[0m102.3    \u001b[0m |\n",
      "| \u001b[0m10       \u001b[0m | \u001b[0m-0.0     \u001b[0m | \u001b[0m327.3    \u001b[0m | \u001b[0m136.1    \u001b[0m | \u001b[0m263.6    \u001b[0m |\n",
      "| \u001b[0m6        \u001b[0m | \u001b[0m-0.0     \u001b[0m | \u001b[0m998.3    \u001b[0m | \u001b[0m162.3    \u001b[0m | \u001b[0m265.9    \u001b[0m |\n",
      "|   iter    |  target   | cast_p... | lower_... | upper_... |\n",
      "-------------------------------------------------------------\n",
      "| \u001b[0m9        \u001b[0m | \u001b[0m-0.0     \u001b[0m | \u001b[0m991.7    \u001b[0m | \u001b[0m145.9    \u001b[0m | \u001b[0m269.1    \u001b[0m |\n",
      "| \u001b[0m1        \u001b[0m | \u001b[0m-0.0     \u001b[0m | \u001b[0m342.3    \u001b[0m | \u001b[0m317.3    \u001b[0m | \u001b[0m235.2    \u001b[0m |\n",
      "| \u001b[0m13       \u001b[0m | \u001b[0m-0.0     \u001b[0m | \u001b[0m310.4    \u001b[0m | \u001b[0m138.1    \u001b[0m | \u001b[0m269.3    \u001b[0m |\n",
      "| \u001b[0m2        \u001b[0m | \u001b[0m-0.0     \u001b[0m | \u001b[0m743.3    \u001b[0m | \u001b[0m204.0    \u001b[0m | \u001b[0m239.8    \u001b[0m |\n",
      "| \u001b[0m7        \u001b[0m | \u001b[0m-0.0     \u001b[0m | \u001b[0m999.0    \u001b[0m | \u001b[0m146.0    \u001b[0m | \u001b[0m269.4    \u001b[0m |\n",
      "| \u001b[0m13       \u001b[0m | \u001b[0m-0.0     \u001b[0m | \u001b[0m300.3    \u001b[0m | \u001b[0m139.5    \u001b[0m | \u001b[0m261.8    \u001b[0m |\n",
      "| \u001b[0m13       \u001b[0m | \u001b[0m-0.0     \u001b[0m | \u001b[0m301.5    \u001b[0m | \u001b[0m332.7    \u001b[0m | \u001b[0m269.8    \u001b[0m |\n",
      "| \u001b[0m3        \u001b[0m | \u001b[0m-0.0     \u001b[0m | \u001b[0m829.9    \u001b[0m | \u001b[0m151.5    \u001b[0m | \u001b[0m267.2    \u001b[0m |\n",
      "| \u001b[0m11       \u001b[0m | \u001b[0m-0.0     \u001b[0m | \u001b[0m992.6    \u001b[0m | \u001b[0m137.6    \u001b[0m | \u001b[0m266.1    \u001b[0m |\n",
      "| \u001b[0m4        \u001b[0m | \u001b[0m-0.0     \u001b[0m | \u001b[0m755.3    \u001b[0m | \u001b[0m208.1    \u001b[0m | \u001b[0m243.8    \u001b[0m |\n",
      "| \u001b[0m8        \u001b[0m | \u001b[0m-0.0     \u001b[0m | \u001b[0m358.9    \u001b[0m | \u001b[0m326.6    \u001b[0m | \u001b[0m268.7    \u001b[0m |\n",
      "| \u001b[0m5        \u001b[0m | \u001b[0m-0.0     \u001b[0m | \u001b[0m364.9    \u001b[0m | \u001b[0m279.6    \u001b[0m | \u001b[0m253.2    \u001b[0m |\n",
      "| \u001b[0m7        \u001b[0m | \u001b[0m-0.0     \u001b[0m | \u001b[0m981.7    \u001b[0m | \u001b[0m330.7    \u001b[0m | \u001b[0m100.6    \u001b[0m |\n",
      "| \u001b[0m10       \u001b[0m | \u001b[0m-0.0     \u001b[0m | \u001b[0m318.5    \u001b[0m | \u001b[0m332.1    \u001b[0m | \u001b[0m269.4    \u001b[0m |\n",
      "| \u001b[0m14       \u001b[0m | \u001b[0m-0.0     \u001b[0m | \u001b[0m987.1    \u001b[0m | \u001b[0m329.3    \u001b[0m | \u001b[0m269.7    \u001b[0m |\n",
      "| \u001b[0m14       \u001b[0m | \u001b[0m-0.0     \u001b[0m | \u001b[0m314.6    \u001b[0m | \u001b[0m330.0    \u001b[0m | \u001b[0m104.9    \u001b[0m |\n",
      "| \u001b[0m9        \u001b[0m | \u001b[0m-0.0     \u001b[0m | \u001b[0m323.7    \u001b[0m | \u001b[0m140.9    \u001b[0m | \u001b[0m106.2    \u001b[0m |\n",
      "|   iter    |  target   | cast_p... | lower_... | upper_... |\n",
      "-------------------------------------------------------------\n",
      "| \u001b[0m6        \u001b[0m | \u001b[0m-0.0     \u001b[0m | \u001b[0m990.8    \u001b[0m | \u001b[0m331.0    \u001b[0m | \u001b[0m114.6    \u001b[0m |\n",
      "| \u001b[0m14       \u001b[0m | \u001b[0m-0.0     \u001b[0m | \u001b[0m333.6    \u001b[0m | \u001b[0m137.4    \u001b[0m | \u001b[0m102.2    \u001b[0m |\n",
      "| \u001b[0m1        \u001b[0m | \u001b[0m-0.0     \u001b[0m | \u001b[0m899.1    \u001b[0m | \u001b[0m232.0    \u001b[0m | \u001b[0m235.4    \u001b[0m |\n",
      "| \u001b[0m15       \u001b[0m | \u001b[0m-0.0     \u001b[0m | \u001b[0m626.9    \u001b[0m | \u001b[0m274.8    \u001b[0m | \u001b[0m222.5    \u001b[0m |\n",
      "| \u001b[0m8        \u001b[0m | \u001b[0m-0.0     \u001b[0m | \u001b[0m316.6    \u001b[0m | \u001b[0m331.3    \u001b[0m | \u001b[0m268.8    \u001b[0m |\n",
      "=============================================================\n"
     ]
    },
    {
     "name": "stderr",
     "output_type": "stream",
     "text": [
      "Optimizing parameters:   1%|          | 29/4840 [00:26<1:02:21,  1.29it/s]"
     ]
    },
    {
     "name": "stdout",
     "output_type": "stream",
     "text": [
      "| \u001b[0m15       \u001b[0m | \u001b[0m-0.0     \u001b[0m | \u001b[0m336.4    \u001b[0m | \u001b[0m332.8    \u001b[0m | \u001b[0m100.0    \u001b[0m |\n",
      "| \u001b[0m12       \u001b[0m | \u001b[0m-0.0     \u001b[0m | \u001b[0m314.3    \u001b[0m | \u001b[0m141.9    \u001b[0m | \u001b[0m100.0    \u001b[0m |\n",
      "=============================================================\n"
     ]
    },
    {
     "name": "stderr",
     "output_type": "stream",
     "text": [
      "Optimizing parameters:   1%|          | 30/4840 [00:26<53:42,  1.49it/s]  "
     ]
    },
    {
     "name": "stdout",
     "output_type": "stream",
     "text": [
      "| \u001b[0m10       \u001b[0m | \u001b[0m-0.0     \u001b[0m | \u001b[0m720.7    \u001b[0m | \u001b[0m324.1    \u001b[0m | \u001b[0m267.1    \u001b[0m |\n",
      "| \u001b[0m2        \u001b[0m | \u001b[0m-0.0     \u001b[0m | \u001b[0m886.4    \u001b[0m | \u001b[0m214.0    \u001b[0m | \u001b[0m243.2    \u001b[0m |\n",
      "| \u001b[0m11       \u001b[0m | \u001b[0m-0.0     \u001b[0m | \u001b[0m306.6    \u001b[0m | \u001b[0m139.0    \u001b[0m | \u001b[0m101.5    \u001b[0m |\n",
      "| \u001b[0m15       \u001b[0m | \u001b[0m-0.0     \u001b[0m | \u001b[0m992.8    \u001b[0m | \u001b[0m325.7    \u001b[0m | \u001b[0m100.2    \u001b[0m |\n"
     ]
    },
    {
     "name": "stderr",
     "output_type": "stream",
     "text": [
      "Optimizing parameters:   1%|          | 31/4840 [00:27<46:31,  1.72it/s]"
     ]
    },
    {
     "name": "stdout",
     "output_type": "stream",
     "text": [
      "| \u001b[0m3        \u001b[0m | \u001b[0m-0.0     \u001b[0m | \u001b[0m983.9    \u001b[0m | \u001b[0m219.7    \u001b[0m | \u001b[0m165.5    \u001b[0m |\n",
      "=============================================================\n",
      "| \u001b[0m4        \u001b[0m | \u001b[0m-0.0     \u001b[0m | \u001b[0m911.8    \u001b[0m | \u001b[0m162.6    \u001b[0m | \u001b[0m205.2    \u001b[0m |\n",
      "| \u001b[0m7        \u001b[0m | \u001b[0m-0.0     \u001b[0m | \u001b[0m321.6    \u001b[0m | \u001b[0m137.8    \u001b[0m | \u001b[0m102.0    \u001b[0m |\n",
      "| \u001b[0m9        \u001b[0m | \u001b[0m-0.0     \u001b[0m | \u001b[0m311.1    \u001b[0m | \u001b[0m141.4    \u001b[0m | \u001b[0m102.5    \u001b[0m |\n",
      "| \u001b[0m5        \u001b[0m | \u001b[0m-0.0     \u001b[0m | \u001b[0m802.2    \u001b[0m | \u001b[0m226.5    \u001b[0m | \u001b[0m137.9    \u001b[0m |\n",
      "| \u001b[0m12       \u001b[0m | \u001b[0m-0.0     \u001b[0m | \u001b[0m999.7    \u001b[0m | \u001b[0m322.5    \u001b[0m | \u001b[0m110.4    \u001b[0m |\n",
      "| \u001b[0m11       \u001b[0m | \u001b[0m-0.0     \u001b[0m | \u001b[0m317.3    \u001b[0m | \u001b[0m135.9    \u001b[0m | \u001b[0m269.5    \u001b[0m |\n",
      "| \u001b[0m6        \u001b[0m | \u001b[0m-0.0     \u001b[0m | \u001b[0m302.4    \u001b[0m | \u001b[0m145.8    \u001b[0m | \u001b[0m249.0    \u001b[0m |\n",
      "| \u001b[0m13       \u001b[0m | \u001b[0m-0.0     \u001b[0m | \u001b[0m304.9    \u001b[0m | \u001b[0m326.3    \u001b[0m | \u001b[0m267.8    \u001b[0m |\n",
      "| \u001b[0m8        \u001b[0m | \u001b[0m-0.0     \u001b[0m | \u001b[0m996.3    \u001b[0m | \u001b[0m136.0    \u001b[0m | \u001b[0m102.1    \u001b[0m |\n",
      "| \u001b[0m10       \u001b[0m | \u001b[0m-0.0     \u001b[0m | \u001b[0m977.2    \u001b[0m | \u001b[0m138.0    \u001b[0m | \u001b[0m267.6    \u001b[0m |\n",
      "|   iter    |  target   | cast_p... | lower_... | upper_... |\n",
      "-------------------------------------------------------------\n",
      "| \u001b[0m1        \u001b[0m | \u001b[0m-0.0     \u001b[0m | \u001b[0m611.5    \u001b[0m | \u001b[0m164.6    \u001b[0m | \u001b[0m183.0    \u001b[0m |\n",
      "| \u001b[0m2        \u001b[0m | \u001b[0m-0.0     \u001b[0m | \u001b[0m797.4    \u001b[0m | \u001b[0m149.5    \u001b[0m | \u001b[0m258.8    \u001b[0m |\n",
      "| \u001b[0m3        \u001b[0m | \u001b[0m-0.0     \u001b[0m | \u001b[0m487.7    \u001b[0m | \u001b[0m189.5    \u001b[0m | \u001b[0m218.5    \u001b[0m |\n",
      "| \u001b[0m12       \u001b[0m | \u001b[0m-0.0     \u001b[0m | \u001b[0m319.2    \u001b[0m | \u001b[0m330.3    \u001b[0m | \u001b[0m107.2    \u001b[0m |\n",
      "| \u001b[0m14       \u001b[0m | \u001b[0m-0.0     \u001b[0m | \u001b[0m997.5    \u001b[0m | \u001b[0m329.1    \u001b[0m | \u001b[0m104.3    \u001b[0m |\n",
      "| \u001b[0m4        \u001b[0m | \u001b[0m-0.0     \u001b[0m | \u001b[0m589.3    \u001b[0m | \u001b[0m281.7    \u001b[0m | \u001b[0m215.2    \u001b[0m |\n",
      "| \u001b[0m11       \u001b[0m | \u001b[0m-0.0     \u001b[0m | \u001b[0m300.2    \u001b[0m | \u001b[0m326.3    \u001b[0m | \u001b[0m101.3    \u001b[0m |\n",
      "| \u001b[0m13       \u001b[0m | \u001b[0m-0.0     \u001b[0m | \u001b[0m997.6    \u001b[0m | \u001b[0m139.3    \u001b[0m | \u001b[0m265.8    \u001b[0m |\n",
      "| \u001b[0m5        \u001b[0m | \u001b[0m-0.0     \u001b[0m | \u001b[0m435.9    \u001b[0m | \u001b[0m257.2    \u001b[0m | \u001b[0m170.4    \u001b[0m |\n",
      "| \u001b[0m7        \u001b[0m | \u001b[0m-0.0     \u001b[0m | \u001b[0m309.5    \u001b[0m | \u001b[0m330.0    \u001b[0m | \u001b[0m101.3    \u001b[0m |\n",
      "| \u001b[0m13       \u001b[0m | \u001b[0m-0.0     \u001b[0m | \u001b[0m380.9    \u001b[0m | \u001b[0m269.1    \u001b[0m | \u001b[0m155.1    \u001b[0m |\n"
     ]
    },
    {
     "name": "stderr",
     "output_type": "stream",
     "text": [
      "Optimizing parameters:   1%|          | 31/4840 [00:28<1:13:12,  1.09it/s]"
     ]
    },
    {
     "name": "stdout",
     "output_type": "stream",
     "text": [
      "|   iter    |  target   | cast_p... | lower_... | upper_... |\n",
      "-------------------------------------------------------------\n",
      "| \u001b[0m1        \u001b[0m | \u001b[0m-0.0     \u001b[0m | \u001b[0m807.6    \u001b[0m | \u001b[0m250.8    \u001b[0m | \u001b[0m110.0    \u001b[0m |\n",
      "| \u001b[0m2        \u001b[0m | \u001b[0m-0.0     \u001b[0m | \u001b[0m980.5    \u001b[0m | \u001b[0m328.4    \u001b[0m | \u001b[0m126.9    \u001b[0m |\n",
      "| \u001b[0m9        \u001b[0m | \u001b[0m-0.0     \u001b[0m | \u001b[0m310.3    \u001b[0m | \u001b[0m328.4    \u001b[0m | \u001b[0m107.0    \u001b[0m |\n",
      "| \u001b[0m3        \u001b[0m | \u001b[0m-0.0     \u001b[0m | \u001b[0m893.0    \u001b[0m | \u001b[0m139.2    \u001b[0m | \u001b[0m222.5    \u001b[0m |\n",
      "| \u001b[0m15       \u001b[0m | \u001b[0m-0.0     \u001b[0m | \u001b[0m997.4    \u001b[0m | \u001b[0m326.8    \u001b[0m | \u001b[0m268.8    \u001b[0m |\n",
      "=============================================================\n",
      "| \u001b[0m4        \u001b[0m | \u001b[0m-0.0     \u001b[0m | \u001b[0m446.3    \u001b[0m | \u001b[0m200.2    \u001b[0m | \u001b[0m253.2    \u001b[0m |\n",
      "| \u001b[0m5        \u001b[0m | \u001b[0m-0.0     \u001b[0m | \u001b[0m523.1    \u001b[0m | \u001b[0m315.3    \u001b[0m | \u001b[0m124.9    \u001b[0m |\n"
     ]
    },
    {
     "name": "stderr",
     "output_type": "stream",
     "text": [
      "\n"
     ]
    },
    {
     "name": "stdout",
     "output_type": "stream",
     "text": [
      "| \u001b[0m6        \u001b[0m | \u001b[0m-0.0     \u001b[0m | \u001b[0m999.5    \u001b[0m | \u001b[0m305.6    \u001b[0m | \u001b[0m102.2    \u001b[0m |\n",
      "| \u001b[0m14       \u001b[0m | \u001b[0m-0.0     \u001b[0m | \u001b[0m987.8    \u001b[0m | \u001b[0m139.0    \u001b[0m | \u001b[0m109.1    \u001b[0m |\n"
     ]
    },
    {
     "ename": "KeyboardInterrupt",
     "evalue": "",
     "output_type": "error",
     "traceback": [
      "\u001b[0;31m---------------------------------------------------------------------------\u001b[0m",
      "\u001b[0;31mIndexError\u001b[0m                                Traceback (most recent call last)",
      "File \u001b[0;32m/usr/lib/python3.8/multiprocessing/pool.py:851\u001b[0m, in \u001b[0;36mIMapIterator.next\u001b[0;34m(self, timeout)\u001b[0m\n\u001b[1;32m    850\u001b[0m \u001b[38;5;28;01mtry\u001b[39;00m:\n\u001b[0;32m--> 851\u001b[0m     item \u001b[38;5;241m=\u001b[39m \u001b[38;5;28;43mself\u001b[39;49m\u001b[38;5;241;43m.\u001b[39;49m\u001b[43m_items\u001b[49m\u001b[38;5;241;43m.\u001b[39;49m\u001b[43mpopleft\u001b[49m\u001b[43m(\u001b[49m\u001b[43m)\u001b[49m\n\u001b[1;32m    852\u001b[0m \u001b[38;5;28;01mexcept\u001b[39;00m \u001b[38;5;167;01mIndexError\u001b[39;00m:\n",
      "\u001b[0;31mIndexError\u001b[0m: pop from an empty deque",
      "\nDuring handling of the above exception, another exception occurred:\n",
      "\u001b[0;31mKeyboardInterrupt\u001b[0m                         Traceback (most recent call last)",
      "Input \u001b[0;32mIn [12]\u001b[0m, in \u001b[0;36m<cell line: 3>\u001b[0;34m()\u001b[0m\n\u001b[1;32m      1\u001b[0m \u001b[38;5;66;03m# 최적화 실행\u001b[39;00m\n\u001b[1;32m      2\u001b[0m optimizer \u001b[38;5;241m=\u001b[39m BayesianOptimizer(model, optimization)\n\u001b[0;32m----> 3\u001b[0m results \u001b[38;5;241m=\u001b[39m \u001b[43moptimizer\u001b[49m\u001b[38;5;241;43m.\u001b[39;49m\u001b[43moptimize_batch\u001b[49m\u001b[43m(\u001b[49m\u001b[43mtest\u001b[49m\u001b[38;5;241;43m.\u001b[39;49m\u001b[43mdrop\u001b[49m\u001b[43m(\u001b[49m\u001b[43mcolumns\u001b[49m\u001b[38;5;241;43m.\u001b[39;49m\u001b[43mtarget_column\u001b[49m\u001b[43m,\u001b[49m\u001b[43m \u001b[49m\u001b[43maxis\u001b[49m\u001b[38;5;241;43m=\u001b[39;49m\u001b[38;5;241;43m1\u001b[39;49m\u001b[43m)\u001b[49m\u001b[43m)\u001b[49m\n",
      "File \u001b[0;32m~/sjyun/KAMP_casting_optimization_competition/casting_optimization/casting/optimizer/bayesian_optimizer.py:76\u001b[0m, in \u001b[0;36mBayesianOptimizer.optimize_batch\u001b[0;34m(self, data, progress_bar)\u001b[0m\n\u001b[1;32m     74\u001b[0m \u001b[38;5;28;01mwith\u001b[39;00m Pool(\u001b[38;5;28mself\u001b[39m\u001b[38;5;241m.\u001b[39mconfig\u001b[38;5;241m.\u001b[39mn_processes) \u001b[38;5;28;01mas\u001b[39;00m pool:\n\u001b[1;32m     75\u001b[0m     \u001b[38;5;28;01mif\u001b[39;00m progress_bar:\n\u001b[0;32m---> 76\u001b[0m         results \u001b[38;5;241m=\u001b[39m \u001b[38;5;28;43mlist\u001b[39;49m\u001b[43m(\u001b[49m\u001b[43mtqdm\u001b[49m\u001b[43m(\u001b[49m\n\u001b[1;32m     77\u001b[0m \u001b[43m            \u001b[49m\u001b[43mpool\u001b[49m\u001b[38;5;241;43m.\u001b[39;49m\u001b[43mimap\u001b[49m\u001b[43m(\u001b[49m\u001b[38;5;28;43mself\u001b[39;49m\u001b[38;5;241;43m.\u001b[39;49m\u001b[43m_optimize_single_point\u001b[49m\u001b[43m,\u001b[49m\u001b[43m \u001b[49m\u001b[43margs\u001b[49m\u001b[43m)\u001b[49m\u001b[43m,\u001b[49m\n\u001b[1;32m     78\u001b[0m \u001b[43m            \u001b[49m\u001b[43mtotal\u001b[49m\u001b[38;5;241;43m=\u001b[39;49m\u001b[38;5;28;43mlen\u001b[39;49m\u001b[43m(\u001b[49m\u001b[43mdata\u001b[49m\u001b[43m)\u001b[49m\u001b[43m,\u001b[49m\n\u001b[1;32m     79\u001b[0m \u001b[43m            \u001b[49m\u001b[43mdesc\u001b[49m\u001b[38;5;241;43m=\u001b[39;49m\u001b[38;5;124;43m\"\u001b[39;49m\u001b[38;5;124;43mOptimizing parameters\u001b[39;49m\u001b[38;5;124;43m\"\u001b[39;49m\n\u001b[1;32m     80\u001b[0m \u001b[43m        \u001b[49m\u001b[43m)\u001b[49m\u001b[43m)\u001b[49m\n\u001b[1;32m     81\u001b[0m     \u001b[38;5;28;01melse\u001b[39;00m:\n\u001b[1;32m     82\u001b[0m         results \u001b[38;5;241m=\u001b[39m pool\u001b[38;5;241m.\u001b[39mmap(\u001b[38;5;28mself\u001b[39m\u001b[38;5;241m.\u001b[39m_optimize_single_point, args)\n",
      "File \u001b[0;32m/usr/local/lib/python3.8/dist-packages/tqdm/std.py:1195\u001b[0m, in \u001b[0;36mtqdm.__iter__\u001b[0;34m(self)\u001b[0m\n\u001b[1;32m   1192\u001b[0m time \u001b[38;5;241m=\u001b[39m \u001b[38;5;28mself\u001b[39m\u001b[38;5;241m.\u001b[39m_time\n\u001b[1;32m   1194\u001b[0m \u001b[38;5;28;01mtry\u001b[39;00m:\n\u001b[0;32m-> 1195\u001b[0m     \u001b[38;5;28;01mfor\u001b[39;00m obj \u001b[38;5;129;01min\u001b[39;00m iterable:\n\u001b[1;32m   1196\u001b[0m         \u001b[38;5;28;01myield\u001b[39;00m obj\n\u001b[1;32m   1197\u001b[0m         \u001b[38;5;66;03m# Update and possibly print the progressbar.\u001b[39;00m\n\u001b[1;32m   1198\u001b[0m         \u001b[38;5;66;03m# Note: does not call self.update(1) for speed optimisation.\u001b[39;00m\n",
      "File \u001b[0;32m/usr/lib/python3.8/multiprocessing/pool.py:856\u001b[0m, in \u001b[0;36mIMapIterator.next\u001b[0;34m(self, timeout)\u001b[0m\n\u001b[1;32m    854\u001b[0m     \u001b[38;5;28mself\u001b[39m\u001b[38;5;241m.\u001b[39m_pool \u001b[38;5;241m=\u001b[39m \u001b[38;5;28;01mNone\u001b[39;00m\n\u001b[1;32m    855\u001b[0m     \u001b[38;5;28;01mraise\u001b[39;00m \u001b[38;5;167;01mStopIteration\u001b[39;00m \u001b[38;5;28;01mfrom\u001b[39;00m \u001b[38;5;28mNone\u001b[39m\n\u001b[0;32m--> 856\u001b[0m \u001b[38;5;28;43mself\u001b[39;49m\u001b[38;5;241;43m.\u001b[39;49m\u001b[43m_cond\u001b[49m\u001b[38;5;241;43m.\u001b[39;49m\u001b[43mwait\u001b[49m\u001b[43m(\u001b[49m\u001b[43mtimeout\u001b[49m\u001b[43m)\u001b[49m\n\u001b[1;32m    857\u001b[0m \u001b[38;5;28;01mtry\u001b[39;00m:\n\u001b[1;32m    858\u001b[0m     item \u001b[38;5;241m=\u001b[39m \u001b[38;5;28mself\u001b[39m\u001b[38;5;241m.\u001b[39m_items\u001b[38;5;241m.\u001b[39mpopleft()\n",
      "File \u001b[0;32m/usr/lib/python3.8/threading.py:302\u001b[0m, in \u001b[0;36mCondition.wait\u001b[0;34m(self, timeout)\u001b[0m\n\u001b[1;32m    300\u001b[0m \u001b[38;5;28;01mtry\u001b[39;00m:    \u001b[38;5;66;03m# restore state no matter what (e.g., KeyboardInterrupt)\u001b[39;00m\n\u001b[1;32m    301\u001b[0m     \u001b[38;5;28;01mif\u001b[39;00m timeout \u001b[38;5;129;01mis\u001b[39;00m \u001b[38;5;28;01mNone\u001b[39;00m:\n\u001b[0;32m--> 302\u001b[0m         \u001b[43mwaiter\u001b[49m\u001b[38;5;241;43m.\u001b[39;49m\u001b[43macquire\u001b[49m\u001b[43m(\u001b[49m\u001b[43m)\u001b[49m\n\u001b[1;32m    303\u001b[0m         gotit \u001b[38;5;241m=\u001b[39m \u001b[38;5;28;01mTrue\u001b[39;00m\n\u001b[1;32m    304\u001b[0m     \u001b[38;5;28;01melse\u001b[39;00m:\n",
      "\u001b[0;31mKeyboardInterrupt\u001b[0m: "
     ]
    }
   ],
   "source": [
    "# 최적화 실행\n",
    "optimizer = BayesianOptimizer(model, optimization)\n",
    "results = optimizer.optimize_batch(test.drop(columns.target_column, axis=1))"
   ]
  },
  {
   "cell_type": "code",
   "execution_count": 17,
   "metadata": {},
   "outputs": [],
   "source": [
    "## 최적화 결과 비교\n",
    "\n",
    "X_test_origin, y_test = test[columns.input_columns], test[columns.target_column]\n",
    "X_test = X_test_origin.copy()\n",
    "\n",
    "X_test['lower_mold_temp2'] = optimizer.max['params']['lower_mold_temp2']\n",
    "X_test['cast_pressure'] = optimizer.max['params']['cast_pressure']\n",
    "X_test['molten_temp'] = optimizer.max['params']['molten_temp']\n"
   ]
  },
  {
   "cell_type": "code",
   "execution_count": 18,
   "metadata": {},
   "outputs": [
    {
     "data": {
      "image/png": "[encoded data removed]",
      "text/plain": [
       "<Figure size 432x288 with 1 Axes>"
      ]
     },
     "metadata": {
      "needs_background": "light"
     },
     "output_type": "display_data"
    }
   ],
   "source": [
    "# 예측 결과 생성\n",
    "pred_origin = model.predict(X_test_origin)  # 기존 예측 결과\n",
    "pred_test = model.predict(X_test)  # 새로운 예측 결과\n",
    "\n",
    "# 각 예측 결과에서 0과 1의 개수 계산\n",
    "count_origin = [np.sum(pred_origin == 0), np.sum(pred_origin == 1)]\n",
    "count_test = [np.sum(pred_test == 0), np.sum(pred_test == 1)]\n",
    "\n",
    "# 막대 그래프 데이터 준비\n",
    "labels = ['0', '1']\n",
    "x = np.arange(len(labels))  # x축 위치\n",
    "\n",
    "# 그래프 그리기\n",
    "width = 0.35  # 막대 너비\n",
    "\n",
    "fig, ax = plt.subplots()\n",
    "bars1 = ax.bar(x - width/2, count_origin, width, label='기존 예측 결과')\n",
    "bars2 = ax.bar(x + width/2, count_test, width, label='최적화 후 예측 결과')\n",
    "\n",
    "# 라벨 추가\n",
    "ax.set_xlabel('예측 결과')\n",
    "ax.set_ylabel('개수')\n",
    "ax.set_title('0과 1의 예측 개수 비교')\n",
    "ax.set_xticks(x)\n",
    "ax.set_xticklabels(labels)\n",
    "ax.legend()\n",
    "\n",
    "# 각 막대에 값 표시\n",
    "for bar in bars1:\n",
    "    yval = bar.get_height()\n",
    "    ax.text(bar.get_x() + bar.get_width()/2, yval, int(yval), ha='center', va='bottom')\n",
    "\n",
    "for bar in bars2:\n",
    "    yval = bar.get_height()\n",
    "    ax.text(bar.get_x() + bar.get_width()/2, yval, int(yval), ha='center', va='bottom')\n",
    "\n",
    "plt.tight_layout()\n",
    "plt.show()\n"
   ]
  },
  {
   "cell_type": "markdown",
   "metadata": {},
   "source": [
    "# Optimizer 사후 분석"
   ]
  },
  {
   "cell_type": "code",
   "execution_count": null,
   "metadata": {},
   "outputs": [],
   "source": []
  }
 ],
 "metadata": {
  "kernelspec": {
   "display_name": "Python 3 (ipykernel)",
   "language": "python",
   "name": "python3"
  },
  "language_info": {
   "codemirror_mode": {
    "name": "ipython",
    "version": 3
   },
   "file_extension": ".py",
   "mimetype": "text/x-python",
   "name": "python",
   "nbconvert_exporter": "python",
   "pygments_lexer": "ipython3",
   "version": "3.8.10"
  }
 },
 "nbformat": 4,
 "nbformat_minor": 2
}
