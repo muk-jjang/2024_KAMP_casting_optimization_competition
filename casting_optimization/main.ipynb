{
 "cells": [
  {
   "cell_type": "code",
   "execution_count": 1,
   "metadata": {},
   "outputs": [],
   "source": [
    "import pandas as pd\n",
    "from casting.configuration import paths, columns, ranges\n",
    "from casting.preprocessing import (calculate_defect_rate, \n",
    "                                   drop_null, \n",
    "                                   remove_extreme_outliers, \n",
    "                                   split_by_dbscan,\n",
    "                                   remove_outlier)\n",
    "from casting.utils import load_data\n",
    "\n",
    "\n",
    "from casting.trainner import train_xgboost, train_lightgbm, train_extra_trees\n",
    "from casting.trainner import train_tabnet\n",
    "\n",
    "from casting.model.pytorch_tabnet.tab_model import TabNetClassifier\n",
    "\n",
    "from sklearn.metrics import classification_report, accuracy_score, confusion_matrix"
   ]
  },
  {
   "cell_type": "code",
   "execution_count": 2,
   "metadata": {},
   "outputs": [
    {
     "name": "stderr",
     "output_type": "stream",
     "text": [
      "/var/folders/kc/2d8dbwd13vv1nn8nl99cb98r0000gn/T/ipykernel_77233/2839186551.py:1: DtypeWarning: Columns (29) have mixed types. Specify dtype option on import or set low_memory=False.\n",
      "  data_origin = pd.read_csv(paths.origin_path, encoding = 'euc-kr')\n"
     ]
    }
   ],
   "source": [
    "data_origin = pd.read_csv(paths.origin_path, encoding = 'euc-kr')\n",
    "data = data_origin[columns.use_columns]"
   ]
  },
  {
   "cell_type": "markdown",
   "metadata": {},
   "source": [
    "# preprocessing"
   ]
  },
  {
   "cell_type": "markdown",
   "metadata": {},
   "source": [
    "### base"
   ]
  },
  {
   "cell_type": "code",
   "execution_count": 3,
   "metadata": {},
   "outputs": [],
   "source": [
    "## null 값 제외\n",
    "data = drop_null(data).reset_index(drop=True)"
   ]
  },
  {
   "cell_type": "markdown",
   "metadata": {},
   "source": [
    "### outlier remove"
   ]
  },
  {
   "cell_type": "code",
   "execution_count": 4,
   "metadata": {},
   "outputs": [],
   "source": [
    "data = remove_outlier(data)"
   ]
  },
  {
   "cell_type": "markdown",
   "metadata": {},
   "source": [
    "### data split"
   ]
  },
  {
   "cell_type": "code",
   "execution_count": 5,
   "metadata": {},
   "outputs": [],
   "source": [
    "split_by_dbscan(data, 'casting/data/processed_data/')"
   ]
  },
  {
   "cell_type": "markdown",
   "metadata": {},
   "source": [
    "# Predictor"
   ]
  },
  {
   "cell_type": "markdown",
   "metadata": {},
   "source": [
    "### load_data"
   ]
  },
  {
   "cell_type": "code",
   "execution_count": 6,
   "metadata": {},
   "outputs": [],
   "source": [
    "X_train, y_train, X_valid, y_valid = load_data('ml')\n",
    "\n",
    "test = pd.read_csv(paths.ml_test_path)\n",
    "X_test, y_test = test[columns.input_columns], test[columns.target_column]"
   ]
  },
  {
   "cell_type": "markdown",
   "metadata": {},
   "source": [
    "### ML Modeling"
   ]
  },
  {
   "cell_type": "code",
   "execution_count": 7,
   "metadata": {},
   "outputs": [
    {
     "name": "stderr",
     "output_type": "stream",
     "text": [
      "/Users/yuyeongchan/opt/anaconda3/envs/saas-control-job/lib/python3.8/site-packages/xgboost/sklearn.py:885: UserWarning: `early_stopping_rounds` in `fit` method is deprecated for better compatibility with scikit-learn, use `early_stopping_rounds` in constructor or`set_params` instead.\n",
      "  warnings.warn(\n"
     ]
    }
   ],
   "source": [
    "# model = train_extra_trees(X_train, X_valid, y_train, y_valid)\n",
    "# model = train_lightgbm(X_train, X_valid, y_train, y_valid)\n",
    "model = train_xgboost(X_train, X_valid, y_train, y_valid)\n",
    "# model = train_tabnet(X_train, X_valid, y_train, y_valid)"
   ]
  },
  {
   "cell_type": "code",
   "execution_count": 8,
   "metadata": {},
   "outputs": [
    {
     "data": {
      "image/png": "[encoded data removed]",
      "text/plain": [
       "<Figure size 600x400 with 1 Axes>"
      ]
     },
     "metadata": {},
     "output_type": "display_data"
    }
   ],
   "source": [
    "import matplotlib.pyplot as plt\n",
    "import seaborn as sns\n",
    "# 혼동 행렬 계산\n",
    "\n",
    "y_pred = model.predict(X_test.values)\n",
    "test_cm = confusion_matrix(y_test, y_pred)\n",
    "\n",
    "# 혼동 행렬 계산\n",
    "cm = confusion_matrix(y_test, y_pred)\n",
    "\n",
    "# 혼동 행렬 시각화\n",
    "plt.figure(figsize=(6, 4))\n",
    "sns.heatmap(cm, annot=True, fmt='d', cmap='Blues', cbar=False)\n",
    "plt.xlabel('Predicted Labels')\n",
    "plt.ylabel('True Labels')\n",
    "plt.title('Confusion Matrix')\n",
    "plt.show()\n"
   ]
  },
  {
   "cell_type": "code",
   "execution_count": 9,
   "metadata": {},
   "outputs": [
    {
     "name": "stdout",
     "output_type": "stream",
     "text": [
      "F1 Score: 0.8990\n",
      "accuracy_score: 0.9910\n",
      "precision_score: 0.9277\n",
      "recall_score: 0.8720\n"
     ]
    }
   ],
   "source": [
    "from sklearn.metrics import f1_score, precision_score, recall_score, accuracy_score\n",
    "\n",
    "# 점수 계산\n",
    "f1 = f1_score(y_test, y_pred)\n",
    "print(f'F1 Score: {f1:.4f}')\n",
    "\n",
    "acc = accuracy_score(y_test, y_pred)\n",
    "print(f'accuracy_score: {acc:.4f}')\n",
    "\n",
    "ps = precision_score(y_test, y_pred)\n",
    "print(f'precision_score: {ps:.4f}')\n",
    "\n",
    "rs = recall_score(y_test, y_pred)\n",
    "print(f'recall_score: {rs:.4f}')"
   ]
  },
  {
   "cell_type": "markdown",
   "metadata": {},
   "source": [
    "## FTT Modeling"
   ]
  }
 ],
 "metadata": {
  "kernelspec": {
   "display_name": "Python 3",
   "language": "python",
   "name": "python3"
  },
  "language_info": {
   "codemirror_mode": {
    "name": "ipython",
    "version": 3
   },
   "file_extension": ".py",
   "mimetype": "text/x-python",
   "name": "python",
   "nbconvert_exporter": "python",
   "pygments_lexer": "ipython3",
   "version": "3.8.13"
  }
 },
 "nbformat": 4,
 "nbformat_minor": 2
}
