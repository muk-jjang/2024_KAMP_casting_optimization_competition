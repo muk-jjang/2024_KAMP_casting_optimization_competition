{
 "cells": [
  {
   "cell_type": "code",
   "execution_count": 1,
   "metadata": {},
   "outputs": [
    {
     "name": "stdout",
     "output_type": "stream",
     "text": [
      "cpu\n"
     ]
    }
   ],
   "source": [
    "import pandas as pd\n",
    "import numpy as np\n",
    "import warnings\n",
    "warnings.filterwarnings(action='ignore')\n",
    "\n",
    "from casting.configuration import paths, columns, params\n",
    "from casting.preprocessing import (\n",
    "                                   drop_null, \n",
    "                                   split_by_dbscan,\n",
    "                                   remove_outlier,\n",
    "                                   save_scaler,\n",
    "                                   save_label_encoding)\n",
    "from casting.utils import load_data\n",
    "\n",
    "\n",
    "from casting.trainner import train_xgboost, train_lightgbm, train_extra_trees, train_tabnet, train_FTT, FttDataloader\n",
    "from sklearn.metrics import f1_score, precision_score, recall_score, accuracy_score, confusion_matrix\n",
    "\n",
    "\n",
    "from torch.utils.data import DataLoader\n",
    "import torch\n",
    "\n",
    "device = torch.device(\"cuda\" if torch.cuda.is_available() else \"cpu\")"
   ]
  },
  {
   "cell_type": "code",
   "execution_count": 2,
   "metadata": {},
   "outputs": [],
   "source": [
    "data_origin = pd.read_csv(paths.origin_path, encoding = 'euc-kr')\n",
    "data = data_origin[columns.use_columns]"
   ]
  },
  {
   "cell_type": "markdown",
   "metadata": {},
   "source": [
    "# Preprocessing"
   ]
  },
  {
   "cell_type": "markdown",
   "metadata": {},
   "source": [
    "### base"
   ]
  },
  {
   "cell_type": "code",
   "execution_count": 3,
   "metadata": {},
   "outputs": [],
   "source": [
    "## null 값 제외\n",
    "data = drop_null(data).reset_index(drop=True)\n",
    "## 이상치 제거\n",
    "data = remove_outlier(data)\n",
    "\n",
    "\n",
    "if params.model_name == 'FTT':\n",
    "    ## 스케일러 생성\n",
    "    save_scaler(data, \n",
    "                columns.numeric_columns, \n",
    "                columns.target_column,\n",
    "                paths.X_scaler_path,\n",
    "                paths.y_scaler_path\n",
    "                )\n",
    "    ## 카테고리 컬럼 처리를 위한 라벨 인코딩\n",
    "    save_label_encoding(data, columns.category_columns, paths.label_encoding_path)\n",
    "\n",
    "    split_by_dbscan(data, 'casting/data/scaled_data/')\n",
    "else :\n",
    "    ## 데이터 분리\n",
    "    split_by_dbscan(data, 'casting/data/processed_data/')"
   ]
  },
  {
   "cell_type": "markdown",
   "metadata": {},
   "source": [
    "# Predictor"
   ]
  },
  {
   "cell_type": "markdown",
   "metadata": {},
   "source": [
    "### load_data"
   ]
  },
  {
   "cell_type": "code",
   "execution_count": 4,
   "metadata": {},
   "outputs": [],
   "source": [
    "train, valid, test = load_data(params.model_name)"
   ]
  },
  {
   "cell_type": "markdown",
   "metadata": {},
   "source": [
    "### Modeling"
   ]
  },
  {
   "cell_type": "code",
   "execution_count": 5,
   "metadata": {},
   "outputs": [
    {
     "name": "stdout",
     "output_type": "stream",
     "text": [
      "[LightGBM] [Warning] Met categorical feature which contains sparse values. Consider renumbering to consecutive integers started from zero\n",
      "[LightGBM] [Info] Number of positive: 2586, number of negative: 59825\n",
      "[LightGBM] [Info] Auto-choosing row-wise multi-threading, the overhead of testing was 0.001617 seconds.\n",
      "You can set `force_row_wise=true` to remove the overhead.\n",
      "And if memory is not enough, you can set `force_col_wise=true`.\n",
      "[LightGBM] [Info] Total Bins 2397\n",
      "[LightGBM] [Info] Number of data points in the train set: 62411, number of used features: 18\n",
      "[LightGBM] [Info] [binary:BoostFromScore]: pavg=0.041435 -> initscore=-3.141311\n",
      "[LightGBM] [Info] Start training from score -3.141311\n"
     ]
    }
   ],
   "source": [
    "## TODO : 모듈 형식으로 모델 GATEWAY 함수 구성\n",
    "## TODO : AUTO ML 넣어서 제일 좋은 성능을 Select하는 형식\n",
    "\n",
    "if params.model_name == 'LGBM' :\n",
    "    model = train_lightgbm(train, valid)\n",
    "elif params.model_name == 'XGB' :\n",
    "    model = train_xgboost(train, valid)\n",
    "elif params.model_name == 'EXT' :\n",
    "    model = train_extra_trees(train, valid)\n",
    "elif params.model_name == 'TABNET' :\n",
    "    model = train_tabnet(train, valid)\n",
    "## GPU 환경 필수\n",
    "elif params.model_name == 'FTT' :\n",
    "    model = train_FTT(train, valid)"
   ]
  },
  {
   "cell_type": "code",
   "execution_count": null,
   "metadata": {},
   "outputs": [],
   "source": []
  },
  {
   "cell_type": "markdown",
   "metadata": {},
   "source": [
    "### inference"
   ]
  },
  {
   "cell_type": "code",
   "execution_count": 6,
   "metadata": {},
   "outputs": [
    {
     "data": {
      "image/png": "[encoded data removed]",
      "text/plain": [
       "<Figure size 600x400 with 1 Axes>"
      ]
     },
     "metadata": {},
     "output_type": "display_data"
    },
    {
     "name": "stdout",
     "output_type": "stream",
     "text": [
      "F1 Score: 0.9028\n",
      "accuracy_score: 0.9922\n",
      "precision_score: 0.9420\n",
      "recall_score: 0.8667\n"
     ]
    }
   ],
   "source": [
    "import matplotlib.pyplot as plt\n",
    "import seaborn as sns\n",
    "# 혼동 행렬 계산\n",
    "\n",
    "## FTT 모델일때 inference\n",
    "if params.model_name == 'FTT' :\n",
    "    test_data = FttDataloader(test)\n",
    "    test_loader = DataLoader(test_data, batch_size=len(test), shuffle=False)\n",
    "\n",
    "    model.to(device)\n",
    "    model.eval()\n",
    "    all_pred = []\n",
    "    all_y = []\n",
    "    x_samples = []\n",
    "    with torch.no_grad():\n",
    "        cul_loss = 0  # SE\n",
    "        count = 0\n",
    "        for batch, (x_categ, x_numer, y) in enumerate(test_loader):\n",
    "            x_categ, x_numer, y = x_categ.to(device), x_numer.to(device), y.to(device)\n",
    "            # 예측 오류 계산\n",
    "            pred = model(x_categ, x_numer)\n",
    "            pred = pred.cpu().detach().numpy()\n",
    "            y = y.cpu().detach().numpy()\n",
    "            all_pred.extend(pred)\n",
    "            all_y.extend(y)\n",
    "\n",
    "    all_pred = np.array(all_pred)\n",
    "    all_y = np.array(all_y)\n",
    "\n",
    "    y_test = pd.DataFrame(np.array(all_y)) \n",
    "    y_pred = pd.DataFrame(np.array(all_pred)).round(1).astype(int)\n",
    "## 그외 모델일때\n",
    "else :\n",
    "\n",
    "    X_test, y_test = test[columns.input_columns], test[columns.target_column]\n",
    "    \n",
    "\n",
    "    y_pred = model.predict(X_test.values)\n",
    "    test_cm = confusion_matrix(y_test, y_pred)\n",
    "\n",
    "    # 혼동 행렬 계산\n",
    "    cm = confusion_matrix(y_test, y_pred)\n",
    "\n",
    "    # 혼동 행렬 시각화\n",
    "    plt.figure(figsize=(6, 4))\n",
    "    sns.heatmap(cm, annot=True, fmt='d', cmap='Blues', cbar=False)\n",
    "    plt.xlabel('Predicted Labels')\n",
    "    plt.ylabel('True Labels')\n",
    "    plt.title('Confusion Matrix')\n",
    "    plt.show()\n",
    "\n",
    "# 점수 계산\n",
    "f1 = f1_score(y_test, y_pred)\n",
    "print(f'F1 Score: {f1:.4f}')\n",
    "\n",
    "acc = accuracy_score(y_test, y_pred)\n",
    "print(f'accuracy_score: {acc:.4f}')\n",
    "\n",
    "ps = precision_score(y_test, y_pred)\n",
    "print(f'precision_score: {ps:.4f}')\n",
    "\n",
    "rs = recall_score(y_test, y_pred)\n",
    "print(f'recall_score: {rs:.4f}')\n"
   ]
  },
  {
   "cell_type": "markdown",
   "metadata": {},
   "source": [
    "# Postprocessing"
   ]
  },
  {
   "cell_type": "markdown",
   "metadata": {},
   "source": [
    "## 유민님 작업 공간"
   ]
  }
 ],
 "metadata": {
  "kernelspec": {
   "display_name": "Python 3",
   "language": "python",
   "name": "python3"
  },
  "language_info": {
   "codemirror_mode": {
    "name": "ipython",
    "version": 3
   },
   "file_extension": ".py",
   "mimetype": "text/x-python",
   "name": "python",
   "nbconvert_exporter": "python",
   "pygments_lexer": "ipython3",
   "version": "3.8.13"
  }
 },
 "nbformat": 4,
 "nbformat_minor": 2
}
