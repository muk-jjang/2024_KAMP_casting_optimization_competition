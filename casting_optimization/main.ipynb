{
 "cells": [
  {
   "cell_type": "code",
   "execution_count": 1,
   "metadata": {},
   "outputs": [],
   "source": [
    "import pandas as pd\n",
    "from casting.configuration import paths, columns, ranges\n",
    "from casting.preprocessing import (calculate_defect_rate, \n",
    "                                   drop_null, \n",
    "                                   remove_extreme_outliers, \n",
    "                                   split_by_dbscan,\n",
    "                                   remove_outlier)\n",
    "from casting.utils import load_data\n",
    "\n",
    "from casting.model.train_ML_model import train_xgboost, train_lightgbm, train_extra_trees\n",
    "from casting.model.train_DL_model import train_tabnet\n",
    "\n",
    "from casting.model.pytorch_tabnet.tab_model import TabNetClassifier\n",
    "\n",
    "from sklearn.metrics import classification_report, accuracy_score, confusion_matrix"
   ]
  },
  {
   "cell_type": "code",
   "execution_count": 2,
   "metadata": {},
   "outputs": [
    {
     "name": "stderr",
     "output_type": "stream",
     "text": [
      "/var/folders/kc/2d8dbwd13vv1nn8nl99cb98r0000gn/T/ipykernel_72794/2839186551.py:1: DtypeWarning: Columns (29) have mixed types. Specify dtype option on import or set low_memory=False.\n",
      "  data_origin = pd.read_csv(paths.origin_path, encoding = 'euc-kr')\n"
     ]
    }
   ],
   "source": [
    "data_origin = pd.read_csv(paths.origin_path, encoding = 'euc-kr')\n",
    "data = data_origin[columns.use_columns]"
   ]
  },
  {
   "cell_type": "markdown",
   "metadata": {},
   "source": [
    "# preprocessing"
   ]
  },
  {
   "cell_type": "markdown",
   "metadata": {},
   "source": [
    "### base"
   ]
  },
  {
   "cell_type": "code",
   "execution_count": 3,
   "metadata": {},
   "outputs": [],
   "source": [
    "## null 값 제외\n",
    "data = drop_null(data).reset_index(drop=True)"
   ]
  },
  {
   "cell_type": "markdown",
   "metadata": {},
   "source": [
    "### outlier remove"
   ]
  },
  {
   "cell_type": "code",
   "execution_count": 4,
   "metadata": {},
   "outputs": [],
   "source": [
    "data = remove_outlier(data)"
   ]
  },
  {
   "cell_type": "markdown",
   "metadata": {},
   "source": [
    "### data split"
   ]
  },
  {
   "cell_type": "code",
   "execution_count": 5,
   "metadata": {},
   "outputs": [],
   "source": [
    "split_by_dbscan(data, 'casting/data/processed_data/')"
   ]
  },
  {
   "cell_type": "markdown",
   "metadata": {},
   "source": [
    "# Predictor"
   ]
  },
  {
   "cell_type": "markdown",
   "metadata": {},
   "source": [
    "### load_data"
   ]
  },
  {
   "cell_type": "code",
   "execution_count": 6,
   "metadata": {},
   "outputs": [],
   "source": [
    "X_train, y_train, X_valid, y_valid = load_data('ml')\n",
    "\n",
    "test = pd.read_csv(paths.ml_test_path)\n",
    "X_test, y_test = test[columns.input_columns], test[columns.target_column]"
   ]
  },
  {
   "cell_type": "markdown",
   "metadata": {},
   "source": [
    "### ML Modeling"
   ]
  },
  {
   "cell_type": "code",
   "execution_count": null,
   "metadata": {},
   "outputs": [
    {
     "name": "stderr",
     "output_type": "stream",
     "text": [
      "/Users/yuyeongchan/opt/anaconda3/envs/saas-control-job/lib/python3.8/site-packages/pytorch_tabnet/abstract_model.py:82: UserWarning: Device used : cpu\n",
      "  warnings.warn(f\"Device used : {self.device}\")\n"
     ]
    },
    {
     "name": "stdout",
     "output_type": "stream",
     "text": [
      "epoch 0  | loss: 0.17877 | val_0_auc: 0.45089 |  0:00:06s\n",
      "epoch 1  | loss: 0.0837  | val_0_auc: 0.78588 |  0:00:12s\n",
      "epoch 2  | loss: 0.0675  | val_0_auc: 0.80766 |  0:00:19s\n",
      "epoch 3  | loss: 0.06241 | val_0_auc: 0.89053 |  0:00:25s\n",
      "epoch 4  | loss: 0.06579 | val_0_auc: 0.87697 |  0:00:32s\n",
      "epoch 5  | loss: 0.05878 | val_0_auc: 0.9254  |  0:00:38s\n",
      "epoch 6  | loss: 0.05481 | val_0_auc: 0.95484 |  0:00:44s\n",
      "epoch 7  | loss: 0.05035 | val_0_auc: 0.95671 |  0:00:51s\n",
      "epoch 8  | loss: 0.05123 | val_0_auc: 0.95551 |  0:00:57s\n",
      "epoch 9  | loss: 0.04933 | val_0_auc: 0.95877 |  0:01:03s\n",
      "epoch 10 | loss: 0.04871 | val_0_auc: 0.95836 |  0:01:10s\n",
      "epoch 11 | loss: 0.04606 | val_0_auc: 0.96234 |  0:01:17s\n",
      "epoch 12 | loss: 0.04495 | val_0_auc: 0.96087 |  0:01:24s\n",
      "epoch 13 | loss: 0.04676 | val_0_auc: 0.96133 |  0:01:30s\n",
      "epoch 14 | loss: 0.04879 | val_0_auc: 0.96288 |  0:01:37s\n",
      "epoch 15 | loss: 0.04245 | val_0_auc: 0.96386 |  0:01:43s\n",
      "epoch 16 | loss: 0.04103 | val_0_auc: 0.9638  |  0:01:50s\n",
      "epoch 17 | loss: 0.04206 | val_0_auc: 0.96265 |  0:01:56s\n",
      "epoch 18 | loss: 0.04292 | val_0_auc: 0.96474 |  0:02:03s\n",
      "epoch 19 | loss: 0.04148 | val_0_auc: 0.96789 |  0:02:09s\n",
      "epoch 20 | loss: 0.04036 | val_0_auc: 0.96716 |  0:02:16s\n",
      "epoch 21 | loss: 0.04016 | val_0_auc: 0.96697 |  0:02:22s\n",
      "epoch 22 | loss: 0.03869 | val_0_auc: 0.96738 |  0:02:29s\n",
      "epoch 23 | loss: 0.03879 | val_0_auc: 0.9646  |  0:02:35s\n",
      "epoch 24 | loss: 0.03877 | val_0_auc: 0.97181 |  0:02:42s\n",
      "epoch 25 | loss: 0.03843 | val_0_auc: 0.96986 |  0:02:48s\n",
      "epoch 26 | loss: 0.0434  | val_0_auc: 0.96633 |  0:02:55s\n",
      "epoch 27 | loss: 0.04247 | val_0_auc: 0.96567 |  0:03:01s\n",
      "epoch 28 | loss: 0.03903 | val_0_auc: 0.96909 |  0:03:07s\n",
      "epoch 29 | loss: 0.03881 | val_0_auc: 0.96881 |  0:03:14s\n",
      "epoch 30 | loss: 0.03881 | val_0_auc: 0.96819 |  0:03:20s\n",
      "epoch 31 | loss: 0.03925 | val_0_auc: 0.9686  |  0:03:27s\n",
      "epoch 32 | loss: 0.03771 | val_0_auc: 0.97036 |  0:03:33s\n",
      "epoch 33 | loss: 0.03773 | val_0_auc: 0.96917 |  0:03:40s\n",
      "epoch 34 | loss: 0.0378  | val_0_auc: 0.9719  |  0:03:46s\n",
      "epoch 35 | loss: 0.03628 | val_0_auc: 0.96824 |  0:03:53s\n",
      "epoch 36 | loss: 0.03694 | val_0_auc: 0.97085 |  0:04:00s\n",
      "epoch 37 | loss: 0.03752 | val_0_auc: 0.96433 |  0:04:06s\n",
      "epoch 38 | loss: 0.03864 | val_0_auc: 0.96659 |  0:04:13s\n",
      "epoch 39 | loss: 0.03615 | val_0_auc: 0.96722 |  0:04:20s\n",
      "epoch 40 | loss: 0.03509 | val_0_auc: 0.97131 |  0:04:26s\n",
      "epoch 41 | loss: 0.03549 | val_0_auc: 0.96801 |  0:04:33s\n",
      "epoch 42 | loss: 0.03616 | val_0_auc: 0.97027 |  0:04:39s\n",
      "epoch 43 | loss: 0.03469 | val_0_auc: 0.96791 |  0:04:45s\n",
      "epoch 44 | loss: 0.03487 | val_0_auc: 0.96288 |  0:04:52s\n",
      "epoch 45 | loss: 0.03423 | val_0_auc: 0.9675  |  0:04:59s\n",
      "epoch 46 | loss: 0.03425 | val_0_auc: 0.96841 |  0:05:05s\n",
      "epoch 47 | loss: 0.03449 | val_0_auc: 0.96884 |  0:05:11s\n",
      "epoch 48 | loss: 0.03458 | val_0_auc: 0.96814 |  0:05:18s\n",
      "epoch 49 | loss: 0.03445 | val_0_auc: 0.96876 |  0:05:24s\n",
      "epoch 50 | loss: 0.03432 | val_0_auc: 0.96914 |  0:05:31s\n",
      "epoch 51 | loss: 0.034   | val_0_auc: 0.96324 |  0:05:37s\n",
      "epoch 52 | loss: 0.03451 | val_0_auc: 0.9681  |  0:05:44s\n",
      "epoch 53 | loss: 0.03599 | val_0_auc: 0.9628  |  0:05:50s\n",
      "epoch 54 | loss: 0.03561 | val_0_auc: 0.96889 |  0:05:56s\n",
      "\n",
      "Early stopping occurred at epoch 54 with best_epoch = 34 and best_val_0_auc = 0.9719\n"
     ]
    },
    {
     "name": "stderr",
     "output_type": "stream",
     "text": [
      "/Users/yuyeongchan/opt/anaconda3/envs/saas-control-job/lib/python3.8/site-packages/pytorch_tabnet/callbacks.py:172: UserWarning: Best weights from best epoch are automatically used!\n",
      "  warnings.warn(wrn_msg)\n"
     ]
    }
   ],
   "source": [
    "# model = train_extra_trees(X_train, X_valid, y_train, y_valid)\n",
    "# model = train_lightgbm(X_train, X_valid, y_train, y_valid)\n",
    "# model = train_xgboost(X_train, X_valid, y_train, y_valid)\n",
    "# model = train_tabnet(X_train, X_valid, y_train, y_valid)"
   ]
  },
  {
   "cell_type": "code",
   "execution_count": 8,
   "metadata": {},
   "outputs": [
    {
     "data": {
      "image/png": "[encoded data removed]",
      "text/plain": [
       "<Figure size 600x400 with 1 Axes>"
      ]
     },
     "metadata": {},
     "output_type": "display_data"
    }
   ],
   "source": [
    "import matplotlib.pyplot as plt\n",
    "import seaborn as sns\n",
    "# 혼동 행렬 계산\n",
    "\n",
    "y_pred = model.predict(X_test.values)\n",
    "test_cm = confusion_matrix(y_test, y_pred)\n",
    "\n",
    "# 혼동 행렬 계산\n",
    "cm = confusion_matrix(y_test, y_pred)\n",
    "\n",
    "# 혼동 행렬 시각화\n",
    "plt.figure(figsize=(6, 4))\n",
    "sns.heatmap(cm, annot=True, fmt='d', cmap='Blues', cbar=False)\n",
    "plt.xlabel('Predicted Labels')\n",
    "plt.ylabel('True Labels')\n",
    "plt.title('Confusion Matrix')\n",
    "plt.show()\n"
   ]
  },
  {
   "cell_type": "code",
   "execution_count": 10,
   "metadata": {},
   "outputs": [
    {
     "name": "stdout",
     "output_type": "stream",
     "text": [
      "F1 Score: 0.8533\n",
      "accuracy_score: 0.9880\n",
      "precision_score: 0.9793\n",
      "recall_score: 0.7560\n"
     ]
    }
   ],
   "source": [
    "from sklearn.metrics import f1_score, precision_score, recall_score, accuracy_score\n",
    "\n",
    "# 점수 계산\n",
    "f1 = f1_score(y_test, y_pred)\n",
    "print(f'F1 Score: {f1:.4f}')\n",
    "\n",
    "acc = accuracy_score(y_test, y_pred)\n",
    "print(f'accuracy_score: {acc:.4f}')\n",
    "\n",
    "ps = precision_score(y_test, y_pred)\n",
    "print(f'precision_score: {ps:.4f}')\n",
    "\n",
    "rs = recall_score(y_test, y_pred)\n",
    "print(f'recall_score: {rs:.4f}')"
   ]
  },
  {
   "cell_type": "markdown",
   "metadata": {},
   "source": [
    "## FTT Modeling"
   ]
  }
 ],
 "metadata": {
  "kernelspec": {
   "display_name": "Python 3",
   "language": "python",
   "name": "python3"
  },
  "language_info": {
   "codemirror_mode": {
    "name": "ipython",
    "version": 3
   },
   "file_extension": ".py",
   "mimetype": "text/x-python",
   "name": "python",
   "nbconvert_exporter": "python",
   "pygments_lexer": "ipython3",
   "version": "3.8.13"
  }
 },
 "nbformat": 4,
 "nbformat_minor": 2
}
