{
 "cells": [
  {
   "cell_type": "code",
   "execution_count": 1,
   "metadata": {},
   "outputs": [
    {
     "name": "stdout",
     "output_type": "stream",
     "text": [
      "cuda\n"
     ]
    }
   ],
   "source": [
    "import pandas as pd\n",
    "import numpy as np\n",
    "import warnings\n",
    "warnings.filterwarnings(action='ignore')\n",
    "\n",
    "from casting.configuration import paths, columns, params, optimization\n",
    "from casting.preprocessing import (\n",
    "                                   drop_null, \n",
    "                                   split_by_dbscan,\n",
    "                                   remove_outlier,\n",
    "                                   save_scaler,\n",
    "                                   save_label_encoding)\n",
    "                                   \n",
    "from casting.utils import load_data\n",
    "from casting.optimizer import BayesianOptimizer\n",
    "\n",
    "from casting.trainner import train_xgboost, train_lightgbm, train_extra_trees, train_tabnet, train_FTT, FttDataloader\n",
    "from sklearn.metrics import f1_score, precision_score, recall_score, accuracy_score, confusion_matrix\n",
    "\n",
    "\n",
    "from torch.utils.data import DataLoader\n",
    "import torch\n",
    "\n",
    "import seaborn as sns\n",
    "import pandas as pd\n",
    "import matplotlib.pyplot as plt\n",
    "from matplotlib import font_manager, rc\n",
    "\n",
    "device = torch.device(\"cuda\" if torch.cuda.is_available() else \"cpu\")\n",
    "\n",
    "pd.set_option('display.max_columns', None) ## 모든 열을 출력한다\n",
    "\n",
    "font_manager.fontManager.addfont('NanumGothic-Bold.ttf')\n",
    "plt.rc('font', family='NanumGothic')\n"
   ]
  },
  {
   "cell_type": "markdown",
   "metadata": {},
   "source": [
    "# Preprocessing"
   ]
  },
  {
   "cell_type": "markdown",
   "metadata": {},
   "source": [
    "### base"
   ]
  },
  {
   "cell_type": "code",
   "execution_count": null,
   "metadata": {},
   "outputs": [],
   "source": [
    "# 데이터 불러오기\n",
    "data_origin = pd.read_csv(paths.origin_path, encoding = 'euc-kr')\n",
    "\n",
    "# 사용하는 컬럼만 추출(보고서 내용 참고)\n",
    "data = data_origin[columns.use_columns]"
   ]
  },
  {
   "cell_type": "code",
   "execution_count": 4,
   "metadata": {},
   "outputs": [],
   "source": [
    "## null 값 제외\n",
    "data = drop_null(data).reset_index(drop=True)\n",
    "\n",
    "## 이상치 제거\n",
    "data = remove_outlier(data)\n",
    "\n",
    "# 사용할 모델에 따른 전처리\n",
    "if params.model_name == 'FTT':\n",
    "    ## 스케일러 생성\n",
    "    save_scaler(data, \n",
    "                columns.numeric_columns, \n",
    "                columns.target_column,\n",
    "                paths.X_scaler_path,\n",
    "                paths.y_scaler_path\n",
    "                )\n",
    "    ## 카테고리 컬럼 처리를 위한 라벨 인코딩\n",
    "    save_label_encoding(data, columns.category_columns, paths.label_encoding_path)\n",
    "\n",
    "    split_by_dbscan(data, 'casting/data/scaled_data/')\n",
    "else :\n",
    "    ## 데이터 분리\n",
    "    split_by_dbscan(data, 'casting/data/processed_data/')"
   ]
  },
  {
   "cell_type": "markdown",
   "metadata": {},
   "source": [
    "# 디지털 트윈 모델"
   ]
  },
  {
   "cell_type": "markdown",
   "metadata": {},
   "source": [
    "### 데이터 로드"
   ]
  },
  {
   "cell_type": "code",
   "execution_count": 5,
   "metadata": {},
   "outputs": [],
   "source": [
    "# EXT 사용\n",
    "train, valid, test = load_data(params.model_name)"
   ]
  },
  {
   "cell_type": "markdown",
   "metadata": {},
   "source": [
    "### 모델링"
   ]
  },
  {
   "cell_type": "code",
   "execution_count": 6,
   "metadata": {},
   "outputs": [],
   "source": [
    "# model_name에 일치하는 모델 학습\n",
    "if params.model_name == 'LGBM' :\n",
    "    model = train_lightgbm(train, valid)\n",
    "elif params.model_name == 'XGB' :\n",
    "    model = train_xgboost(train, valid)\n",
    "elif params.model_name == 'EXT' :\n",
    "    model = train_extra_trees(train, valid)\n",
    "elif params.model_name == 'TABNET' :\n",
    "    model = train_tabnet(train, valid)\n",
    "## GPU 환경 필수\n",
    "elif params.model_name == 'FTT' :\n",
    "    model = train_FTT(train, valid)"
   ]
  },
  {
   "cell_type": "markdown",
   "metadata": {},
   "source": [
    "### 추론"
   ]
  },
  {
   "cell_type": "code",
   "execution_count": 7,
   "metadata": {},
   "outputs": [
    {
     "data": {
      "image/png": "[encoded data removed]",
      "text/plain": [
       "<Figure size 432x288 with 1 Axes>"
      ]
     },
     "metadata": {
      "needs_background": "light"
     },
     "output_type": "display_data"
    },
    {
     "name": "stdout",
     "output_type": "stream",
     "text": [
      "F1 Score: 0.9188\n",
      "accuracy_score: 0.9935\n",
      "precision_score: 0.9565\n",
      "recall_score: 0.8839\n"
     ]
    }
   ],
   "source": [
    "# 혼동 행렬 계산\n",
    "\n",
    "## FTT 모델일때 inference\n",
    "if params.model_name == 'FTT' :\n",
    "    test_data = FttDataloader(test)\n",
    "    test_loader = DataLoader(test_data, batch_size=len(test), shuffle=False)\n",
    "\n",
    "    model.to(device)\n",
    "    model.eval()\n",
    "    all_pred = []\n",
    "    all_y = []\n",
    "    x_samples = []\n",
    "    with torch.no_grad():\n",
    "        cul_loss = 0  # SE\n",
    "        count = 0\n",
    "        for batch, (x_categ, x_numer, y) in enumerate(test_loader):\n",
    "            x_categ, x_numer, y = x_categ.to(device), x_numer.to(device), y.to(device)\n",
    "            # 예측 오류 계산\n",
    "            pred = model(x_categ, x_numer)\n",
    "            pred = pred.cpu().detach().numpy()\n",
    "            y = y.cpu().detach().numpy()\n",
    "            all_pred.extend(pred)\n",
    "            all_y.extend(y)\n",
    "\n",
    "    all_pred = np.array(all_pred)\n",
    "    all_y = np.array(all_y)\n",
    "\n",
    "    y_test = pd.DataFrame(np.array(all_y)) \n",
    "    y_pred = pd.DataFrame(np.array(all_pred)).round(1).astype(int)\n",
    "## 그외 모델일때\n",
    "else :\n",
    "\n",
    "    X_test, y_test = test[columns.input_columns], test[columns.target_column]\n",
    "    \n",
    "\n",
    "    y_pred = model.predict(X_test.values)\n",
    "    test_cm = confusion_matrix(y_test, y_pred)\n",
    "\n",
    "    # 혼동 행렬 계산\n",
    "    cm = confusion_matrix(y_test, y_pred)\n",
    "\n",
    "    # 혼동 행렬 시각화\n",
    "    plt.figure(figsize=(6, 4))\n",
    "    sns.heatmap(cm, annot=True, fmt='d', cmap='Blues', cbar=False)\n",
    "    plt.xlabel('Predicted Labels')\n",
    "    plt.ylabel('True Labels')\n",
    "    plt.title('Confusion Matrix')\n",
    "    plt.show()\n",
    "\n",
    "# 점수 계산\n",
    "f1 = f1_score(y_test, y_pred)\n",
    "print(f'F1 Score: {f1:.4f}')\n",
    "\n",
    "acc = accuracy_score(y_test, y_pred)\n",
    "print(f'accuracy_score: {acc:.4f}')\n",
    "\n",
    "ps = precision_score(y_test, y_pred)\n",
    "print(f'precision_score: {ps:.4f}')\n",
    "\n",
    "rs = recall_score(y_test, y_pred)\n",
    "print(f'recall_score: {rs:.4f}')\n"
   ]
  },
  {
   "cell_type": "markdown",
   "metadata": {},
   "source": [
    "# 최적화 알고리즘"
   ]
  },
  {
   "cell_type": "markdown",
   "metadata": {},
   "source": [
    "## Bayesian Optimization"
   ]
  },
  {
   "cell_type": "code",
   "execution_count": null,
   "metadata": {},
   "outputs": [
    {
     "name": "stderr",
     "output_type": "stream",
     "text": [
      "Optimizing parameters:   1%|          | 44/5420 [00:41<1:18:43,  1.14it/s]"
     ]
    }
   ],
   "source": [
    "# 최적화 실행\n",
    "optimizer = BayesianOptimizer(model, optimization)\n",
    "results = optimizer.optimize_batch(test.drop(columns.target_column, axis=1))"
   ]
  },
  {
   "cell_type": "code",
   "execution_count": null,
   "metadata": {},
   "outputs": [],
   "source": [
    "# results csv 각 데이터포인트의 최적화된 제어값과 예측값 저장\n",
    "# results.to_csv('/casting/results/action_bound_result', index=False)"
   ]
  },
  {
   "cell_type": "code",
   "execution_count": 4,
   "metadata": {},
   "outputs": [
    {
     "data": {
      "text/plain": [
       "Text(0.5, 1.0, 'upper_mold_temp2')"
      ]
     },
     "execution_count": 4,
     "metadata": {},
     "output_type": "execute_result"
    },
    {
     "data": {
      "image/png": "[encoded data removed]",
      "text/plain": [
       "<Figure size 864x288 with 3 Axes>"
      ]
     },
     "metadata": {
      "needs_background": "light"
     },
     "output_type": "display_data"
    }
   ],
   "source": [
    "# cast_pressure, lower_mold_temp2, upper_mold_temp2 제어값 분포 plot\n",
    "plt.figure(figsize=(12, 4))\n",
    "plt.subplot(1, 3, 1)\n",
    "\n",
    "sns.histplot(results['cast_pressure'], kde=True)\n",
    "plt.title('cast_pressure')\n",
    "\n",
    "plt.subplot(1, 3, 2)\n",
    "sns.histplot(results['lower_mold_temp2'], kde=True)\n",
    "plt.title('lower_mold_temp2')\n",
    "\n",
    "plt.subplot(1, 3, 3)\n",
    "sns.histplot(results['upper_mold_temp2'], kde=True)\n",
    "plt.title('upper_mold_temp2')\n",
    "\n",
    "\n",
    "\n"
   ]
  },
  {
   "cell_type": "code",
   "execution_count": 10,
   "metadata": {},
   "outputs": [],
   "source": [
    "## 최적화 결과 비교\n",
    "\n",
    "X_test_origin, y_test = test[columns.input_columns], test[columns.target_column]\n",
    "X_test = X_test_origin.copy()\n",
    "\n",
    "X_test['lower_mold_temp2'] = df['lower_mold_temp2']\n",
    "X_test['cast_pressure'] = df['cast_pressure']\n",
    "X_test['upper_mold_temp2'] = df['upper_mold_temp2']\n"
   ]
  },
  {
   "cell_type": "code",
   "execution_count": 11,
   "metadata": {},
   "outputs": [
    {
     "data": {
      "image/png": "[encoded data removed]",
      "text/plain": [
       "<Figure size 432x288 with 1 Axes>"
      ]
     },
     "metadata": {
      "needs_background": "light"
     },
     "output_type": "display_data"
    }
   ],
   "source": [
    "# 예측 결과 생성\n",
    "pred_origin = model.predict(X_test_origin)  # 기존 예측 결과\n",
    "pred_test = model.predict(X_test)  # 새로운 예측 결과\n",
    "\n",
    "# 각 예측 결과에서 0과 1의 개수 계산\n",
    "count_origin = [np.sum(pred_origin == 0), np.sum(pred_origin == 1)]\n",
    "count_test = [np.sum(pred_test == 0), np.sum(pred_test == 1)]\n",
    "\n",
    "# 막대 그래프 데이터 준비\n",
    "labels = ['0', '1']\n",
    "x = np.arange(len(labels))  # x축 위치\n",
    "\n",
    "# 그래프 그리기\n",
    "width = 0.35  # 막대 너비\n",
    "\n",
    "fig, ax = plt.subplots()\n",
    "bars1 = ax.bar(x - width/2, count_origin, width, label='기존 예측 결과')\n",
    "bars2 = ax.bar(x + width/2, count_test, width, label='최적화 후 예측 결과')\n",
    "\n",
    "# 라벨 추가\n",
    "ax.set_xlabel('예측 결과')\n",
    "ax.set_ylabel('개수')\n",
    "ax.set_title('0과 1의 예측 개수 비교')\n",
    "ax.set_xticks(x)\n",
    "ax.set_xticklabels(labels)\n",
    "ax.legend()\n",
    "\n",
    "# 각 막대에 값 표시\n",
    "for bar in bars1:\n",
    "    yval = bar.get_height()\n",
    "    ax.text(bar.get_x() + bar.get_width()/2, yval, int(yval), ha='center', va='bottom')\n",
    "\n",
    "for bar in bars2:\n",
    "    yval = bar.get_height()\n",
    "    ax.text(bar.get_x() + bar.get_width()/2, yval, int(yval), ha='center', va='bottom')\n",
    "\n",
    "plt.tight_layout()\n",
    "plt.show()\n"
   ]
  }
 ],
 "metadata": {
  "kernelspec": {
   "display_name": "Python 3 (ipykernel)",
   "language": "python",
   "name": "python3"
  }
 },
 "nbformat": 4,
 "nbformat_minor": 2
}
