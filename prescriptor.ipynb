{
 "cells": [
  {
   "cell_type": "code",
   "execution_count": 44,
   "metadata": {},
   "outputs": [
    {
     "data": {
      "text/html": [
       "<style>#sk-container-id-4 {color: black;}#sk-container-id-4 pre{padding: 0;}#sk-container-id-4 div.sk-toggleable {background-color: white;}#sk-container-id-4 label.sk-toggleable__label {cursor: pointer;display: block;width: 100%;margin-bottom: 0;padding: 0.3em;box-sizing: border-box;text-align: center;}#sk-container-id-4 label.sk-toggleable__label-arrow:before {content: \"▸\";float: left;margin-right: 0.25em;color: #696969;}#sk-container-id-4 label.sk-toggleable__label-arrow:hover:before {color: black;}#sk-container-id-4 div.sk-estimator:hover label.sk-toggleable__label-arrow:before {color: black;}#sk-container-id-4 div.sk-toggleable__content {max-height: 0;max-width: 0;overflow: hidden;text-align: left;background-color: #f0f8ff;}#sk-container-id-4 div.sk-toggleable__content pre {margin: 0.2em;color: black;border-radius: 0.25em;background-color: #f0f8ff;}#sk-container-id-4 input.sk-toggleable__control:checked~div.sk-toggleable__content {max-height: 200px;max-width: 100%;overflow: auto;}#sk-container-id-4 input.sk-toggleable__control:checked~label.sk-toggleable__label-arrow:before {content: \"▾\";}#sk-container-id-4 div.sk-estimator input.sk-toggleable__control:checked~label.sk-toggleable__label {background-color: #d4ebff;}#sk-container-id-4 div.sk-label input.sk-toggleable__control:checked~label.sk-toggleable__label {background-color: #d4ebff;}#sk-container-id-4 input.sk-hidden--visually {border: 0;clip: rect(1px 1px 1px 1px);clip: rect(1px, 1px, 1px, 1px);height: 1px;margin: -1px;overflow: hidden;padding: 0;position: absolute;width: 1px;}#sk-container-id-4 div.sk-estimator {font-family: monospace;background-color: #f0f8ff;border: 1px dotted black;border-radius: 0.25em;box-sizing: border-box;margin-bottom: 0.5em;}#sk-container-id-4 div.sk-estimator:hover {background-color: #d4ebff;}#sk-container-id-4 div.sk-parallel-item::after {content: \"\";width: 100%;border-bottom: 1px solid gray;flex-grow: 1;}#sk-container-id-4 div.sk-label:hover label.sk-toggleable__label {background-color: #d4ebff;}#sk-container-id-4 div.sk-serial::before {content: \"\";position: absolute;border-left: 1px solid gray;box-sizing: border-box;top: 0;bottom: 0;left: 50%;z-index: 0;}#sk-container-id-4 div.sk-serial {display: flex;flex-direction: column;align-items: center;background-color: white;padding-right: 0.2em;padding-left: 0.2em;position: relative;}#sk-container-id-4 div.sk-item {position: relative;z-index: 1;}#sk-container-id-4 div.sk-parallel {display: flex;align-items: stretch;justify-content: center;background-color: white;position: relative;}#sk-container-id-4 div.sk-item::before, #sk-container-id-4 div.sk-parallel-item::before {content: \"\";position: absolute;border-left: 1px solid gray;box-sizing: border-box;top: 0;bottom: 0;left: 50%;z-index: -1;}#sk-container-id-4 div.sk-parallel-item {display: flex;flex-direction: column;z-index: 1;position: relative;background-color: white;}#sk-container-id-4 div.sk-parallel-item:first-child::after {align-self: flex-end;width: 50%;}#sk-container-id-4 div.sk-parallel-item:last-child::after {align-self: flex-start;width: 50%;}#sk-container-id-4 div.sk-parallel-item:only-child::after {width: 0;}#sk-container-id-4 div.sk-dashed-wrapped {border: 1px dashed gray;margin: 0 0.4em 0.5em 0.4em;box-sizing: border-box;padding-bottom: 0.4em;background-color: white;}#sk-container-id-4 div.sk-label label {font-family: monospace;font-weight: bold;display: inline-block;line-height: 1.2em;}#sk-container-id-4 div.sk-label-container {text-align: center;}#sk-container-id-4 div.sk-container {/* jupyter's `normalize.less` sets `[hidden] { display: none; }` but bootstrap.min.css set `[hidden] { display: none !important; }` so we also need the `!important` here to be able to override the default hidden behavior on the sphinx rendered scikit-learn.org. See: https://github.com/scikit-learn/scikit-learn/issues/21755 */display: inline-block !important;position: relative;}#sk-container-id-4 div.sk-text-repr-fallback {display: none;}</style><div id=\"sk-container-id-4\" class=\"sk-top-container\"><div class=\"sk-text-repr-fallback\"><pre>RandomForestClassifier(random_state=42)</pre><b>In a Jupyter environment, please rerun this cell to show the HTML representation or trust the notebook. <br />On GitHub, the HTML representation is unable to render, please try loading this page with nbviewer.org.</b></div><div class=\"sk-container\" hidden><div class=\"sk-item\"><div class=\"sk-estimator sk-toggleable\"><input class=\"sk-toggleable__control sk-hidden--visually\" id=\"sk-estimator-id-4\" type=\"checkbox\" checked><label for=\"sk-estimator-id-4\" class=\"sk-toggleable__label sk-toggleable__label-arrow\">RandomForestClassifier</label><div class=\"sk-toggleable__content\"><pre>RandomForestClassifier(random_state=42)</pre></div></div></div></div></div>"
      ],
      "text/plain": [
       "RandomForestClassifier(random_state=42)"
      ]
     },
     "execution_count": 44,
     "metadata": {},
     "output_type": "execute_result"
    }
   ],
   "source": [
    "# X, y = load_iris(return_X_y=True)\n",
    "import numpy as np\n",
    "import random\n",
    "import numpy as np\n",
    "import pandas as pd\n",
    "from sklearn.ensemble import RandomForestClassifier\n",
    "import warnings\n",
    "warnings.filterwarnings(action='ignore')\n",
    "\n",
    "data = {\n",
    "    'a': np.random.rand(100),\n",
    "    'b': np.random.rand(100),\n",
    "    'c': np.random.rand(100),\n",
    "    'd': np.random.rand(100),\n",
    "    'e': np.random.rand(100),\n",
    "    'output': np.random.randint(0, 2, size=100)  # 0 또는 1로 구성된 output\n",
    "}\n",
    "df = pd.DataFrame(data)\n",
    "\n",
    "# 데이터 분할\n",
    "X = df[['a', 'b', 'c', 'd', 'e']]  # 입력 특성\n",
    "y = df['output'].values                # 출력\n",
    "\n",
    "# 모델 학습\n",
    "model = RandomForestClassifier(random_state=42)\n",
    "model.fit(X, y)"
   ]
  },
  {
   "cell_type": "code",
   "execution_count": 50,
   "metadata": {},
   "outputs": [
    {
     "name": "stdout",
     "output_type": "stream",
     "text": [
      "초기해: [-0.0173442  -0.0299029  -0.03184028 -0.02394559 -0.00135439  0.02885312\n",
      "  0.01387212 -0.01453634 -0.04099116 -0.02566371 -0.02042578 -0.01662277\n",
      " -0.02689533 -0.03489445 -0.03144247 -0.00704461 -0.01300532 -0.00804371\n",
      " -0.01727243 -0.00371141  0.04232186 -0.04666434 -0.01818964 -0.02561574\n",
      "  0.01429357 -0.03080894  0.02670543  0.0344072   0.03536562 -0.03082276\n",
      " -0.03213884  0.03795031 -0.04033969  0.04245244 -0.03191641 -0.02379588\n",
      " -0.01703439 -0.00349829  0.01851216  0.03075957 -0.04548052  0.01520417\n",
      "  0.02708703  0.00972425 -0.0361424   0.00667708  0.01742589 -0.00255974\n",
      " -0.04463391  0.01295226  0.04731663 -0.03372255  0.02297494  0.01057085\n",
      "  0.00236863 -0.04003211  0.0314647  -0.04202779  0.00956071 -0.01854754\n",
      "  0.01581664 -0.035529    0.02177403 -0.01051023 -0.00215613  0.0084398\n",
      " -0.00802446 -0.00520338 -0.01293926  0.00200826 -0.00414021  0.0497369\n",
      " -0.02491708 -0.02277673  0.02168394 -0.03192796  0.03570721 -0.01596304\n",
      " -0.00749679  0.00463356 -0.01563292 -0.0390895   0.02706432  0.02559637\n",
      "  0.00487763  0.03152221  0.04126188  0.0272562   0.02303593  0.04786662\n",
      " -0.0114175   0.03337267  0.01432661  0.04107546  0.04823618  0.03470186\n",
      " -0.0174527   0.02303057 -0.04110508  0.00129562], 초기 에너지: 0.58\n",
      "최적해: [-0.0173442  -0.0299029  -0.03184028 -0.02394559 -0.00135439  0.02885312\n",
      "  0.01387212 -0.01453634 -0.04099116 -0.02566371 -0.02042578 -0.01662277\n",
      " -0.02689533 -0.03489445 -0.03144247 -0.00704461 -0.01300532 -0.00804371\n",
      " -0.01727243 -0.00371141  0.04232186 -0.04666434 -0.01818964 -0.02561574\n",
      "  0.01429357 -0.03080894  0.02670543  0.0344072   0.03536562 -0.03082276\n",
      " -0.03213884  0.03795031 -0.04033969  0.04245244 -0.03191641 -0.02379588\n",
      " -0.01703439 -0.00349829  0.01851216  0.03075957 -0.04548052  0.01520417\n",
      "  0.02708703  0.00972425 -0.0361424   0.00667708  0.01742589 -0.00255974\n",
      " -0.04463391  0.01295226  0.04731663 -0.03372255  0.02297494  0.01057085\n",
      "  0.00236863 -0.04003211  0.0314647  -0.04202779  0.00956071 -0.01854754\n",
      "  0.01581664 -0.035529    0.02177403 -0.01051023 -0.00215613  0.0084398\n",
      " -0.00802446 -0.00520338 -0.01293926  0.00200826 -0.00414021  0.0497369\n",
      " -0.02491708 -0.02277673  0.02168394 -0.03192796  0.03570721 -0.01596304\n",
      " -0.00749679  0.00463356 -0.01563292 -0.0390895   0.02706432  0.02559637\n",
      "  0.00487763  0.03152221  0.04126188  0.0272562   0.02303593  0.04786662\n",
      " -0.0114175   0.03337267  0.01432661  0.04107546  0.04823618  0.03470186\n",
      " -0.0174527   0.02303057 -0.04110508  0.00129562], 최적 에너지: 0.58\n"
     ]
    }
   ],
   "source": [
    "import numpy as np\n",
    "import random\n",
    "\n",
    "def objective_function(solution):\n",
    "    X['a'] += solution\n",
    "    return model.predict(X).mean()  # 최적화할 함수 (예: x^2)\n",
    "\n",
    "def simulated_annealing(initial_temp, cooling_rate, max_iterations):\n",
    "    # 초기 해와 최적해 변수\n",
    "    current_solution = np.random.uniform(-0.05, 0.05, 100)  # 초기 해\n",
    "    current_energy = objective_function(current_solution)  # 초기 에너지\n",
    "\n",
    "    best_solution = current_solution\n",
    "    best_energy = current_energy\n",
    "\n",
    "    temp = initial_temp\n",
    "\n",
    "    for _ in range(max_iterations):\n",
    "        # 이웃 해 생성\n",
    "        new_solution = current_solution + np.random.uniform(-0.01, 0.01, 100)  # 초기 해\n",
    "        new_energy = objective_function(new_solution)\n",
    "\n",
    "        # 새로운 해 수용 조건 (결과가 더 작아질 때만 수용)\n",
    "        if new_energy < current_energy:\n",
    "            current_solution = new_solution\n",
    "            current_energy = new_energy\n",
    "\n",
    "            # 최적해 업데이트\n",
    "            if current_energy < best_energy:\n",
    "                best_solution = current_solution\n",
    "                best_energy = current_energy\n",
    "\n",
    "        # 온도 감소\n",
    "        temp *= cooling_rate\n",
    "\n",
    "    return current_solution, current_energy, best_solution, best_energy\n",
    "\n",
    "# 파라미터 설정\n",
    "initial_temperature = 1000\n",
    "cooling_rate = 0.99\n",
    "max_iterations = 1000\n",
    "\n",
    "# Simulated Annealing 실행\n",
    "current_solution, current_energy, best_solution, best_energy = simulated_annealing(initial_temperature, cooling_rate, max_iterations)\n",
    "print(f\"초기해: {current_solution}, 초기 에너지: {current_energy}\")\n",
    "print(f\"최적해: {best_solution}, 최적 에너지: {best_energy}\")\n"
   ]
  },
  {
   "cell_type": "code",
   "execution_count": null,
   "metadata": {},
   "outputs": [],
   "source": []
  }
 ],
 "metadata": {
  "kernelspec": {
   "display_name": "Python 3",
   "language": "python",
   "name": "python3"
  },
  "language_info": {
   "codemirror_mode": {
    "name": "ipython",
    "version": 3
   },
   "file_extension": ".py",
   "mimetype": "text/x-python",
   "name": "python",
   "nbconvert_exporter": "python",
   "pygments_lexer": "ipython3",
   "version": "3.8.13"
  }
 },
 "nbformat": 4,
 "nbformat_minor": 2
}
